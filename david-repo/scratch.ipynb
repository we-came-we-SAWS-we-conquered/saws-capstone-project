{
 "cells": [
  {
   "cell_type": "code",
   "execution_count": 1,
   "metadata": {},
   "outputs": [],
   "source": [
    "import pandas as pd\n",
    "import numpy as np\n",
    "import matplotlib.pyplot as plt\n",
    "import seaborn as sns\n",
    "import os.path\n",
    "import acquire\n",
    "import prepare\n",
    "import geopy\n",
    "from geopy.geocoders import Nominatim\n",
    "import re\n",
    "from datetime import timedelta, datetime\n",
    "\n",
    "%matplotlib inline"
   ]
  },
  {
   "cell_type": "code",
   "execution_count": null,
   "metadata": {},
   "outputs": [],
   "source": [
    "url_data_dict_311 = 'https://data.sanantonio.gov/dataset/93b0e7ee-3a55-4aa9-b27b-d1817e91aec3/resource/0eab0cfc-a114-4064-9f25-d088d8ac46a3/download/datadictionary-311.xlsx'\n",
    "data_dictionary_311_new = pd.read_excel(url_data_dict_311, header=2)"
   ]
  },
  {
   "cell_type": "code",
   "execution_count": 2,
   "metadata": {},
   "outputs": [],
   "source": [
    "df_311 = acquire.acquire_311()"
   ]
  },
  {
   "cell_type": "code",
   "execution_count": null,
   "metadata": {},
   "outputs": [],
   "source": [
    "df_weather = acquire.acquire_weather()\n",
    "df_weather.sample(19)"
   ]
  },
  {
   "cell_type": "code",
   "execution_count": null,
   "metadata": {},
   "outputs": [],
   "source": [
    "df_sso = acquire.acquire_sso()"
   ]
  },
  {
   "cell_type": "markdown",
   "metadata": {},
   "source": [
    "## Prepare"
   ]
  },
  {
   "cell_type": "markdown",
   "metadata": {},
   "source": [
    "## Get 311 for prepare"
   ]
  },
  {
   "cell_type": "code",
   "execution_count": 3,
   "metadata": {},
   "outputs": [],
   "source": [
    "df_311 = prepare.prepare_311(df_311)"
   ]
  },
  {
   "cell_type": "code",
   "execution_count": null,
   "metadata": {},
   "outputs": [],
   "source": [
    "df_311.category.value_counts()"
   ]
  },
  {
   "cell_type": "code",
   "execution_count": 4,
   "metadata": {},
   "outputs": [
    {
     "name": "stdout",
     "output_type": "stream",
     "text": [
      "<class 'pandas.core.frame.DataFrame'>\n",
      "RangeIndex: 571737 entries, 0 to 571736\n",
      "Data columns (total 19 columns):\n",
      " #   Column                          Non-Null Count   Dtype          \n",
      "---  ------                          --------------   -----          \n",
      " 0   category                        571737 non-null  object         \n",
      " 1   case_id                         571737 non-null  int64          \n",
      " 2   late                            571737 non-null  object         \n",
      " 3   dept                            529331 non-null  object         \n",
      " 4   reason_name                     571737 non-null  object         \n",
      " 5   event_name                      571737 non-null  object         \n",
      " 6   case_status                     571737 non-null  object         \n",
      " 7   sourceid                        571737 non-null  object         \n",
      " 8   event_address                   571737 non-null  object         \n",
      " 9   council_district                571737 non-null  int64          \n",
      " 10  report_start_date               571737 non-null  object         \n",
      " 11  report_ending_date              571737 non-null  object         \n",
      " 12  zip_code                        482264 non-null  object         \n",
      " 13  reported_date                   571737 non-null  datetime64[ns] \n",
      " 14  closed_date                     571737 non-null  datetime64[ns] \n",
      " 15  due_date                        571737 non-null  datetime64[ns] \n",
      " 16  case_days_length                571737 non-null  timedelta64[ns]\n",
      " 17  report_to_assigned_days_length  571737 non-null  timedelta64[ns]\n",
      " 18  days_past_due_length            571737 non-null  timedelta64[ns]\n",
      "dtypes: datetime64[ns](3), int64(2), object(11), timedelta64[ns](3)\n",
      "memory usage: 82.9+ MB\n"
     ]
    }
   ],
   "source": [
    "df_311.info()"
   ]
  },
  {
   "cell_type": "code",
   "execution_count": 5,
   "metadata": {},
   "outputs": [
    {
     "data": {
      "text/plain": [
       "(571737, 19)"
      ]
     },
     "execution_count": 5,
     "metadata": {},
     "output_type": "execute_result"
    }
   ],
   "source": [
    "df_311.shape"
   ]
  },
  {
   "cell_type": "code",
   "execution_count": null,
   "metadata": {},
   "outputs": [],
   "source": [
    "df_sso.head(3)"
   ]
  },
  {
   "cell_type": "code",
   "execution_count": null,
   "metadata": {},
   "outputs": [],
   "source": [
    "df_sso['full_address'] = df_sso.SPILL_ST_NAME.astype(str) + ', San Antonio, Texas'"
   ]
  },
  {
   "cell_type": "code",
   "execution_count": null,
   "metadata": {},
   "outputs": [],
   "source": [
    "df_311.case_days_length.plot()"
   ]
  },
  {
   "cell_type": "code",
   "execution_count": 7,
   "metadata": {},
   "outputs": [
    {
     "data": {
      "text/plain": [
       "89473"
      ]
     },
     "execution_count": 7,
     "metadata": {},
     "output_type": "execute_result"
    }
   ],
   "source": [
    "df_311.zip_code.isna().sum()"
   ]
  },
  {
   "cell_type": "code",
   "execution_count": 53,
   "metadata": {},
   "outputs": [
    {
     "data": {
      "text/html": [
       "<div>\n",
       "<style scoped>\n",
       "    .dataframe tbody tr th:only-of-type {\n",
       "        vertical-align: middle;\n",
       "    }\n",
       "\n",
       "    .dataframe tbody tr th {\n",
       "        vertical-align: top;\n",
       "    }\n",
       "\n",
       "    .dataframe thead th {\n",
       "        text-align: right;\n",
       "    }\n",
       "</style>\n",
       "<table border=\"1\" class=\"dataframe\">\n",
       "  <thead>\n",
       "    <tr style=\"text-align: right;\">\n",
       "      <th></th>\n",
       "      <th>category</th>\n",
       "      <th>case_id</th>\n",
       "      <th>late</th>\n",
       "      <th>dept</th>\n",
       "      <th>reason_name</th>\n",
       "      <th>event_name</th>\n",
       "      <th>case_status</th>\n",
       "      <th>sourceid</th>\n",
       "      <th>event_address</th>\n",
       "      <th>council_district</th>\n",
       "      <th>report_start_date</th>\n",
       "      <th>report_ending_date</th>\n",
       "      <th>zip_code</th>\n",
       "      <th>reported_date</th>\n",
       "      <th>closed_date</th>\n",
       "      <th>due_date</th>\n",
       "      <th>case_days_length</th>\n",
       "      <th>report_to_assigned_days_length</th>\n",
       "      <th>days_past_due_length</th>\n",
       "    </tr>\n",
       "  </thead>\n",
       "  <tbody>\n",
       "    <tr>\n",
       "      <th>0</th>\n",
       "      <td>Streets &amp; Infrastructure</td>\n",
       "      <td>1010126853</td>\n",
       "      <td>YES</td>\n",
       "      <td>Trans &amp; Cap Improvements</td>\n",
       "      <td>Storm Water</td>\n",
       "      <td>Tree Fallen</td>\n",
       "      <td>Closed</td>\n",
       "      <td>Constituent Call</td>\n",
       "      <td>ELM CREEK and WURZBACH RD</td>\n",
       "      <td>8</td>\n",
       "      <td>6/13/2019</td>\n",
       "      <td>6/13/2020</td>\n",
       "      <td>NaN</td>\n",
       "      <td>2011-12-10</td>\n",
       "      <td>2020-03-05 00:00:00.000000</td>\n",
       "      <td>2011-12-11</td>\n",
       "      <td>3008 days 00:00:00</td>\n",
       "      <td>1 days</td>\n",
       "      <td>3007 days 00:00:00</td>\n",
       "    </tr>\n",
       "    <tr>\n",
       "      <th>1</th>\n",
       "      <td>Streets &amp; Infrastructure</td>\n",
       "      <td>1010126880</td>\n",
       "      <td>YES</td>\n",
       "      <td>Trans &amp; Cap Improvements</td>\n",
       "      <td>Streets</td>\n",
       "      <td>Barricade - Misc. Special Event/Emergency</td>\n",
       "      <td>Closed</td>\n",
       "      <td>Constituent Call</td>\n",
       "      <td>1600  CENTENNIAL BV, San Antonio, 78211</td>\n",
       "      <td>5</td>\n",
       "      <td>6/13/2019</td>\n",
       "      <td>6/13/2020</td>\n",
       "      <td>78211</td>\n",
       "      <td>2011-12-10</td>\n",
       "      <td>2020-03-05 00:00:00.000000</td>\n",
       "      <td>2011-12-13</td>\n",
       "      <td>3008 days 00:00:00</td>\n",
       "      <td>3 days</td>\n",
       "      <td>3005 days 00:00:00</td>\n",
       "    </tr>\n",
       "    <tr>\n",
       "      <th>2</th>\n",
       "      <td>Information</td>\n",
       "      <td>1010338011</td>\n",
       "      <td>NO</td>\n",
       "      <td>Knowledge Management</td>\n",
       "      <td>Knowledge</td>\n",
       "      <td>Knowledge Solution Extra</td>\n",
       "      <td>Closed</td>\n",
       "      <td>Constituent Call</td>\n",
       "      <td>310  ROOSEVELT AV, San Antonio, 78210</td>\n",
       "      <td>5</td>\n",
       "      <td>6/13/2019</td>\n",
       "      <td>6/13/2020</td>\n",
       "      <td>78210</td>\n",
       "      <td>2012-05-25</td>\n",
       "      <td>2020-01-27 00:00:00.000000</td>\n",
       "      <td>2012-05-25</td>\n",
       "      <td>2803 days 00:00:00</td>\n",
       "      <td>0 days</td>\n",
       "      <td>2803 days 00:00:00</td>\n",
       "    </tr>\n",
       "    <tr>\n",
       "      <th>3</th>\n",
       "      <td>Graffiti</td>\n",
       "      <td>1010444245</td>\n",
       "      <td>YES</td>\n",
       "      <td>Code Enforcement Services</td>\n",
       "      <td>Graffiti</td>\n",
       "      <td>Graffiti Public Property</td>\n",
       "      <td>Open</td>\n",
       "      <td>Web Portal</td>\n",
       "      <td>600  NOGALITOS ST, San Antonio, 78204</td>\n",
       "      <td>5</td>\n",
       "      <td>6/13/2019</td>\n",
       "      <td>6/13/2020</td>\n",
       "      <td>78204</td>\n",
       "      <td>2012-08-15</td>\n",
       "      <td>2020-06-21 12:41:39.612820</td>\n",
       "      <td>2012-08-30</td>\n",
       "      <td>2867 days 12:41:39.612820</td>\n",
       "      <td>15 days</td>\n",
       "      <td>2852 days 12:41:39.612820</td>\n",
       "    </tr>\n",
       "    <tr>\n",
       "      <th>4</th>\n",
       "      <td>Property Maintenance</td>\n",
       "      <td>1010888252</td>\n",
       "      <td>YES</td>\n",
       "      <td>Code Enforcement Services</td>\n",
       "      <td>Code Enforcement (IntExp)</td>\n",
       "      <td>Alley-Way Maintenance</td>\n",
       "      <td>Open</td>\n",
       "      <td>Web Portal</td>\n",
       "      <td>6043  CASTLE QUEEN, San Antonio, 78218</td>\n",
       "      <td>2</td>\n",
       "      <td>6/13/2019</td>\n",
       "      <td>6/13/2020</td>\n",
       "      <td>78218</td>\n",
       "      <td>2013-06-06</td>\n",
       "      <td>2020-06-21 12:41:39.612820</td>\n",
       "      <td>2013-08-09</td>\n",
       "      <td>2572 days 12:41:39.612820</td>\n",
       "      <td>64 days</td>\n",
       "      <td>2508 days 12:41:39.612820</td>\n",
       "    </tr>\n",
       "  </tbody>\n",
       "</table>\n",
       "</div>"
      ],
      "text/plain": [
       "                   category     case_id late                       dept  \\\n",
       "0  Streets & Infrastructure  1010126853  YES   Trans & Cap Improvements   \n",
       "1  Streets & Infrastructure  1010126880  YES   Trans & Cap Improvements   \n",
       "2               Information  1010338011   NO       Knowledge Management   \n",
       "3                  Graffiti  1010444245  YES  Code Enforcement Services   \n",
       "4      Property Maintenance  1010888252  YES  Code Enforcement Services   \n",
       "\n",
       "                 reason_name                                 event_name  \\\n",
       "0                Storm Water                                Tree Fallen   \n",
       "1                    Streets  Barricade - Misc. Special Event/Emergency   \n",
       "2                  Knowledge                   Knowledge Solution Extra   \n",
       "3                   Graffiti                   Graffiti Public Property   \n",
       "4  Code Enforcement (IntExp)                      Alley-Way Maintenance   \n",
       "\n",
       "  case_status          sourceid                            event_address  \\\n",
       "0      Closed  Constituent Call                ELM CREEK and WURZBACH RD   \n",
       "1      Closed  Constituent Call  1600  CENTENNIAL BV, San Antonio, 78211   \n",
       "2      Closed  Constituent Call    310  ROOSEVELT AV, San Antonio, 78210   \n",
       "3        Open        Web Portal    600  NOGALITOS ST, San Antonio, 78204   \n",
       "4        Open        Web Portal   6043  CASTLE QUEEN, San Antonio, 78218   \n",
       "\n",
       "   council_district report_start_date report_ending_date zip_code  \\\n",
       "0                 8         6/13/2019          6/13/2020      NaN   \n",
       "1                 5         6/13/2019          6/13/2020    78211   \n",
       "2                 5         6/13/2019          6/13/2020    78210   \n",
       "3                 5         6/13/2019          6/13/2020    78204   \n",
       "4                 2         6/13/2019          6/13/2020    78218   \n",
       "\n",
       "  reported_date                closed_date   due_date  \\\n",
       "0    2011-12-10 2020-03-05 00:00:00.000000 2011-12-11   \n",
       "1    2011-12-10 2020-03-05 00:00:00.000000 2011-12-13   \n",
       "2    2012-05-25 2020-01-27 00:00:00.000000 2012-05-25   \n",
       "3    2012-08-15 2020-06-21 12:41:39.612820 2012-08-30   \n",
       "4    2013-06-06 2020-06-21 12:41:39.612820 2013-08-09   \n",
       "\n",
       "           case_days_length report_to_assigned_days_length  \\\n",
       "0        3008 days 00:00:00                         1 days   \n",
       "1        3008 days 00:00:00                         3 days   \n",
       "2        2803 days 00:00:00                         0 days   \n",
       "3 2867 days 12:41:39.612820                        15 days   \n",
       "4 2572 days 12:41:39.612820                        64 days   \n",
       "\n",
       "       days_past_due_length  \n",
       "0        3007 days 00:00:00  \n",
       "1        3005 days 00:00:00  \n",
       "2        2803 days 00:00:00  \n",
       "3 2852 days 12:41:39.612820  \n",
       "4 2508 days 12:41:39.612820  "
      ]
     },
     "execution_count": 53,
     "metadata": {},
     "output_type": "execute_result"
    }
   ],
   "source": [
    "df_311.head()"
   ]
  },
  {
   "cell_type": "code",
   "execution_count": 8,
   "metadata": {},
   "outputs": [
    {
     "name": "stdout",
     "output_type": "stream",
     "text": [
      "Stops_LatLong_GeocodeData_2020.csv  prepare.py\n",
      "\u001b[34m__pycache__\u001b[m\u001b[m/                        scratch.ipynb\n",
      "acquire.py                          sso_data.csv\n",
      "data_311.csv                        weather_data.csv\n"
     ]
    }
   ],
   "source": [
    "ls"
   ]
  },
  {
   "cell_type": "code",
   "execution_count": 65,
   "metadata": {},
   "outputs": [],
   "source": [
    "lat_n_lon = pd.read_csv('Stops_LatLong_GeocodeData_2020.csv')"
   ]
  },
  {
   "cell_type": "code",
   "execution_count": 66,
   "metadata": {},
   "outputs": [
    {
     "name": "stdout",
     "output_type": "stream",
     "text": [
      "<class 'pandas.core.frame.DataFrame'>\n",
      "RangeIndex: 9859 entries, 0 to 9858\n",
      "Data columns (total 7 columns):\n",
      " #   Column        Non-Null Count  Dtype  \n",
      "---  ------        --------------  -----  \n",
      " 0   StopNumber    9859 non-null   object \n",
      " 1   Location      9859 non-null   object \n",
      " 2   StreetNumber  9715 non-null   float64\n",
      " 3   Street        9854 non-null   object \n",
      " 4   City          9854 non-null   object \n",
      " 5   State         9854 non-null   object \n",
      " 6   Zip           9854 non-null   float64\n",
      "dtypes: float64(2), object(5)\n",
      "memory usage: 539.3+ KB\n"
     ]
    }
   ],
   "source": [
    "lat_n_lon.info()"
   ]
  },
  {
   "cell_type": "code",
   "execution_count": 67,
   "metadata": {},
   "outputs": [
    {
     "data": {
      "text/plain": [
       "144"
      ]
     },
     "execution_count": 67,
     "metadata": {},
     "output_type": "execute_result"
    }
   ],
   "source": [
    "(lat_n_lon.StreetNumber.isna() == True).sum()"
   ]
  },
  {
   "cell_type": "code",
   "execution_count": 68,
   "metadata": {},
   "outputs": [],
   "source": [
    "lat_n_lon['Zip'] = lat_n_lon.Zip.fillna(0)"
   ]
  },
  {
   "cell_type": "code",
   "execution_count": 69,
   "metadata": {},
   "outputs": [
    {
     "data": {
      "text/plain": [
       "(9859, 7)"
      ]
     },
     "execution_count": 69,
     "metadata": {},
     "output_type": "execute_result"
    }
   ],
   "source": [
    "lat_n_lon.shape"
   ]
  },
  {
   "cell_type": "code",
   "execution_count": 70,
   "metadata": {},
   "outputs": [],
   "source": [
    "lat_n_lon.drop(columns=(['StopNumber', 'StreetNumber']), inplace=True)"
   ]
  },
  {
   "cell_type": "code",
   "execution_count": 71,
   "metadata": {},
   "outputs": [],
   "source": [
    "lat_n_lon['Location'] = lat_n_lon.Location.str.replace('&', 'and')"
   ]
  },
  {
   "cell_type": "code",
   "execution_count": 72,
   "metadata": {},
   "outputs": [
    {
     "data": {
      "text/html": [
       "<div>\n",
       "<style scoped>\n",
       "    .dataframe tbody tr th:only-of-type {\n",
       "        vertical-align: middle;\n",
       "    }\n",
       "\n",
       "    .dataframe tbody tr th {\n",
       "        vertical-align: top;\n",
       "    }\n",
       "\n",
       "    .dataframe thead th {\n",
       "        text-align: right;\n",
       "    }\n",
       "</style>\n",
       "<table border=\"1\" class=\"dataframe\">\n",
       "  <thead>\n",
       "    <tr style=\"text-align: right;\">\n",
       "      <th></th>\n",
       "      <th>Location</th>\n",
       "      <th>Street</th>\n",
       "      <th>City</th>\n",
       "      <th>State</th>\n",
       "      <th>Zip</th>\n",
       "    </tr>\n",
       "  </thead>\n",
       "  <tbody>\n",
       "    <tr>\n",
       "      <th>6655</th>\n",
       "      <td>HENDERSON PASS BTW.1000 OAKS/R OAKS</td>\n",
       "      <td>Thousand Oaks Dr</td>\n",
       "      <td>San Antonio</td>\n",
       "      <td>TX</td>\n",
       "      <td>78232.0</td>\n",
       "    </tr>\n",
       "    <tr>\n",
       "      <th>938</th>\n",
       "      <td>CLASSEN RD. AND MISTY GLADE</td>\n",
       "      <td>Dulce Creek Dr</td>\n",
       "      <td>San Antonio</td>\n",
       "      <td>TX</td>\n",
       "      <td>78247.0</td>\n",
       "    </tr>\n",
       "    <tr>\n",
       "      <th>2287</th>\n",
       "      <td>LOOP 410 N ACCESS RD. and HWY. 151</td>\n",
       "      <td>I 410</td>\n",
       "      <td>San Antonio</td>\n",
       "      <td>TX</td>\n",
       "      <td>78238.0</td>\n",
       "    </tr>\n",
       "    <tr>\n",
       "      <th>7771</th>\n",
       "      <td>BLANCO AND WEST AVE.</td>\n",
       "      <td>Blanco Rd</td>\n",
       "      <td>San Antonio</td>\n",
       "      <td>TX</td>\n",
       "      <td>78216.0</td>\n",
       "    </tr>\n",
       "    <tr>\n",
       "      <th>5664</th>\n",
       "      <td>IH-35 N ACCESS RD. and EVANS RD.</td>\n",
       "      <td>N Evans Rd</td>\n",
       "      <td>Selma</td>\n",
       "      <td>TX</td>\n",
       "      <td>78154.0</td>\n",
       "    </tr>\n",
       "    <tr>\n",
       "      <th>5348</th>\n",
       "      <td>EISENHAUER AND CHEVY CHASE</td>\n",
       "      <td>Bethencourt</td>\n",
       "      <td>San Antonio</td>\n",
       "      <td>TX</td>\n",
       "      <td>78209.0</td>\n",
       "    </tr>\n",
       "    <tr>\n",
       "      <th>2030</th>\n",
       "      <td>BRIGHT VALLEY IN FRONT OF 6103</td>\n",
       "      <td>Bright Vly</td>\n",
       "      <td>San Antonio</td>\n",
       "      <td>TX</td>\n",
       "      <td>78242.0</td>\n",
       "    </tr>\n",
       "    <tr>\n",
       "      <th>7700</th>\n",
       "      <td>SAN PEDRO and ELMIRA</td>\n",
       "      <td>San Pedro Ave</td>\n",
       "      <td>San Antonio</td>\n",
       "      <td>TX</td>\n",
       "      <td>78205.0</td>\n",
       "    </tr>\n",
       "    <tr>\n",
       "      <th>329</th>\n",
       "      <td>BROADWAY IN FRONT OF ATandT BLDG.</td>\n",
       "      <td>Broadway</td>\n",
       "      <td>San Antonio</td>\n",
       "      <td>TX</td>\n",
       "      <td>78209.0</td>\n",
       "    </tr>\n",
       "    <tr>\n",
       "      <th>6021</th>\n",
       "      <td>WORTH AND STANLEY</td>\n",
       "      <td>Stanley Rd</td>\n",
       "      <td>Jbsa Ft Sam Houston</td>\n",
       "      <td>TX</td>\n",
       "      <td>78234.0</td>\n",
       "    </tr>\n",
       "  </tbody>\n",
       "</table>\n",
       "</div>"
      ],
      "text/plain": [
       "                                 Location            Street  \\\n",
       "6655  HENDERSON PASS BTW.1000 OAKS/R OAKS  Thousand Oaks Dr   \n",
       "938           CLASSEN RD. AND MISTY GLADE    Dulce Creek Dr   \n",
       "2287   LOOP 410 N ACCESS RD. and HWY. 151             I 410   \n",
       "7771                 BLANCO AND WEST AVE.         Blanco Rd   \n",
       "5664     IH-35 N ACCESS RD. and EVANS RD.        N Evans Rd   \n",
       "5348           EISENHAUER AND CHEVY CHASE       Bethencourt   \n",
       "2030       BRIGHT VALLEY IN FRONT OF 6103        Bright Vly   \n",
       "7700                 SAN PEDRO and ELMIRA     San Pedro Ave   \n",
       "329     BROADWAY IN FRONT OF ATandT BLDG.          Broadway   \n",
       "6021                    WORTH AND STANLEY        Stanley Rd   \n",
       "\n",
       "                     City State      Zip  \n",
       "6655          San Antonio    TX  78232.0  \n",
       "938           San Antonio    TX  78247.0  \n",
       "2287          San Antonio    TX  78238.0  \n",
       "7771          San Antonio    TX  78216.0  \n",
       "5664                Selma    TX  78154.0  \n",
       "5348          San Antonio    TX  78209.0  \n",
       "2030          San Antonio    TX  78242.0  \n",
       "7700          San Antonio    TX  78205.0  \n",
       "329           San Antonio    TX  78209.0  \n",
       "6021  Jbsa Ft Sam Houston    TX  78234.0  "
      ]
     },
     "execution_count": 72,
     "metadata": {},
     "output_type": "execute_result"
    }
   ],
   "source": [
    "lat_n_lon.sample(10)"
   ]
  },
  {
   "cell_type": "code",
   "execution_count": 73,
   "metadata": {},
   "outputs": [
    {
     "data": {
      "text/html": [
       "<div>\n",
       "<style scoped>\n",
       "    .dataframe tbody tr th:only-of-type {\n",
       "        vertical-align: middle;\n",
       "    }\n",
       "\n",
       "    .dataframe tbody tr th {\n",
       "        vertical-align: top;\n",
       "    }\n",
       "\n",
       "    .dataframe thead th {\n",
       "        text-align: right;\n",
       "    }\n",
       "</style>\n",
       "<table border=\"1\" class=\"dataframe\">\n",
       "  <thead>\n",
       "    <tr style=\"text-align: right;\">\n",
       "      <th></th>\n",
       "      <th>Location</th>\n",
       "      <th>Street</th>\n",
       "      <th>City</th>\n",
       "      <th>State</th>\n",
       "      <th>Zip</th>\n",
       "    </tr>\n",
       "  </thead>\n",
       "  <tbody>\n",
       "    <tr>\n",
       "      <th>0</th>\n",
       "      <td>ST. MARY'S BETWEEN CONVENT and MART</td>\n",
       "      <td>N St Mary's St</td>\n",
       "      <td>San Antonio</td>\n",
       "      <td>TX</td>\n",
       "      <td>78205.0</td>\n",
       "    </tr>\n",
       "    <tr>\n",
       "      <th>1</th>\n",
       "      <td>ST. MARY'S and PECAN</td>\n",
       "      <td>E Pecan St</td>\n",
       "      <td>San Antonio</td>\n",
       "      <td>TX</td>\n",
       "      <td>78205.0</td>\n",
       "    </tr>\n",
       "    <tr>\n",
       "      <th>2</th>\n",
       "      <td>ST. MARY'S BETWEEN TRAVIS and HOUSTON</td>\n",
       "      <td>E Houston St</td>\n",
       "      <td>San Antonio</td>\n",
       "      <td>TX</td>\n",
       "      <td>78205.0</td>\n",
       "    </tr>\n",
       "    <tr>\n",
       "      <th>3</th>\n",
       "      <td>ST. MARY'S and COMMERCE</td>\n",
       "      <td>S St Mary's St</td>\n",
       "      <td>San Antonio</td>\n",
       "      <td>TX</td>\n",
       "      <td>78205.0</td>\n",
       "    </tr>\n",
       "    <tr>\n",
       "      <th>4</th>\n",
       "      <td>COMMERCE and SOLEDAD</td>\n",
       "      <td>Main Plz</td>\n",
       "      <td>San Antonio</td>\n",
       "      <td>TX</td>\n",
       "      <td>78205.0</td>\n",
       "    </tr>\n",
       "  </tbody>\n",
       "</table>\n",
       "</div>"
      ],
      "text/plain": [
       "                                Location          Street         City State  \\\n",
       "0    ST. MARY'S BETWEEN CONVENT and MART  N St Mary's St  San Antonio    TX   \n",
       "1                   ST. MARY'S and PECAN      E Pecan St  San Antonio    TX   \n",
       "2  ST. MARY'S BETWEEN TRAVIS and HOUSTON    E Houston St  San Antonio    TX   \n",
       "3                ST. MARY'S and COMMERCE  S St Mary's St  San Antonio    TX   \n",
       "4                   COMMERCE and SOLEDAD        Main Plz  San Antonio    TX   \n",
       "\n",
       "       Zip  \n",
       "0  78205.0  \n",
       "1  78205.0  \n",
       "2  78205.0  \n",
       "3  78205.0  \n",
       "4  78205.0  "
      ]
     },
     "execution_count": 73,
     "metadata": {},
     "output_type": "execute_result"
    }
   ],
   "source": [
    "lat_n_lon.head()"
   ]
  },
  {
   "cell_type": "code",
   "execution_count": 75,
   "metadata": {},
   "outputs": [],
   "source": [
    "lat_n_lon['zip_code'] = lat_n_lon.Zip.astype('int')"
   ]
  },
  {
   "cell_type": "code",
   "execution_count": 79,
   "metadata": {},
   "outputs": [
    {
     "data": {
      "text/html": [
       "<div>\n",
       "<style scoped>\n",
       "    .dataframe tbody tr th:only-of-type {\n",
       "        vertical-align: middle;\n",
       "    }\n",
       "\n",
       "    .dataframe tbody tr th {\n",
       "        vertical-align: top;\n",
       "    }\n",
       "\n",
       "    .dataframe thead th {\n",
       "        text-align: right;\n",
       "    }\n",
       "</style>\n",
       "<table border=\"1\" class=\"dataframe\">\n",
       "  <thead>\n",
       "    <tr style=\"text-align: right;\">\n",
       "      <th></th>\n",
       "      <th>Location</th>\n",
       "      <th>Street</th>\n",
       "      <th>City</th>\n",
       "      <th>State</th>\n",
       "      <th>Zip</th>\n",
       "      <th>zip_code</th>\n",
       "    </tr>\n",
       "  </thead>\n",
       "  <tbody>\n",
       "    <tr>\n",
       "      <th>6627</th>\n",
       "      <td>CESAR CHAVEZ FRNT OF J.H. WOOD BLDG</td>\n",
       "      <td>E Cesar Chavez Blvd</td>\n",
       "      <td>San Antonio</td>\n",
       "      <td>TX</td>\n",
       "      <td>78205.0</td>\n",
       "      <td>78205</td>\n",
       "    </tr>\n",
       "    <tr>\n",
       "      <th>7402</th>\n",
       "      <td>DOLLARHIDE and METZ</td>\n",
       "      <td>Metz Ave</td>\n",
       "      <td>San Antonio</td>\n",
       "      <td>TX</td>\n",
       "      <td>78223.0</td>\n",
       "      <td>78223</td>\n",
       "    </tr>\n",
       "    <tr>\n",
       "      <th>5831</th>\n",
       "      <td>S. NEW BRAUNFELS and BETTY JEAN</td>\n",
       "      <td>Betty Jean</td>\n",
       "      <td>San Antonio</td>\n",
       "      <td>TX</td>\n",
       "      <td>78223.0</td>\n",
       "      <td>78223</td>\n",
       "    </tr>\n",
       "    <tr>\n",
       "      <th>4746</th>\n",
       "      <td>HACKAMORE and WESTFIELD</td>\n",
       "      <td>Westfield Dr</td>\n",
       "      <td>San Antonio</td>\n",
       "      <td>TX</td>\n",
       "      <td>78227.0</td>\n",
       "      <td>78227</td>\n",
       "    </tr>\n",
       "    <tr>\n",
       "      <th>3064</th>\n",
       "      <td>HILLSIDE AND EL PRADO W.</td>\n",
       "      <td>W El Prado</td>\n",
       "      <td>San Antonio</td>\n",
       "      <td>TX</td>\n",
       "      <td>78212.0</td>\n",
       "      <td>78212</td>\n",
       "    </tr>\n",
       "  </tbody>\n",
       "</table>\n",
       "</div>"
      ],
      "text/plain": [
       "                                 Location               Street         City  \\\n",
       "6627  CESAR CHAVEZ FRNT OF J.H. WOOD BLDG  E Cesar Chavez Blvd  San Antonio   \n",
       "7402                  DOLLARHIDE and METZ             Metz Ave  San Antonio   \n",
       "5831      S. NEW BRAUNFELS and BETTY JEAN           Betty Jean  San Antonio   \n",
       "4746              HACKAMORE and WESTFIELD         Westfield Dr  San Antonio   \n",
       "3064             HILLSIDE AND EL PRADO W.           W El Prado  San Antonio   \n",
       "\n",
       "     State      Zip  zip_code  \n",
       "6627    TX  78205.0     78205  \n",
       "7402    TX  78223.0     78223  \n",
       "5831    TX  78223.0     78223  \n",
       "4746    TX  78227.0     78227  \n",
       "3064    TX  78212.0     78212  "
      ]
     },
     "execution_count": 79,
     "metadata": {},
     "output_type": "execute_result"
    }
   ],
   "source": [
    "lat_n_lon.sample(5)"
   ]
  },
  {
   "cell_type": "code",
   "execution_count": 82,
   "metadata": {},
   "outputs": [
    {
     "data": {
      "text/plain": [
       "61039     False\n",
       "434039     True\n",
       "27227     False\n",
       "531772    False\n",
       "362683    False\n",
       "195493    False\n",
       "205297    False\n",
       "188233    False\n",
       "76144     False\n",
       "271970    False\n",
       "459144    False\n",
       "302547    False\n",
       "368744    False\n",
       "427934    False\n",
       "200883     True\n",
       "29419     False\n",
       "538115     True\n",
       "100934    False\n",
       "484605    False\n",
       "11192     False\n",
       "405911    False\n",
       "58673      True\n",
       "120158    False\n",
       "556271     True\n",
       "509083     True\n",
       "Name: zip_code, dtype: bool"
      ]
     },
     "execution_count": 82,
     "metadata": {},
     "output_type": "execute_result"
    }
   ],
   "source": [
    "(df_311.zip_code.isna() == True).sample(25)"
   ]
  },
  {
   "cell_type": "code",
   "execution_count": null,
   "metadata": {},
   "outputs": [],
   "source": []
  }
 ],
 "metadata": {
  "kernelspec": {
   "display_name": "Python 3",
   "language": "python",
   "name": "python3"
  },
  "language_info": {
   "codemirror_mode": {
    "name": "ipython",
    "version": 3
   },
   "file_extension": ".py",
   "mimetype": "text/x-python",
   "name": "python",
   "nbconvert_exporter": "python",
   "pygments_lexer": "ipython3",
   "version": "3.7.6"
  }
 },
 "nbformat": 4,
 "nbformat_minor": 4
}
