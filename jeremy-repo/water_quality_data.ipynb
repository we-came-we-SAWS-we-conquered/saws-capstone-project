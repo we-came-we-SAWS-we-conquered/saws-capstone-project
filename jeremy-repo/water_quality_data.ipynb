{
 "cells": [
  {
   "cell_type": "code",
   "execution_count": 1,
   "metadata": {},
   "outputs": [],
   "source": [
    "import pandas as pd\n",
    "import numpy as np"
   ]
  },
  {
   "cell_type": "code",
   "execution_count": 2,
   "metadata": {},
   "outputs": [
    {
     "name": "stderr",
     "output_type": "stream",
     "text": [
      "/usr/local/anaconda3/lib/python3.7/site-packages/IPython/core/interactiveshell.py:3058: DtypeWarning: Columns (500) have mixed types. Specify dtype option on import or set low_memory=False.\n",
      "  interactivity=interactivity, compiler=compiler, result=result)\n"
     ]
    }
   ],
   "source": [
    "eaa = pd.read_csv(\"EAA.csv\")\n",
    "sara = pd.read_csv(\"sara_water_quality_data_Bexar.csv\")"
   ]
  },
  {
   "cell_type": "code",
   "execution_count": 3,
   "metadata": {},
   "outputs": [
    {
     "name": "stdout",
     "output_type": "stream",
     "text": [
      "<class 'pandas.core.frame.DataFrame'>\n",
      "RangeIndex: 14509 entries, 0 to 14508\n",
      "Data columns (total 9 columns):\n",
      "Date-Time         14509 non-null object\n",
      "O2 (Dis) mg/l     12946 non-null float64\n",
      "Nephelom NTU      12806 non-null float64\n",
      "pH                12665 non-null float64\n",
      "Sp Cond µS/cm     12899 non-null float64\n",
      "Temperature ¡C    12996 non-null float64\n",
      "Name              14509 non-null object\n",
      "Latitude          14509 non-null float64\n",
      "Longitude         14509 non-null float64\n",
      "dtypes: float64(7), object(2)\n",
      "memory usage: 1020.3+ KB\n"
     ]
    }
   ],
   "source": [
    "eaa.info()"
   ]
  },
  {
   "cell_type": "code",
   "execution_count": 9,
   "metadata": {},
   "outputs": [
    {
     "data": {
      "text/plain": [
       "Date-Time          0.000000\n",
       "O2 (Dis) mg/l     10.772624\n",
       "Nephelom NTU      11.737542\n",
       "pH                12.709353\n",
       "Sp Cond µS/cm     11.096561\n",
       "Temperature ¡C    10.428010\n",
       "Name               0.000000\n",
       "Latitude           0.000000\n",
       "Longitude          0.000000\n",
       "dtype: float64"
      ]
     },
     "execution_count": 9,
     "metadata": {},
     "output_type": "execute_result"
    }
   ],
   "source": [
    "eaa.isna().sum() / len(eaa) * 100"
   ]
  },
  {
   "cell_type": "code",
   "execution_count": 5,
   "metadata": {},
   "outputs": [
    {
     "name": "stdout",
     "output_type": "stream",
     "text": [
      "<class 'pandas.core.frame.DataFrame'>\n",
      "RangeIndex: 10884 entries, 0 to 10883\n",
      "Columns: 501 entries, Station ID to Unnamed: 500\n",
      "dtypes: float64(3), int64(1), object(497)\n",
      "memory usage: 41.6+ MB\n"
     ]
    }
   ],
   "source": [
    "sara.info()"
   ]
  },
  {
   "cell_type": "code",
   "execution_count": 10,
   "metadata": {},
   "outputs": [
    {
     "data": {
      "text/plain": [
       "Unnamed: 500                                         99.990812\n",
       "Comment                                              42.796766\n",
       "Program Code                                         18.449100\n",
       "Station Description                                   0.000000\n",
       "RIPARIAN VEGETATION %: RIGHT BANK - OTHER (89871)     0.000000\n",
       "                                                       ...    \n",
       "HYDROPSYCHE (92296)                                   0.000000\n",
       "NECTOPSYCHE (92304)                                   0.000000\n",
       "POTAMYIA (92305)                                      0.000000\n",
       "SMICRIDEA (92308)                                     0.000000\n",
       "Station ID                                            0.000000\n",
       "Length: 501, dtype: float64"
      ]
     },
     "execution_count": 10,
     "metadata": {},
     "output_type": "execute_result"
    }
   ],
   "source": [
    "prcnt_sara = sara.isna().sum() / len(sara) * 100\n",
    "\n",
    "prcnt_sara.sort_values(ascending=False)"
   ]
  },
  {
   "cell_type": "code",
   "execution_count": null,
   "metadata": {},
   "outputs": [],
   "source": []
  }
 ],
 "metadata": {
  "kernelspec": {
   "display_name": "Python 3",
   "language": "python",
   "name": "python3"
  },
  "language_info": {
   "codemirror_mode": {
    "name": "ipython",
    "version": 3
   },
   "file_extension": ".py",
   "mimetype": "text/x-python",
   "name": "python",
   "nbconvert_exporter": "python",
   "pygments_lexer": "ipython3",
   "version": "3.7.4"
  }
 },
 "nbformat": 4,
 "nbformat_minor": 4
}
