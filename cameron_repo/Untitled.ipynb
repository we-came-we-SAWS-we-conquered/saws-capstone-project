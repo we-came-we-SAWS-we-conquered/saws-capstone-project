{
 "cells": [
  {
   "cell_type": "code",
   "execution_count": 51,
   "metadata": {},
   "outputs": [],
   "source": [
    "import pandas as pd\n",
    "import matplotlib.pyplot as plt\n",
    "from matplotlib.ticker import FormatStrFormatter\n",
    "plt.rc('figure', figsize=(14,8))\n",
    "plt.rc('font', size=14)"
   ]
  },
  {
   "cell_type": "code",
   "execution_count": 3,
   "metadata": {},
   "outputs": [
    {
     "data": {
      "text/html": [
       "<div>\n",
       "<style scoped>\n",
       "    .dataframe tbody tr th:only-of-type {\n",
       "        vertical-align: middle;\n",
       "    }\n",
       "\n",
       "    .dataframe tbody tr th {\n",
       "        vertical-align: top;\n",
       "    }\n",
       "\n",
       "    .dataframe thead th {\n",
       "        text-align: right;\n",
       "    }\n",
       "</style>\n",
       "<table border=\"1\" class=\"dataframe\">\n",
       "  <thead>\n",
       "    <tr style=\"text-align: right;\">\n",
       "      <th></th>\n",
       "      <th>SSO_ID</th>\n",
       "      <th>INSPKEY</th>\n",
       "      <th>SERVNO</th>\n",
       "      <th>REPORTDATE</th>\n",
       "      <th>SPILL_ADDRESS</th>\n",
       "      <th>SPILL_ST_NAME</th>\n",
       "      <th>TOTAL_GAL</th>\n",
       "      <th>GALSRET</th>\n",
       "      <th>GAL</th>\n",
       "      <th>SPILL_START</th>\n",
       "      <th>...</th>\n",
       "      <th>Root_Cause</th>\n",
       "      <th>STEPS_TO_PREVENT</th>\n",
       "      <th>SPILL_START_2</th>\n",
       "      <th>SPILL_STOP_2</th>\n",
       "      <th>HRS_2</th>\n",
       "      <th>GAL_2</th>\n",
       "      <th>SPILL_START_3</th>\n",
       "      <th>SPILL_STOP_3</th>\n",
       "      <th>HRS_3</th>\n",
       "      <th>GAL_3</th>\n",
       "    </tr>\n",
       "  </thead>\n",
       "  <tbody>\n",
       "    <tr>\n",
       "      <th>0</th>\n",
       "      <td>6582</td>\n",
       "      <td>567722.0</td>\n",
       "      <td>NaN</td>\n",
       "      <td>2019-03-10</td>\n",
       "      <td>3200</td>\n",
       "      <td>THOUSAND OAKS DR</td>\n",
       "      <td>2100</td>\n",
       "      <td>2100.0</td>\n",
       "      <td>2100.0</td>\n",
       "      <td>3/10/2019 1:16:00 PM</td>\n",
       "      <td>...</td>\n",
       "      <td>NaN</td>\n",
       "      <td>NaN</td>\n",
       "      <td>NaN</td>\n",
       "      <td>NaN</td>\n",
       "      <td>0.00</td>\n",
       "      <td>0.0</td>\n",
       "      <td>NaN</td>\n",
       "      <td>NaN</td>\n",
       "      <td>0.0</td>\n",
       "      <td>0.0</td>\n",
       "    </tr>\n",
       "    <tr>\n",
       "      <th>1</th>\n",
       "      <td>6583</td>\n",
       "      <td>567723.0</td>\n",
       "      <td>NaN</td>\n",
       "      <td>2019-03-10</td>\n",
       "      <td>6804</td>\n",
       "      <td>S FLORES ST</td>\n",
       "      <td>80</td>\n",
       "      <td>0.0</td>\n",
       "      <td>80.0</td>\n",
       "      <td>3/10/2019 2:25:00 PM</td>\n",
       "      <td>...</td>\n",
       "      <td>NaN</td>\n",
       "      <td>NaN</td>\n",
       "      <td>NaN</td>\n",
       "      <td>NaN</td>\n",
       "      <td>0.00</td>\n",
       "      <td>0.0</td>\n",
       "      <td>NaN</td>\n",
       "      <td>NaN</td>\n",
       "      <td>0.0</td>\n",
       "      <td>0.0</td>\n",
       "    </tr>\n",
       "    <tr>\n",
       "      <th>2</th>\n",
       "      <td>6581</td>\n",
       "      <td>567714.0</td>\n",
       "      <td>NaN</td>\n",
       "      <td>2019-03-09</td>\n",
       "      <td>215</td>\n",
       "      <td>AUDREY ALENE DR</td>\n",
       "      <td>79</td>\n",
       "      <td>0.0</td>\n",
       "      <td>10.0</td>\n",
       "      <td>3/9/2019 6:00:00 PM</td>\n",
       "      <td>...</td>\n",
       "      <td>NaN</td>\n",
       "      <td>NaN</td>\n",
       "      <td>03/10/2019 09:36</td>\n",
       "      <td>03/10/2019 10:45</td>\n",
       "      <td>1.15</td>\n",
       "      <td>69.0</td>\n",
       "      <td>NaN</td>\n",
       "      <td>NaN</td>\n",
       "      <td>0.0</td>\n",
       "      <td>0.0</td>\n",
       "    </tr>\n",
       "    <tr>\n",
       "      <th>3</th>\n",
       "      <td>6584</td>\n",
       "      <td>567713.0</td>\n",
       "      <td>NaN</td>\n",
       "      <td>2019-03-09</td>\n",
       "      <td>3602</td>\n",
       "      <td>SE MILITARY DR</td>\n",
       "      <td>83</td>\n",
       "      <td>0.0</td>\n",
       "      <td>83.0</td>\n",
       "      <td>3/9/2019 3:37:00 PM</td>\n",
       "      <td>...</td>\n",
       "      <td>NaN</td>\n",
       "      <td>NaN</td>\n",
       "      <td>NaN</td>\n",
       "      <td>NaN</td>\n",
       "      <td>0.00</td>\n",
       "      <td>0.0</td>\n",
       "      <td>NaN</td>\n",
       "      <td>NaN</td>\n",
       "      <td>0.0</td>\n",
       "      <td>0.0</td>\n",
       "    </tr>\n",
       "    <tr>\n",
       "      <th>4</th>\n",
       "      <td>6580</td>\n",
       "      <td>567432.0</td>\n",
       "      <td>NaN</td>\n",
       "      <td>2019-03-06</td>\n",
       "      <td>100</td>\n",
       "      <td>PANSY LN</td>\n",
       "      <td>75</td>\n",
       "      <td>0.0</td>\n",
       "      <td>75.0</td>\n",
       "      <td>3/6/2019 9:40:00 AM</td>\n",
       "      <td>...</td>\n",
       "      <td>NaN</td>\n",
       "      <td>NaN</td>\n",
       "      <td>NaN</td>\n",
       "      <td>NaN</td>\n",
       "      <td>0.00</td>\n",
       "      <td>0.0</td>\n",
       "      <td>NaN</td>\n",
       "      <td>NaN</td>\n",
       "      <td>0.0</td>\n",
       "      <td>0.0</td>\n",
       "    </tr>\n",
       "  </tbody>\n",
       "</table>\n",
       "<p>5 rows × 57 columns</p>\n",
       "</div>"
      ],
      "text/plain": [
       "   SSO_ID   INSPKEY  SERVNO REPORTDATE  SPILL_ADDRESS     SPILL_ST_NAME  \\\n",
       "0    6582  567722.0     NaN 2019-03-10           3200  THOUSAND OAKS DR   \n",
       "1    6583  567723.0     NaN 2019-03-10           6804       S FLORES ST   \n",
       "2    6581  567714.0     NaN 2019-03-09            215   AUDREY ALENE DR   \n",
       "3    6584  567713.0     NaN 2019-03-09           3602    SE MILITARY DR   \n",
       "4    6580  567432.0     NaN 2019-03-06            100          PANSY LN   \n",
       "\n",
       "   TOTAL_GAL  GALSRET     GAL           SPILL_START  ... Root_Cause  \\\n",
       "0       2100   2100.0  2100.0  3/10/2019 1:16:00 PM  ...        NaN   \n",
       "1         80      0.0    80.0  3/10/2019 2:25:00 PM  ...        NaN   \n",
       "2         79      0.0    10.0   3/9/2019 6:00:00 PM  ...        NaN   \n",
       "3         83      0.0    83.0   3/9/2019 3:37:00 PM  ...        NaN   \n",
       "4         75      0.0    75.0   3/6/2019 9:40:00 AM  ...        NaN   \n",
       "\n",
       "   STEPS_TO_PREVENT     SPILL_START_2      SPILL_STOP_2 HRS_2 GAL_2  \\\n",
       "0               NaN               NaN               NaN  0.00   0.0   \n",
       "1               NaN               NaN               NaN  0.00   0.0   \n",
       "2               NaN  03/10/2019 09:36  03/10/2019 10:45  1.15  69.0   \n",
       "3               NaN               NaN               NaN  0.00   0.0   \n",
       "4               NaN               NaN               NaN  0.00   0.0   \n",
       "\n",
       "  SPILL_START_3 SPILL_STOP_3 HRS_3 GAL_3  \n",
       "0           NaN          NaN   0.0   0.0  \n",
       "1           NaN          NaN   0.0   0.0  \n",
       "2           NaN          NaN   0.0   0.0  \n",
       "3           NaN          NaN   0.0   0.0  \n",
       "4           NaN          NaN   0.0   0.0  \n",
       "\n",
       "[5 rows x 57 columns]"
      ]
     },
     "execution_count": 3,
     "metadata": {},
     "output_type": "execute_result"
    }
   ],
   "source": [
    "df = pd.read_excel('SSO_Data.xlsx')\n",
    "df.head()"
   ]
  },
  {
   "cell_type": "code",
   "execution_count": 4,
   "metadata": {},
   "outputs": [
    {
     "data": {
      "text/plain": [
       "(3183, 57)"
      ]
     },
     "execution_count": 4,
     "metadata": {},
     "output_type": "execute_result"
    }
   ],
   "source": [
    "df.shape"
   ]
  },
  {
   "cell_type": "code",
   "execution_count": 8,
   "metadata": {},
   "outputs": [
    {
     "data": {
      "text/plain": [
       "pandas.core.series.Series"
      ]
     },
     "execution_count": 8,
     "metadata": {},
     "output_type": "execute_result"
    }
   ],
   "source": [
    "features = df.isna().sum()\n",
    "type(features)"
   ]
  },
  {
   "cell_type": "code",
   "execution_count": 27,
   "metadata": {},
   "outputs": [
    {
     "data": {
      "text/plain": [
       "['SERVNO',\n",
       " 'EARZ_ZONE',\n",
       " 'DWNDPTH',\n",
       " 'UPSDPTH',\n",
       " 'SewerAssetExp',\n",
       " 'NUM_SPILLS_24MOS',\n",
       " 'PREVSPILL_24MOS',\n",
       " 'LASTCLND',\n",
       " 'ResponseTime',\n",
       " 'ResponseDTTM',\n",
       " 'TIMEINT',\n",
       " 'STEPS_TO_PREVENT',\n",
       " 'SPILL_START_2',\n",
       " 'SPILL_STOP_2',\n",
       " 'HRS_2',\n",
       " 'GAL_2',\n",
       " 'SPILL_START_3',\n",
       " 'SPILL_STOP_3',\n",
       " 'HRS_3',\n",
       " 'GAL_3']"
      ]
     },
     "execution_count": 27,
     "metadata": {},
     "output_type": "execute_result"
    }
   ],
   "source": [
    "bad_list = list(features[(features / df.shape[0]) > .4].index)\n",
    "bad_list"
   ]
  },
  {
   "cell_type": "code",
   "execution_count": 29,
   "metadata": {},
   "outputs": [
    {
     "data": {
      "text/plain": [
       "SSO_ID                  0\n",
       "INSPKEY               797\n",
       "REPORTDATE              0\n",
       "SPILL_ADDRESS           0\n",
       "SPILL_ST_NAME           0\n",
       "TOTAL_GAL               0\n",
       "GALSRET               475\n",
       "GAL                     0\n",
       "SPILL_START             0\n",
       "SPILL_STOP              0\n",
       "HRS                     3\n",
       "CAUSE                   0\n",
       "COMMENTS              533\n",
       "ACTIONS                 8\n",
       "WATERSHED               0\n",
       "UNITID                  4\n",
       "UNITID2               244\n",
       "DISCHARGE_TO            4\n",
       "DISCHARGE_ROUTE       827\n",
       "COUNCIL_DISTRICT      322\n",
       "FERGUSON               30\n",
       "Month                   0\n",
       "Year                    0\n",
       "Week                    0\n",
       "Expr1029                7\n",
       "PIPEDIAM              190\n",
       "PIPELEN               190\n",
       "PIPETYPE              190\n",
       "INSTYEAR              118\n",
       "Inches_No             487\n",
       "RainFall_Less3        542\n",
       "SPILL ADDRESS          43\n",
       "NUM_SPILLS_COMPKEY      0\n",
       "UNITTYPE               17\n",
       "ASSETTYPE               2\n",
       "Public Notice           0\n",
       "Root_Cause              7\n",
       "dtype: int64"
      ]
     },
     "execution_count": 29,
     "metadata": {},
     "output_type": "execute_result"
    }
   ],
   "source": [
    "df = df.drop(columns=bad_list)\n",
    "df.isna().sum()"
   ]
  },
  {
   "cell_type": "code",
   "execution_count": 30,
   "metadata": {},
   "outputs": [
    {
     "data": {
      "text/plain": [
       "(3183, 37)"
      ]
     },
     "execution_count": 30,
     "metadata": {},
     "output_type": "execute_result"
    }
   ],
   "source": [
    "df.shape"
   ]
  },
  {
   "cell_type": "code",
   "execution_count": 31,
   "metadata": {},
   "outputs": [
    {
     "data": {
      "text/html": [
       "<div>\n",
       "<style scoped>\n",
       "    .dataframe tbody tr th:only-of-type {\n",
       "        vertical-align: middle;\n",
       "    }\n",
       "\n",
       "    .dataframe tbody tr th {\n",
       "        vertical-align: top;\n",
       "    }\n",
       "\n",
       "    .dataframe thead th {\n",
       "        text-align: right;\n",
       "    }\n",
       "</style>\n",
       "<table border=\"1\" class=\"dataframe\">\n",
       "  <thead>\n",
       "    <tr style=\"text-align: right;\">\n",
       "      <th></th>\n",
       "      <th>SSO_ID</th>\n",
       "      <th>INSPKEY</th>\n",
       "      <th>REPORTDATE</th>\n",
       "      <th>SPILL_ADDRESS</th>\n",
       "      <th>SPILL_ST_NAME</th>\n",
       "      <th>TOTAL_GAL</th>\n",
       "      <th>GALSRET</th>\n",
       "      <th>GAL</th>\n",
       "      <th>SPILL_START</th>\n",
       "      <th>SPILL_STOP</th>\n",
       "      <th>...</th>\n",
       "      <th>PIPETYPE</th>\n",
       "      <th>INSTYEAR</th>\n",
       "      <th>Inches_No</th>\n",
       "      <th>RainFall_Less3</th>\n",
       "      <th>SPILL ADDRESS</th>\n",
       "      <th>NUM_SPILLS_COMPKEY</th>\n",
       "      <th>UNITTYPE</th>\n",
       "      <th>ASSETTYPE</th>\n",
       "      <th>Public Notice</th>\n",
       "      <th>Root_Cause</th>\n",
       "    </tr>\n",
       "  </thead>\n",
       "  <tbody>\n",
       "    <tr>\n",
       "      <th>0</th>\n",
       "      <td>6582</td>\n",
       "      <td>567722.0</td>\n",
       "      <td>2019-03-10</td>\n",
       "      <td>3200</td>\n",
       "      <td>THOUSAND OAKS DR</td>\n",
       "      <td>2100</td>\n",
       "      <td>2100.0</td>\n",
       "      <td>2100.0</td>\n",
       "      <td>3/10/2019 1:16:00 PM</td>\n",
       "      <td>3/10/2019 2:40:00 PM</td>\n",
       "      <td>...</td>\n",
       "      <td>PVC</td>\n",
       "      <td>1997.0</td>\n",
       "      <td>NaN</td>\n",
       "      <td>NaN</td>\n",
       "      <td>3200 THOUSAND OAKS DR</td>\n",
       "      <td>1</td>\n",
       "      <td>GRAVITY</td>\n",
       "      <td>Sewer Main</td>\n",
       "      <td>False</td>\n",
       "      <td>NaN</td>\n",
       "    </tr>\n",
       "    <tr>\n",
       "      <th>1</th>\n",
       "      <td>6583</td>\n",
       "      <td>567723.0</td>\n",
       "      <td>2019-03-10</td>\n",
       "      <td>6804</td>\n",
       "      <td>S FLORES ST</td>\n",
       "      <td>80</td>\n",
       "      <td>0.0</td>\n",
       "      <td>80.0</td>\n",
       "      <td>3/10/2019 2:25:00 PM</td>\n",
       "      <td>3/10/2019 3:45:00 PM</td>\n",
       "      <td>...</td>\n",
       "      <td>PVC</td>\n",
       "      <td>1988.0</td>\n",
       "      <td>NaN</td>\n",
       "      <td>NaN</td>\n",
       "      <td>6804 S FLORES</td>\n",
       "      <td>1</td>\n",
       "      <td>GRAVITY</td>\n",
       "      <td>Sewer Main</td>\n",
       "      <td>False</td>\n",
       "      <td>NaN</td>\n",
       "    </tr>\n",
       "    <tr>\n",
       "      <th>2</th>\n",
       "      <td>6581</td>\n",
       "      <td>567714.0</td>\n",
       "      <td>2019-03-09</td>\n",
       "      <td>215</td>\n",
       "      <td>AUDREY ALENE DR</td>\n",
       "      <td>79</td>\n",
       "      <td>0.0</td>\n",
       "      <td>10.0</td>\n",
       "      <td>3/9/2019 6:00:00 PM</td>\n",
       "      <td>3/9/2019 7:30:00 PM</td>\n",
       "      <td>...</td>\n",
       "      <td>CP</td>\n",
       "      <td>1955.0</td>\n",
       "      <td>NaN</td>\n",
       "      <td>NaN</td>\n",
       "      <td>215 Audrey Alene Dr</td>\n",
       "      <td>1</td>\n",
       "      <td>GRAVITY</td>\n",
       "      <td>Sewer Main</td>\n",
       "      <td>False</td>\n",
       "      <td>NaN</td>\n",
       "    </tr>\n",
       "    <tr>\n",
       "      <th>3</th>\n",
       "      <td>6584</td>\n",
       "      <td>567713.0</td>\n",
       "      <td>2019-03-09</td>\n",
       "      <td>3602</td>\n",
       "      <td>SE MILITARY DR</td>\n",
       "      <td>83</td>\n",
       "      <td>0.0</td>\n",
       "      <td>83.0</td>\n",
       "      <td>3/9/2019 3:37:00 PM</td>\n",
       "      <td>3/9/2019 5:00:00 PM</td>\n",
       "      <td>...</td>\n",
       "      <td>PVC</td>\n",
       "      <td>1983.0</td>\n",
       "      <td>NaN</td>\n",
       "      <td>NaN</td>\n",
       "      <td>3602 SE MILITARY DR</td>\n",
       "      <td>1</td>\n",
       "      <td>GRAVITY</td>\n",
       "      <td>Sewer Main</td>\n",
       "      <td>False</td>\n",
       "      <td>NaN</td>\n",
       "    </tr>\n",
       "    <tr>\n",
       "      <th>4</th>\n",
       "      <td>6580</td>\n",
       "      <td>567432.0</td>\n",
       "      <td>2019-03-06</td>\n",
       "      <td>100</td>\n",
       "      <td>PANSY LN</td>\n",
       "      <td>75</td>\n",
       "      <td>0.0</td>\n",
       "      <td>75.0</td>\n",
       "      <td>3/6/2019 9:40:00 AM</td>\n",
       "      <td>3/6/2019 9:55:00 AM</td>\n",
       "      <td>...</td>\n",
       "      <td>CP</td>\n",
       "      <td>1952.0</td>\n",
       "      <td>NaN</td>\n",
       "      <td>NaN</td>\n",
       "      <td>100 PANSY LN</td>\n",
       "      <td>2</td>\n",
       "      <td>GRAVITY</td>\n",
       "      <td>Sewer Main</td>\n",
       "      <td>False</td>\n",
       "      <td>NaN</td>\n",
       "    </tr>\n",
       "  </tbody>\n",
       "</table>\n",
       "<p>5 rows × 37 columns</p>\n",
       "</div>"
      ],
      "text/plain": [
       "   SSO_ID   INSPKEY REPORTDATE  SPILL_ADDRESS     SPILL_ST_NAME  TOTAL_GAL  \\\n",
       "0    6582  567722.0 2019-03-10           3200  THOUSAND OAKS DR       2100   \n",
       "1    6583  567723.0 2019-03-10           6804       S FLORES ST         80   \n",
       "2    6581  567714.0 2019-03-09            215   AUDREY ALENE DR         79   \n",
       "3    6584  567713.0 2019-03-09           3602    SE MILITARY DR         83   \n",
       "4    6580  567432.0 2019-03-06            100          PANSY LN         75   \n",
       "\n",
       "   GALSRET     GAL           SPILL_START            SPILL_STOP  ...  PIPETYPE  \\\n",
       "0   2100.0  2100.0  3/10/2019 1:16:00 PM  3/10/2019 2:40:00 PM  ...       PVC   \n",
       "1      0.0    80.0  3/10/2019 2:25:00 PM  3/10/2019 3:45:00 PM  ...       PVC   \n",
       "2      0.0    10.0   3/9/2019 6:00:00 PM   3/9/2019 7:30:00 PM  ...        CP   \n",
       "3      0.0    83.0   3/9/2019 3:37:00 PM   3/9/2019 5:00:00 PM  ...       PVC   \n",
       "4      0.0    75.0   3/6/2019 9:40:00 AM   3/6/2019 9:55:00 AM  ...        CP   \n",
       "\n",
       "  INSTYEAR Inches_No RainFall_Less3          SPILL ADDRESS NUM_SPILLS_COMPKEY  \\\n",
       "0   1997.0       NaN            NaN  3200 THOUSAND OAKS DR                  1   \n",
       "1   1988.0       NaN            NaN          6804 S FLORES                  1   \n",
       "2   1955.0       NaN            NaN    215 Audrey Alene Dr                  1   \n",
       "3   1983.0       NaN            NaN    3602 SE MILITARY DR                  1   \n",
       "4   1952.0       NaN            NaN           100 PANSY LN                  2   \n",
       "\n",
       "  UNITTYPE   ASSETTYPE Public Notice  Root_Cause  \n",
       "0  GRAVITY  Sewer Main         False         NaN  \n",
       "1  GRAVITY  Sewer Main         False         NaN  \n",
       "2  GRAVITY  Sewer Main         False         NaN  \n",
       "3  GRAVITY  Sewer Main         False         NaN  \n",
       "4  GRAVITY  Sewer Main         False         NaN  \n",
       "\n",
       "[5 rows x 37 columns]"
      ]
     },
     "execution_count": 31,
     "metadata": {},
     "output_type": "execute_result"
    }
   ],
   "source": [
    "df.head()"
   ]
  },
  {
   "cell_type": "code",
   "execution_count": 35,
   "metadata": {},
   "outputs": [
    {
     "data": {
      "text/plain": [
       "['SSO_ID',\n",
       " 'INSPKEY',\n",
       " 'REPORTDATE',\n",
       " 'SPILL_ADDRESS',\n",
       " 'SPILL_ST_NAME',\n",
       " 'TOTAL_GAL',\n",
       " 'GALSRET',\n",
       " 'GAL',\n",
       " 'SPILL_START',\n",
       " 'SPILL_STOP',\n",
       " 'HRS',\n",
       " 'CAUSE',\n",
       " 'COMMENTS',\n",
       " 'ACTIONS',\n",
       " 'WATERSHED',\n",
       " 'UNITID',\n",
       " 'UNITID2',\n",
       " 'DISCHARGE_TO',\n",
       " 'DISCHARGE_ROUTE',\n",
       " 'COUNCIL_DISTRICT',\n",
       " 'FERGUSON',\n",
       " 'Month',\n",
       " 'Year',\n",
       " 'Week',\n",
       " 'Expr1029',\n",
       " 'PIPEDIAM',\n",
       " 'PIPELEN',\n",
       " 'PIPETYPE',\n",
       " 'INSTYEAR',\n",
       " 'Inches_No',\n",
       " 'RainFall_Less3',\n",
       " 'SPILL ADDRESS',\n",
       " 'NUM_SPILLS_COMPKEY',\n",
       " 'UNITTYPE',\n",
       " 'ASSETTYPE',\n",
       " 'Public Notice',\n",
       " 'Root_Cause']"
      ]
     },
     "execution_count": 35,
     "metadata": {},
     "output_type": "execute_result"
    }
   ],
   "source": [
    "list(df.columns)"
   ]
  },
  {
   "cell_type": "code",
   "execution_count": 32,
   "metadata": {},
   "outputs": [
    {
     "data": {
      "text/plain": [
       "STRUCTURAL           1237\n",
       "GREASE                610\n",
       "DEBRIS                443\n",
       "RAIN EVENT            353\n",
       "CONTRACTOR            164\n",
       "LIFT STATION          125\n",
       "OTHER                  61\n",
       "VANDALISM              48\n",
       "RAIN EVENT             48\n",
       "VANDALISM              24\n",
       "ROOTS                  22\n",
       "LIFT STATION           15\n",
       "I/I                    12\n",
       "CONTRACTOR              8\n",
       "BY PASS PUMP LEAK       3\n",
       "Grease                  1\n",
       "OTHER                   1\n",
       "Debris                  1\n",
       "Name: Root_Cause, dtype: int64"
      ]
     },
     "execution_count": 32,
     "metadata": {},
     "output_type": "execute_result"
    }
   ],
   "source": [
    "df.Root_Cause.value_counts()"
   ]
  },
  {
   "cell_type": "code",
   "execution_count": 72,
   "metadata": {},
   "outputs": [
    {
     "data": {
      "image/png": "[encoded data removed]",
      "text/plain": [
       "<Figure size 1008x576 with 1 Axes>"
      ]
     },
     "metadata": {
      "needs_background": "light"
     },
     "output_type": "display_data"
    }
   ],
   "source": [
    "df.INSTYEAR.value_counts().head(10).plot.bar()\n",
    "plt.xticks(rotation=45)\n",
    "# plt.gca().xaxis.set_major_formatter(FormatStrFormatter('%d'))\n",
    "plt.ylabel('Count of year installed')\n",
    "plt.xlabel('Year')\n",
    "plt.title('Top 10 years installed')\n",
    "plt.show()"
   ]
  },
  {
   "cell_type": "code",
   "execution_count": 55,
   "metadata": {},
   "outputs": [
    {
     "data": {
      "image/png": "[encoded data removed]",
      "text/plain": [
       "<Figure size 1008x576 with 1 Axes>"
      ]
     },
     "metadata": {
      "needs_background": "light"
     },
     "output_type": "display_data"
    }
   ],
   "source": []
  },
  {
   "cell_type": "code",
   "execution_count": null,
   "metadata": {},
   "outputs": [],
   "source": []
  }
 ],
 "metadata": {
  "kernelspec": {
   "display_name": "Python 3",
   "language": "python",
   "name": "python3"
  },
  "language_info": {
   "codemirror_mode": {
    "name": "ipython",
    "version": 3
   },
   "file_extension": ".py",
   "mimetype": "text/x-python",
   "name": "python",
   "nbconvert_exporter": "python",
   "pygments_lexer": "ipython3",
   "version": "3.7.6"
  }
 },
 "nbformat": 4,
 "nbformat_minor": 4
}
