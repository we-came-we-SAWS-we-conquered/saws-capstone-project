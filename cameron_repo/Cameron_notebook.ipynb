{
 "cells": [
  {
   "cell_type": "code",
   "execution_count": 1,
   "metadata": {},
   "outputs": [],
   "source": [
    "import pandas as pd\n",
    "import numpy as np\n",
    "\n",
    "import sys\n",
    "sys.path.insert(0,'..')\n",
    "\n",
    "import matplotlib.pyplot as plt\n",
    "import os.path\n",
    "import prepare, prepare_sso, preprocessing\n",
    "import seaborn as sns\n",
    "\n",
    "from pandas.api.types import is_string_dtype\n",
    "from pandas.api.types import is_numeric_dtype\n",
    "\n",
    "from sklearn.model_selection import train_test_split, GridSearchCV\n",
    "from sklearn.metrics import make_scorer, precision_score, \\\n",
    "                            classification_report\n",
    "from sklearn.tree import DecisionTreeClassifier, export_graphviz\n",
    "from sklearn.linear_model import LogisticRegression\n",
    "from sklearn.ensemble import RandomForestClassifier\n",
    "from sklearn.neighbors import KNeighborsClassifier\n",
    "from sklearn.preprocessing import MinMaxScaler\n",
    "\n",
    "import graphviz\n",
    "from graphviz import Graph\n",
    "\n",
    "import warnings\n",
    "warnings.filterwarnings(\"ignore\")\n",
    "\n",
    "plt.rc('figure', figsize=(16,10))\n",
    "plt.rc('font', size=14)\n",
    "pd.set_option('display.max_colwidth', 250)\n",
    "pd.set_option('display.max_columns', 50)"
   ]
  },
  {
   "cell_type": "code",
   "execution_count": 2,
   "metadata": {},
   "outputs": [],
   "source": [
    "if os.path.isfile('sso_dict.csv'):\n",
    "    df_dict = pd.read_csv('sso_dict.csv')\n",
    "else:\n",
    "    url_sso_dict = '''https://storage.googleapis.com/sa_saws_data/SAWS_SSO_DataFieldDescription_MM.xlsx'''\n",
    "    df_dict = pd.read_excel(url_sso_dict)\n",
    "    df_dict.to_csv('sso_dict.csv', index=False)"
   ]
  },
  {
   "cell_type": "code",
   "execution_count": 3,
   "metadata": {
    "scrolled": true
   },
   "outputs": [
    {
     "data": {
      "text/html": [
       "<div>\n",
       "<style scoped>\n",
       "    .dataframe tbody tr th:only-of-type {\n",
       "        vertical-align: middle;\n",
       "    }\n",
       "\n",
       "    .dataframe tbody tr th {\n",
       "        vertical-align: top;\n",
       "    }\n",
       "\n",
       "    .dataframe thead th {\n",
       "        text-align: right;\n",
       "    }\n",
       "</style>\n",
       "<table border=\"1\" class=\"dataframe\">\n",
       "  <thead>\n",
       "    <tr style=\"text-align: right;\">\n",
       "      <th></th>\n",
       "      <th>Field</th>\n",
       "      <th>Data Description</th>\n",
       "    </tr>\n",
       "  </thead>\n",
       "  <tbody>\n",
       "    <tr>\n",
       "      <th>0</th>\n",
       "      <td>SSO_ID</td>\n",
       "      <td>Internal ID</td>\n",
       "    </tr>\n",
       "    <tr>\n",
       "      <th>1</th>\n",
       "      <td>INSPKEY</td>\n",
       "      <td>Not Used</td>\n",
       "    </tr>\n",
       "    <tr>\n",
       "      <th>2</th>\n",
       "      <td>SERVNO</td>\n",
       "      <td>Service Req # (internal use only)</td>\n",
       "    </tr>\n",
       "    <tr>\n",
       "      <th>3</th>\n",
       "      <td>REPORTDATE</td>\n",
       "      <td>Date Reported</td>\n",
       "    </tr>\n",
       "    <tr>\n",
       "      <th>4</th>\n",
       "      <td>SPILL_ADDRESS</td>\n",
       "      <td>Street number of spill</td>\n",
       "    </tr>\n",
       "    <tr>\n",
       "      <th>5</th>\n",
       "      <td>SPILL_ST_NAME</td>\n",
       "      <td>Streen name of spill</td>\n",
       "    </tr>\n",
       "    <tr>\n",
       "      <th>6</th>\n",
       "      <td>TOTAL_GAL</td>\n",
       "      <td>Total gallons spilled</td>\n",
       "    </tr>\n",
       "    <tr>\n",
       "      <th>7</th>\n",
       "      <td>GALSRET</td>\n",
       "      <td>Gallons returned to collection system</td>\n",
       "    </tr>\n",
       "    <tr>\n",
       "      <th>8</th>\n",
       "      <td>GAL</td>\n",
       "      <td>Disregard</td>\n",
       "    </tr>\n",
       "    <tr>\n",
       "      <th>9</th>\n",
       "      <td>SPILL_START</td>\n",
       "      <td>When SAWS received information about the spill or arrived at the location</td>\n",
       "    </tr>\n",
       "    <tr>\n",
       "      <th>10</th>\n",
       "      <td>SPILL_STOP</td>\n",
       "      <td>Spill actually stopped (no more coming out)</td>\n",
       "    </tr>\n",
       "    <tr>\n",
       "      <th>11</th>\n",
       "      <td>HRS</td>\n",
       "      <td>Hours it was spilling (without intemritten stopping starting)</td>\n",
       "    </tr>\n",
       "    <tr>\n",
       "      <th>12</th>\n",
       "      <td>CAUSE</td>\n",
       "      <td>Intitial stated cause</td>\n",
       "    </tr>\n",
       "    <tr>\n",
       "      <th>13</th>\n",
       "      <td>COMMENTS</td>\n",
       "      <td>Comments</td>\n",
       "    </tr>\n",
       "    <tr>\n",
       "      <th>14</th>\n",
       "      <td>ACTIONS</td>\n",
       "      <td>Action taken to stop the SSO</td>\n",
       "    </tr>\n",
       "    <tr>\n",
       "      <th>15</th>\n",
       "      <td>WATERSHED</td>\n",
       "      <td>Destination treatment plant of the sewer</td>\n",
       "    </tr>\n",
       "    <tr>\n",
       "      <th>16</th>\n",
       "      <td>UNITID</td>\n",
       "      <td>Upstream manhole number</td>\n",
       "    </tr>\n",
       "    <tr>\n",
       "      <th>17</th>\n",
       "      <td>UNITID2</td>\n",
       "      <td>Downstream manhole nunmber (if it is blank, the spill was on the sewer main or lift station)</td>\n",
       "    </tr>\n",
       "    <tr>\n",
       "      <th>18</th>\n",
       "      <td>DISCHARGE_TO</td>\n",
       "      <td>spill discharge type area/feature</td>\n",
       "    </tr>\n",
       "    <tr>\n",
       "      <th>19</th>\n",
       "      <td>DISCHARGE_ROUTE</td>\n",
       "      <td>Creek name where SSO discharged. NONE = did not discharge to creek</td>\n",
       "    </tr>\n",
       "    <tr>\n",
       "      <th>20</th>\n",
       "      <td>COUNCIL_DISTRICT</td>\n",
       "      <td>City Council district of SSO location</td>\n",
       "    </tr>\n",
       "    <tr>\n",
       "      <th>21</th>\n",
       "      <td>FERGUSON</td>\n",
       "      <td>Old mapping system reference (internal only)</td>\n",
       "    </tr>\n",
       "    <tr>\n",
       "      <th>22</th>\n",
       "      <td>Month</td>\n",
       "      <td>Report Month</td>\n",
       "    </tr>\n",
       "    <tr>\n",
       "      <th>23</th>\n",
       "      <td>Year</td>\n",
       "      <td>Report Year</td>\n",
       "    </tr>\n",
       "    <tr>\n",
       "      <th>24</th>\n",
       "      <td>Week</td>\n",
       "      <td>Report Week Number</td>\n",
       "    </tr>\n",
       "    <tr>\n",
       "      <th>25</th>\n",
       "      <td>EARZ_ZONE</td>\n",
       "      <td>Edwards Aquifer Recharge Zone of SSO location. 0 or NULL = Not in recharge zone.</td>\n",
       "    </tr>\n",
       "    <tr>\n",
       "      <th>26</th>\n",
       "      <td>Expr1029</td>\n",
       "      <td>Ignore</td>\n",
       "    </tr>\n",
       "    <tr>\n",
       "      <th>27</th>\n",
       "      <td>PIPEDIAM</td>\n",
       "      <td>Pipe diameter of the sewer main</td>\n",
       "    </tr>\n",
       "    <tr>\n",
       "      <th>28</th>\n",
       "      <td>PIPELEN</td>\n",
       "      <td>Length in feet between manholes (blank means SSO was on main or lift station)</td>\n",
       "    </tr>\n",
       "    <tr>\n",
       "      <th>29</th>\n",
       "      <td>PIPETYPE</td>\n",
       "      <td>Pipe material / type</td>\n",
       "    </tr>\n",
       "    <tr>\n",
       "      <th>30</th>\n",
       "      <td>INSTYEAR</td>\n",
       "      <td>Main installation date</td>\n",
       "    </tr>\n",
       "    <tr>\n",
       "      <th>31</th>\n",
       "      <td>DWNDPTH</td>\n",
       "      <td>Disregard</td>\n",
       "    </tr>\n",
       "    <tr>\n",
       "      <th>32</th>\n",
       "      <td>UPSDPTH</td>\n",
       "      <td>Disregard</td>\n",
       "    </tr>\n",
       "    <tr>\n",
       "      <th>33</th>\n",
       "      <td>Inches_No</td>\n",
       "      <td>Inches of rainfall the day of SSO</td>\n",
       "    </tr>\n",
       "    <tr>\n",
       "      <th>34</th>\n",
       "      <td>RainFall_Less3</td>\n",
       "      <td>Total rainfall previous 3 days</td>\n",
       "    </tr>\n",
       "    <tr>\n",
       "      <th>35</th>\n",
       "      <td>SPILL ADDRESS</td>\n",
       "      <td>Full Address</td>\n",
       "    </tr>\n",
       "    <tr>\n",
       "      <th>36</th>\n",
       "      <td>SewerAssetExp</td>\n",
       "      <td>Ignore</td>\n",
       "    </tr>\n",
       "    <tr>\n",
       "      <th>37</th>\n",
       "      <td>NUM_SPILLS_COMPKEY</td>\n",
       "      <td>Number of recorded spills on the asset (main)</td>\n",
       "    </tr>\n",
       "    <tr>\n",
       "      <th>38</th>\n",
       "      <td>NUM_SPILLS_24MOS</td>\n",
       "      <td>Num of spills on asset witih 24 months</td>\n",
       "    </tr>\n",
       "    <tr>\n",
       "      <th>39</th>\n",
       "      <td>PREVSPILL_24MOS</td>\n",
       "      <td>Previous spill in the last 24 months</td>\n",
       "    </tr>\n",
       "    <tr>\n",
       "      <th>40</th>\n",
       "      <td>UNITTYPE</td>\n",
       "      <td>Main type</td>\n",
       "    </tr>\n",
       "    <tr>\n",
       "      <th>41</th>\n",
       "      <td>ASSETTYPE</td>\n",
       "      <td>Asset type emitting spill</td>\n",
       "    </tr>\n",
       "    <tr>\n",
       "      <th>42</th>\n",
       "      <td>LASTCLND</td>\n",
       "      <td>Last time we cleaned it - Gravity, Outfall, or Syphon</td>\n",
       "    </tr>\n",
       "    <tr>\n",
       "      <th>43</th>\n",
       "      <td>ResponseTime</td>\n",
       "      <td>Time it took for crew to arrive (from call to boots on the ground)</td>\n",
       "    </tr>\n",
       "    <tr>\n",
       "      <th>44</th>\n",
       "      <td>ResponseDTTM</td>\n",
       "      <td>When crew arrived on scene</td>\n",
       "    </tr>\n",
       "    <tr>\n",
       "      <th>45</th>\n",
       "      <td>Public Notice</td>\n",
       "      <td>Was a public notice required/sent out</td>\n",
       "    </tr>\n",
       "    <tr>\n",
       "      <th>46</th>\n",
       "      <td>TIMEINT</td>\n",
       "      <td>Cleaning shcedule in Months that was implemented after the spill</td>\n",
       "    </tr>\n",
       "    <tr>\n",
       "      <th>47</th>\n",
       "      <td>Root_Cause</td>\n",
       "      <td>Official, determined cause of the event</td>\n",
       "    </tr>\n",
       "    <tr>\n",
       "      <th>48</th>\n",
       "      <td>STEPS_TO_PREVENT</td>\n",
       "      <td>Steps taken to prevent future SSO:\\nFCS - clean Schedule, \\nDesign Request - need to replace pipe \\nPoint - did the repair onsite\\nI/I - investigate the inflow and inflitration</td>\n",
       "    </tr>\n",
       "    <tr>\n",
       "      <th>49</th>\n",
       "      <td>SPILL_START_2</td>\n",
       "      <td>Additional spills wihtin same incident/24 hours</td>\n",
       "    </tr>\n",
       "    <tr>\n",
       "      <th>50</th>\n",
       "      <td>SPILL_STOP_2</td>\n",
       "      <td>NaN</td>\n",
       "    </tr>\n",
       "    <tr>\n",
       "      <th>51</th>\n",
       "      <td>HRS_2</td>\n",
       "      <td>NaN</td>\n",
       "    </tr>\n",
       "    <tr>\n",
       "      <th>52</th>\n",
       "      <td>GAL_2</td>\n",
       "      <td>NaN</td>\n",
       "    </tr>\n",
       "    <tr>\n",
       "      <th>53</th>\n",
       "      <td>SPILL_START_3</td>\n",
       "      <td>NaN</td>\n",
       "    </tr>\n",
       "    <tr>\n",
       "      <th>54</th>\n",
       "      <td>SPILL_STOP_3</td>\n",
       "      <td>NaN</td>\n",
       "    </tr>\n",
       "    <tr>\n",
       "      <th>55</th>\n",
       "      <td>HRS_3</td>\n",
       "      <td>NaN</td>\n",
       "    </tr>\n",
       "    <tr>\n",
       "      <th>56</th>\n",
       "      <td>GAL_3</td>\n",
       "      <td>NaN</td>\n",
       "    </tr>\n",
       "  </tbody>\n",
       "</table>\n",
       "</div>"
      ],
      "text/plain": [
       "                 Field  \\\n",
       "0               SSO_ID   \n",
       "1              INSPKEY   \n",
       "2               SERVNO   \n",
       "3           REPORTDATE   \n",
       "4        SPILL_ADDRESS   \n",
       "5        SPILL_ST_NAME   \n",
       "6            TOTAL_GAL   \n",
       "7              GALSRET   \n",
       "8                  GAL   \n",
       "9          SPILL_START   \n",
       "10          SPILL_STOP   \n",
       "11                 HRS   \n",
       "12               CAUSE   \n",
       "13            COMMENTS   \n",
       "14             ACTIONS   \n",
       "15           WATERSHED   \n",
       "16              UNITID   \n",
       "17             UNITID2   \n",
       "18        DISCHARGE_TO   \n",
       "19     DISCHARGE_ROUTE   \n",
       "20    COUNCIL_DISTRICT   \n",
       "21            FERGUSON   \n",
       "22               Month   \n",
       "23                Year   \n",
       "24                Week   \n",
       "25           EARZ_ZONE   \n",
       "26            Expr1029   \n",
       "27            PIPEDIAM   \n",
       "28             PIPELEN   \n",
       "29            PIPETYPE   \n",
       "30            INSTYEAR   \n",
       "31             DWNDPTH   \n",
       "32             UPSDPTH   \n",
       "33           Inches_No   \n",
       "34      RainFall_Less3   \n",
       "35       SPILL ADDRESS   \n",
       "36       SewerAssetExp   \n",
       "37  NUM_SPILLS_COMPKEY   \n",
       "38    NUM_SPILLS_24MOS   \n",
       "39     PREVSPILL_24MOS   \n",
       "40            UNITTYPE   \n",
       "41           ASSETTYPE   \n",
       "42            LASTCLND   \n",
       "43        ResponseTime   \n",
       "44        ResponseDTTM   \n",
       "45       Public Notice   \n",
       "46             TIMEINT   \n",
       "47          Root_Cause   \n",
       "48    STEPS_TO_PREVENT   \n",
       "49       SPILL_START_2   \n",
       "50        SPILL_STOP_2   \n",
       "51               HRS_2   \n",
       "52               GAL_2   \n",
       "53       SPILL_START_3   \n",
       "54        SPILL_STOP_3   \n",
       "55               HRS_3   \n",
       "56               GAL_3   \n",
       "\n",
       "                                                                                                                                                                    Data Description  \n",
       "0                                                                                                                                                                        Internal ID  \n",
       "1                                                                                                                                                                           Not Used  \n",
       "2                                                                                                                                                  Service Req # (internal use only)  \n",
       "3                                                                                                                                                                      Date Reported  \n",
       "4                                                                                                                                                             Street number of spill  \n",
       "5                                                                                                                                                               Streen name of spill  \n",
       "6                                                                                                                                                              Total gallons spilled  \n",
       "7                                                                                                                                              Gallons returned to collection system  \n",
       "8                                                                                                                                                                          Disregard  \n",
       "9                                                                                                          When SAWS received information about the spill or arrived at the location  \n",
       "10                                                                                                                                       Spill actually stopped (no more coming out)  \n",
       "11                                                                                                                     Hours it was spilling (without intemritten stopping starting)  \n",
       "12                                                                                                                                                             Intitial stated cause  \n",
       "13                                                                                                                                                                          Comments  \n",
       "14                                                                                                                                                      Action taken to stop the SSO  \n",
       "15                                                                                                                                          Destination treatment plant of the sewer  \n",
       "16                                                                                                                                                           Upstream manhole number  \n",
       "17                                                                                      Downstream manhole nunmber (if it is blank, the spill was on the sewer main or lift station)  \n",
       "18                                                                                                                                                 spill discharge type area/feature  \n",
       "19                                                                                                                Creek name where SSO discharged. NONE = did not discharge to creek  \n",
       "20                                                                                                                                             City Council district of SSO location  \n",
       "21                                                                                                                                      Old mapping system reference (internal only)  \n",
       "22                                                                                                                                                                      Report Month  \n",
       "23                                                                                                                                                                       Report Year  \n",
       "24                                                                                                                                                                Report Week Number  \n",
       "25                                                                                                  Edwards Aquifer Recharge Zone of SSO location. 0 or NULL = Not in recharge zone.  \n",
       "26                                                                                                                                                                            Ignore  \n",
       "27                                                                                                                                                   Pipe diameter of the sewer main  \n",
       "28                                                                                                     Length in feet between manholes (blank means SSO was on main or lift station)  \n",
       "29                                                                                                                                                              Pipe material / type  \n",
       "30                                                                                                                                                            Main installation date  \n",
       "31                                                                                                                                                                         Disregard  \n",
       "32                                                                                                                                                                         Disregard  \n",
       "33                                                                                                                                                 Inches of rainfall the day of SSO  \n",
       "34                                                                                                                                                    Total rainfall previous 3 days  \n",
       "35                                                                                                                                                                      Full Address  \n",
       "36                                                                                                                                                                            Ignore  \n",
       "37                                                                                                                                     Number of recorded spills on the asset (main)  \n",
       "38                                                                                                                                            Num of spills on asset witih 24 months  \n",
       "39                                                                                                                                              Previous spill in the last 24 months  \n",
       "40                                                                                                                                                                         Main type  \n",
       "41                                                                                                                                                         Asset type emitting spill  \n",
       "42                                                                                                                             Last time we cleaned it - Gravity, Outfall, or Syphon  \n",
       "43                                                                                                                Time it took for crew to arrive (from call to boots on the ground)  \n",
       "44                                                                                                                                                        When crew arrived on scene  \n",
       "45                                                                                                                                             Was a public notice required/sent out  \n",
       "46                                                                                                                  Cleaning shcedule in Months that was implemented after the spill  \n",
       "47                                                                                                                                           Official, determined cause of the event  \n",
       "48  Steps taken to prevent future SSO:\\nFCS - clean Schedule, \\nDesign Request - need to replace pipe \\nPoint - did the repair onsite\\nI/I - investigate the inflow and inflitration  \n",
       "49                                                                                                                                   Additional spills wihtin same incident/24 hours  \n",
       "50                                                                                                                                                                               NaN  \n",
       "51                                                                                                                                                                               NaN  \n",
       "52                                                                                                                                                                               NaN  \n",
       "53                                                                                                                                                                               NaN  \n",
       "54                                                                                                                                                                               NaN  \n",
       "55                                                                                                                                                                               NaN  \n",
       "56                                                                                                                                                                               NaN  "
      ]
     },
     "execution_count": 3,
     "metadata": {},
     "output_type": "execute_result"
    }
   ],
   "source": [
    "df_dict"
   ]
  },
  {
   "cell_type": "code",
   "execution_count": 4,
   "metadata": {},
   "outputs": [],
   "source": [
    "# df = acquire_sso.acquire_sso()"
   ]
  },
  {
   "cell_type": "code",
   "execution_count": 5,
   "metadata": {},
   "outputs": [],
   "source": [
    "# df.head(1)"
   ]
  },
  {
   "cell_type": "code",
   "execution_count": 6,
   "metadata": {},
   "outputs": [],
   "source": [
    "# df = prepare_sso.prepare_sso_df()\n",
    "# df.head(1)"
   ]
  },
  {
   "cell_type": "code",
   "execution_count": 7,
   "metadata": {},
   "outputs": [],
   "source": [
    "# df = prepare.prepare_sso_df()\n",
    "# print(df.shape[0])\n",
    "# df.head(1)"
   ]
  },
  {
   "cell_type": "code",
   "execution_count": 8,
   "metadata": {},
   "outputs": [],
   "source": [
    "# df.columns = ['sso_id','report_date','spill_address_num','spill_st_name',\n",
    "#  'total_gal','gals_ret','spill_start','spill_stop','hrs','cause',\n",
    "#  'comments','actions','watershed','unit_id','unit_id2','discharge_to',\n",
    "#  'discharge_route','council_district','month','year','week',\n",
    "#  'earz_zone','pipe_diam','pipe_len','pipe_type','inst_year','inches_no',\n",
    "#  'rainfall_last3','spill_address_full','num_spills_recorded',\n",
    "#  'num_spills_24mos','prevspill_24mos','unit_type','asset_type',\n",
    "#  'last_cleaned','response_time','response_dttm','public_notice',\n",
    "#  'root_cause','hrs_2','gal_2','hrs_3','gal_3','days_since_cleaned']"
   ]
  },
  {
   "cell_type": "code",
   "execution_count": 9,
   "metadata": {},
   "outputs": [],
   "source": [
    "# df.head(1)"
   ]
  },
  {
   "cell_type": "code",
   "execution_count": 10,
   "metadata": {},
   "outputs": [],
   "source": [
    "# df.ResponseTime * 60"
   ]
  },
  {
   "cell_type": "code",
   "execution_count": 11,
   "metadata": {},
   "outputs": [],
   "source": [
    "# df.shape"
   ]
  },
  {
   "cell_type": "code",
   "execution_count": 12,
   "metadata": {},
   "outputs": [],
   "source": [
    "# df_dict.shape"
   ]
  },
  {
   "cell_type": "code",
   "execution_count": 13,
   "metadata": {},
   "outputs": [],
   "source": [
    "# df_dict['Data Description'].value_counts()"
   ]
  },
  {
   "cell_type": "code",
   "execution_count": 14,
   "metadata": {},
   "outputs": [],
   "source": [
    "# unused = ['Disregard','Ignore','Service Req # (internal use only)',\n",
    "#           'Not Used','Old mapping system reference (internal only)']\n",
    "# df_dict[df_dict['Data Description'].isin(unused)]"
   ]
  },
  {
   "cell_type": "code",
   "execution_count": 15,
   "metadata": {},
   "outputs": [],
   "source": [
    "# ready1_dict = df_dict[~df_dict['Data Description'].isin(unused)]\n",
    "# print(len(ready1_dict))\n",
    "# ready1_dict"
   ]
  },
  {
   "cell_type": "code",
   "execution_count": 16,
   "metadata": {},
   "outputs": [],
   "source": [
    "# null_fields = ['SPILL_START_2','SPILL_START_3',\n",
    "#                'SPILL_STOP_2','SPILL_STOP_3']\n",
    "# final_dict = ready1_dict[~ready1_dict.Field.isin(null_fields)]\\\n",
    "#                     .reset_index(drop=True)\n",
    "# len(final_dict)"
   ]
  },
  {
   "cell_type": "code",
   "execution_count": 17,
   "metadata": {},
   "outputs": [],
   "source": [
    "# final_dict"
   ]
  },
  {
   "cell_type": "code",
   "execution_count": 18,
   "metadata": {},
   "outputs": [],
   "source": [
    "# features_to_use = list(final_dict.Field)\n",
    "# len(features_to_use)"
   ]
  },
  {
   "cell_type": "code",
   "execution_count": 19,
   "metadata": {},
   "outputs": [],
   "source": [
    "# bad_features = list(df.columns[~df.columns.isin(features_to_use)])"
   ]
  },
  {
   "cell_type": "code",
   "execution_count": 20,
   "metadata": {},
   "outputs": [],
   "source": [
    "# df = df.drop(columns=bad_features)\n",
    "# df = df.drop(columns = ['TIMEINT','STEPS_TO_PREVENT'])\n",
    "# df.shape"
   ]
  },
  {
   "cell_type": "code",
   "execution_count": 21,
   "metadata": {},
   "outputs": [],
   "source": [
    "# string_features = ['SSO_ID','SPILL_ADDRESS','COUNCIL_DISTRICT',]\n",
    "# for col in string_features:\n",
    "#     df[col] = df[col].astype(str)\n",
    "    \n",
    "# time_features = ['REPORTDATE','SPILL_START','SPILL_STOP',\n",
    "#                  'ResponseDTTM', 'LASTCLND']\n",
    "# for col in time_features:\n",
    "#     df[col] = pd.to_datetime(df[col])\n",
    "    \n",
    "# fill_features = ['NUM_SPILLS_24MOS','PREVSPILL_24MOS','HRS_2',\n",
    "#                 'HRS_3','GAL_2','GAL_3']\n",
    "# for col in fill_features:\n",
    "#     df[col] = df[col].fillna(0)\n",
    "    \n",
    "# df.Root_Cause = df.Root_Cause.str.strip()"
   ]
  },
  {
   "cell_type": "code",
   "execution_count": 22,
   "metadata": {},
   "outputs": [],
   "source": [
    "# df['days_since_cleaned'] = (df.SPILL_START - df.LASTCLND).dt.days"
   ]
  },
  {
   "cell_type": "code",
   "execution_count": 23,
   "metadata": {},
   "outputs": [],
   "source": [
    "# df['country_address'] = df.spill_address_full + \\\n",
    "#                                   ',SAN ANTONIO,Texas,USA'\n",
    "# df.country_address"
   ]
  },
  {
   "cell_type": "code",
   "execution_count": 24,
   "metadata": {},
   "outputs": [],
   "source": [
    "# df[['country_address']].head(25)"
   ]
  },
  {
   "cell_type": "code",
   "execution_count": 25,
   "metadata": {},
   "outputs": [],
   "source": [
    "# for i in range(df.index.max()//5):\n",
    "#     print([1*i+5, 2*i+5, 3*i + 5])"
   ]
  },
  {
   "cell_type": "code",
   "execution_count": 26,
   "metadata": {},
   "outputs": [],
   "source": [
    "# lmo = pd.DataFrame()\n",
    "# lmo['loc'] = ['string','fnish']\n",
    "# lmo['was'] = [2,3]\n",
    "# lmo.was[1] = 4\n",
    "# lmo"
   ]
  },
  {
   "cell_type": "code",
   "execution_count": 27,
   "metadata": {},
   "outputs": [],
   "source": [
    "# locator = Nominatim(user_agent=\"myGeocoder\")\n",
    "# geocode = RateLimiter(locator.geocode, min_delay_seconds=.1)\n",
    "# test2 = pd.Series()\n",
    "\n",
    "# counter = 10\n",
    "# for i in range(0, df.index.max(), 10):\n",
    "#     test = df[['country_address']][i:counter]\n",
    "#     test['location'] = test['country_address'].apply(geocode)\n",
    "#     test['zip_code'] = 'None'\n",
    "#     for t,l in enumerate(test.location):\n",
    "#         if l is not None:\n",
    "#             test['zip_code'][counter+t-10] = l.raw['display_name']\\\n",
    "#                                     .split(',')[-2]\n",
    "#     time.sleep(2)\n",
    "#     test2 = test2.append(test.zip_code)\n",
    "#     counter+=10\n",
    "# test2"
   ]
  },
  {
   "cell_type": "markdown",
   "metadata": {},
   "source": [
    "### Working"
   ]
  },
  {
   "cell_type": "code",
   "execution_count": 28,
   "metadata": {},
   "outputs": [],
   "source": [
    "# locator = Nominatim(user_agent=\"myGeocoder\")\n",
    "# geocode = RateLimiter(locator.geocode, min_delay_seconds=.1, \n",
    "#                      max_retries=10, error_wait_seconds=1)\n",
    "# df['location'] = df['country_address'].apply(geocode)\n",
    "# df['zip_code'] = 'None'"
   ]
  },
  {
   "cell_type": "code",
   "execution_count": 29,
   "metadata": {},
   "outputs": [],
   "source": [
    "# for t,l in enumerate(df.location):\n",
    "#         if l is not None:\n",
    "#             df['zip_code'][t] = l.raw['display_name']\\\n",
    "#                                     .split(',')[-2]"
   ]
  },
  {
   "cell_type": "code",
   "execution_count": 30,
   "metadata": {},
   "outputs": [],
   "source": [
    "# df = prepare.prepare_sso_with_zipcodes()\n",
    "# print(df.shape[0])\n",
    "# df.head(1)"
   ]
  },
  {
   "cell_type": "code",
   "execution_count": 31,
   "metadata": {},
   "outputs": [],
   "source": [
    "# df = prepare_sso.prepare_sso_with_zipcodes()\n",
    "# df.head(1)"
   ]
  },
  {
   "cell_type": "code",
   "execution_count": 32,
   "metadata": {},
   "outputs": [],
   "source": [
    "# df.age.isna().sum()"
   ]
  },
  {
   "cell_type": "code",
   "execution_count": 33,
   "metadata": {},
   "outputs": [],
   "source": [
    "# df.age.median()"
   ]
  },
  {
   "cell_type": "code",
   "execution_count": 34,
   "metadata": {},
   "outputs": [],
   "source": [
    "# plt.figure(figsize=(16,8))\n",
    "# sns.swarmplot(x=\"root_cause\", y=\"age\", data=df)\n",
    "# plt.ylabel(\"Age of Sewer\")\n",
    "# plt.xlabel(\"Root Cause of SSO Event\")\n",
    "# plt.show()"
   ]
  },
  {
   "cell_type": "markdown",
   "metadata": {},
   "source": [
    "# Exploration"
   ]
  },
  {
   "cell_type": "code",
   "execution_count": 35,
   "metadata": {},
   "outputs": [],
   "source": [
    "# df = prepare.get_data()\n",
    "# # df = preprocessing.get_model_data()\n",
    "# print(df.shape)\n",
    "# df.head(1)"
   ]
  },
  {
   "cell_type": "code",
   "execution_count": 36,
   "metadata": {},
   "outputs": [],
   "source": [
    "# list(df.columns[-75:-50])"
   ]
  },
  {
   "cell_type": "code",
   "execution_count": 37,
   "metadata": {},
   "outputs": [],
   "source": [
    "# df[df.sso_id==2211].spill_start.dt.year\n",
    "# df[df.sso_id==2211].inst_year.astype(float)"
   ]
  },
  {
   "cell_type": "code",
   "execution_count": 38,
   "metadata": {},
   "outputs": [],
   "source": [
    "# df[(df.inst_year=='2011.0') & (df.age==37)]"
   ]
  },
  {
   "cell_type": "code",
   "execution_count": 39,
   "metadata": {},
   "outputs": [],
   "source": [
    "# df.inst_year[df.age==37].value_counts()"
   ]
  },
  {
   "cell_type": "code",
   "execution_count": 40,
   "metadata": {
    "scrolled": true
   },
   "outputs": [],
   "source": [
    "# df.age.value_counts()"
   ]
  },
  {
   "cell_type": "code",
   "execution_count": 41,
   "metadata": {},
   "outputs": [],
   "source": [
    "# df['unit_type_is_gravity'].sum()"
   ]
  },
  {
   "cell_type": "code",
   "execution_count": 42,
   "metadata": {},
   "outputs": [],
   "source": [
    "# df.root_cause.isna().sum()"
   ]
  },
  {
   "cell_type": "code",
   "execution_count": 43,
   "metadata": {},
   "outputs": [],
   "source": [
    "# df.root_cause.value_counts(dropna=False)"
   ]
  },
  {
   "cell_type": "code",
   "execution_count": 44,
   "metadata": {},
   "outputs": [],
   "source": [
    "# train, test = train_test_split(df, random_state=42, train_size=.8)"
   ]
  },
  {
   "cell_type": "code",
   "execution_count": 45,
   "metadata": {},
   "outputs": [],
   "source": [
    "# train.zip_code.value_counts().head(5)"
   ]
  },
  {
   "cell_type": "code",
   "execution_count": 46,
   "metadata": {},
   "outputs": [],
   "source": [
    "# train.isna().sum()"
   ]
  },
  {
   "cell_type": "code",
   "execution_count": 47,
   "metadata": {},
   "outputs": [],
   "source": [
    "# train.spill_address_full.head(15)"
   ]
  },
  {
   "cell_type": "code",
   "execution_count": 48,
   "metadata": {},
   "outputs": [],
   "source": [
    "# train.days_since_cleaned.dropna()"
   ]
  },
  {
   "cell_type": "code",
   "execution_count": 49,
   "metadata": {},
   "outputs": [],
   "source": [
    "# train[train.days_since_cleaned == train.days_since_cleaned.max()]"
   ]
  },
  {
   "cell_type": "code",
   "execution_count": 50,
   "metadata": {},
   "outputs": [],
   "source": [
    "# features = df.isna().sum() / df.shape[0]\n",
    "# bad_list = features[features > .4]\n",
    "# print(len(bad_list))\n",
    "# bad_list"
   ]
  },
  {
   "cell_type": "code",
   "execution_count": 51,
   "metadata": {},
   "outputs": [],
   "source": [
    "# train.drop(columns='hours_spilled')\\\n",
    "#     .describe().apply(lambda s: s.apply(lambda x: format(x, 'f')))"
   ]
  },
  {
   "cell_type": "code",
   "execution_count": 52,
   "metadata": {},
   "outputs": [],
   "source": [
    "# len(train.report_date.unique())"
   ]
  },
  {
   "cell_type": "code",
   "execution_count": 53,
   "metadata": {},
   "outputs": [],
   "source": [
    "# train[train.num_spills_recorded == train.num_spills_recorded.max()]"
   ]
  },
  {
   "cell_type": "code",
   "execution_count": 54,
   "metadata": {},
   "outputs": [],
   "source": [
    "# train[train.total_gal.isin(list(train.total_gal.nlargest(8)))]"
   ]
  },
  {
   "cell_type": "code",
   "execution_count": 55,
   "metadata": {
    "scrolled": false
   },
   "outputs": [],
   "source": [
    "# train.age_binned.dropna().value_counts().sort_index().plot.bar()\n",
    "# plt.xticks(rotation=45)\n",
    "\n",
    "# plt.ylabel('Count of binned age')\n",
    "# plt.xlabel('Binned age')\n",
    "# plt.title('Binned age of sewers')\n",
    "# plt.show()"
   ]
  },
  {
   "cell_type": "code",
   "execution_count": 56,
   "metadata": {},
   "outputs": [],
   "source": [
    "# ax = train.groupby('root_cause').days_since_cleaned.mean()\\\n",
    "#     .sort_values(ascending=False).dropna().plot.barh()\n",
    "# ax.set_ylabel('')\n",
    "# ax.set_xlabel('Average days since cleaning')\n",
    "# plt.title('Average days since cleaning by root cause')\n",
    "# plt.show()"
   ]
  },
  {
   "cell_type": "code",
   "execution_count": 57,
   "metadata": {},
   "outputs": [],
   "source": [
    "# ax = train.groupby('root_cause').total_gal.median()\\\n",
    "#     .sort_values(ascending=False).dropna().plot.barh()\n",
    "# ax.set_ylabel('')\n",
    "# ax.set_xlabel('Median gallons spilled')\n",
    "# plt.title('Median gallons spilled by root cause')\n",
    "# plt.show()"
   ]
  },
  {
   "cell_type": "code",
   "execution_count": 58,
   "metadata": {},
   "outputs": [],
   "source": [
    "# train['total_gal_binned'].value_counts().sort_index().plot.bar()\n",
    "# plt.xticks(rotation=45)"
   ]
  },
  {
   "cell_type": "code",
   "execution_count": 59,
   "metadata": {},
   "outputs": [],
   "source": [
    "# train[train.days_since_cleaned == train.days_since_cleaned.max()]"
   ]
  },
  {
   "cell_type": "code",
   "execution_count": 60,
   "metadata": {},
   "outputs": [],
   "source": [
    "# train[train.inst_year == train.inst_year.max()].shape"
   ]
  },
  {
   "cell_type": "code",
   "execution_count": 61,
   "metadata": {},
   "outputs": [],
   "source": [
    "# df.zip_code.value_counts()"
   ]
  },
  {
   "cell_type": "code",
   "execution_count": 62,
   "metadata": {},
   "outputs": [],
   "source": [
    "# df.inches_no.isna().sum()"
   ]
  },
  {
   "cell_type": "code",
   "execution_count": 63,
   "metadata": {},
   "outputs": [],
   "source": [
    "# df[df.age=='unknown'].shape"
   ]
  },
  {
   "cell_type": "code",
   "execution_count": 64,
   "metadata": {},
   "outputs": [],
   "source": [
    "# df.age = df.age.replace('unknown', 0)\n",
    "# df.age = df.age.replace(0, df.age.median())"
   ]
  },
  {
   "cell_type": "code",
   "execution_count": 65,
   "metadata": {},
   "outputs": [],
   "source": [
    "# df.age"
   ]
  },
  {
   "cell_type": "code",
   "execution_count": 66,
   "metadata": {},
   "outputs": [],
   "source": [
    "# df.days_since_cleaned.median()"
   ]
  },
  {
   "cell_type": "code",
   "execution_count": 67,
   "metadata": {},
   "outputs": [],
   "source": [
    "# df[df.zip_code=='78245'].root_cause.value_counts()"
   ]
  },
  {
   "cell_type": "code",
   "execution_count": 68,
   "metadata": {},
   "outputs": [],
   "source": [
    "# root_cause_zipcode = df.groupby('zip_code').root_cause.apply(\n",
    "#         lambda x: x.value_counts().head(1))\n",
    "# # root_cause_zipcode.to_csv('root_cause_zipcode.csv')\n",
    "# root_cause_zipcode.sort_values().tail(40)"
   ]
  },
  {
   "cell_type": "code",
   "execution_count": 69,
   "metadata": {},
   "outputs": [],
   "source": [
    "# train.pipe_type.value_counts()"
   ]
  },
  {
   "cell_type": "code",
   "execution_count": 70,
   "metadata": {
    "scrolled": false
   },
   "outputs": [],
   "source": [
    "# train.groupby('age_binned').total_gal.median()\\\n",
    "#     .sort_values(ascending=False)"
   ]
  },
  {
   "cell_type": "code",
   "execution_count": 71,
   "metadata": {},
   "outputs": [],
   "source": [
    "# train.root_cause.value_counts()"
   ]
  },
  {
   "cell_type": "code",
   "execution_count": 72,
   "metadata": {},
   "outputs": [],
   "source": [
    "# train.head(1)"
   ]
  },
  {
   "cell_type": "code",
   "execution_count": 73,
   "metadata": {},
   "outputs": [],
   "source": [
    "# train[train.root_cause == 'other']['cause'].value_counts()"
   ]
  },
  {
   "cell_type": "code",
   "execution_count": 74,
   "metadata": {},
   "outputs": [],
   "source": [
    "# top_worst_spills = train[train.total_gal.isin(\n",
    "#                             train.total_gal.nlargest(15))]\n",
    "# top_worst_spills[['age_binned','total_gal']]\\\n",
    "#     .sort_values('total_gal', ascending=False)"
   ]
  },
  {
   "cell_type": "code",
   "execution_count": 75,
   "metadata": {},
   "outputs": [],
   "source": [
    "# top_bins = top_worst_spills.sort_values(by='total_gal', \n",
    "#                         ).age_binned.value_counts()\n",
    "# top_bins[top_bins>0]"
   ]
  },
  {
   "cell_type": "code",
   "execution_count": 76,
   "metadata": {},
   "outputs": [],
   "source": [
    "# train.groupby('age_binned').total_gal.mean()\\\n",
    "#             .dropna().sort_values().tail(6)"
   ]
  },
  {
   "cell_type": "code",
   "execution_count": 77,
   "metadata": {},
   "outputs": [],
   "source": [
    "# ax = train.groupby('age_binned').total_gal.median()\\\n",
    "#             .dropna().sort_values().tail(6).plot.barh()\n",
    "# xlabels = ['{:,.1f}'.format(x) +'K' \n",
    "#                    for x in ax.get_xticks()/1000]\n",
    "# ax.set_xticklabels(xlabels)\n",
    "# ax.set_xlabel('Median gallons spilled')\n",
    "# ax.set_ylabel('Age binned')\n",
    "# plt.title('Median gallons spilled by binned age')\n",
    "# plt.show()"
   ]
  },
  {
   "cell_type": "code",
   "execution_count": 78,
   "metadata": {},
   "outputs": [],
   "source": [
    "# ax = train.groupby('age_binned').total_gal.mean()\\\n",
    "#             .dropna().sort_values().tail(6).plot.barh()\n",
    "# xlabels = ['{:,.0f}'.format(x) +'K' \n",
    "#                    for x in ax.get_xticks()/1000]\n",
    "# ax.set_xticklabels(xlabels)\n",
    "# ax.set_xlabel('Average gallons spilled')\n",
    "# ax.set_ylabel('Age binned')\n",
    "# plt.title('Average gallons spilled by binned age')\n",
    "# plt.show()"
   ]
  },
  {
   "cell_type": "code",
   "execution_count": 79,
   "metadata": {},
   "outputs": [],
   "source": [
    "# num_spills_recorded, num_spills_24mos"
   ]
  },
  {
   "cell_type": "code",
   "execution_count": 80,
   "metadata": {},
   "outputs": [],
   "source": [
    "# sns.barplot(train.num_spills_recorded, train.root_cause)\n",
    "# plt.xlabel('Average number of spills')\n",
    "# plt.ylabel('')\n",
    "# plt.title('Average number of spill recorded by root cause of event')\n",
    "# plt.show()"
   ]
  },
  {
   "cell_type": "code",
   "execution_count": 81,
   "metadata": {},
   "outputs": [],
   "source": [
    "# train.groupby('root_cause').num_spills_24mos.sum()\n",
    "# df.root_cause.value_counts()"
   ]
  },
  {
   "cell_type": "code",
   "execution_count": 82,
   "metadata": {},
   "outputs": [],
   "source": [
    "# sns.swarmplot(train.root_cause, train.num_spills_24mos)\n",
    "# plt.xlabel('Root cause')\n",
    "# plt.ylabel('Number of spills')\n",
    "# plt.title(\n",
    "# 'Number of spills in last 24 months by root cause of event')\n",
    "# plt.show()"
   ]
  },
  {
   "cell_type": "code",
   "execution_count": 83,
   "metadata": {},
   "outputs": [],
   "source": [
    "# sns.barplot(train.num_spills_24mos, train.root_cause)\n",
    "# plt.xlabel('Average number of spills')\n",
    "# plt.ylabel('')\n",
    "# plt.title(\n",
    "# 'Average number of spills in last 24 months by root cause of event')\n",
    "# plt.show()"
   ]
  },
  {
   "cell_type": "code",
   "execution_count": 84,
   "metadata": {},
   "outputs": [],
   "source": [
    "# df.to_csv('cleaned_df.csv')"
   ]
  },
  {
   "cell_type": "markdown",
   "metadata": {},
   "source": [
    "## Make data useable for modeling"
   ]
  },
  {
   "cell_type": "code",
   "execution_count": 85,
   "metadata": {
    "scrolled": true
   },
   "outputs": [],
   "source": [
    "# list(df.columns)"
   ]
  },
  {
   "cell_type": "code",
   "execution_count": 86,
   "metadata": {},
   "outputs": [],
   "source": [
    "# df.inst_year = df.inst_year[df.inst_year!='unknown']"
   ]
  },
  {
   "cell_type": "code",
   "execution_count": 87,
   "metadata": {},
   "outputs": [],
   "source": [
    "# df.last_cleaned.value_counts()"
   ]
  },
  {
   "cell_type": "code",
   "execution_count": 88,
   "metadata": {},
   "outputs": [],
   "source": [
    "# unwanted = ['spill_st_name','comments','actions','discharge_to',\n",
    "#            'discharge_route','spill_address_full','prevspill_24mos',\n",
    "#            'last_cleaned','country_address','location']\n",
    "# categorical_columns = [col for col in list(\n",
    "#                 df.dtypes[df.dtypes=='O'].index) \n",
    "#                  if col not in unwanted]"
   ]
  },
  {
   "cell_type": "code",
   "execution_count": 89,
   "metadata": {},
   "outputs": [],
   "source": [
    "# columns_to_drop_from_model = [\n",
    "#     \"sso_id\",\"report_date\",\"spill_address_num\",\"spill_st_name\",\n",
    "#     \"spill_stop\",\"spill_start\",\"cause\",\"comments\",\"actions\",\n",
    "#     \"month\",\"year\",\"week\",\"spill_address_full\",\"last_cleaned\",\n",
    "#     \"response_dttm\",\"prevspill_24mos\",\"public_notice\",\n",
    "#     \"country_address\",\"location\",\"inches_no\",\"rainfall_last3\",\n",
    "#     \"unit_id\",\"unit_id2\",\"zip_code\",\"discharge_to\",\"discharge_route\",\n",
    "#     \"council_district\",\"hours_spilled\",\"hrs\",\"gals_ret\",\n",
    "#     \"response_time\"\n",
    "# ]\n",
    "\n",
    "# df2 = df.copy().drop(columns=columns_to_drop_from_model)\n",
    "# print(df2.shape)\n",
    "# df2.head(1)"
   ]
  },
  {
   "cell_type": "code",
   "execution_count": 90,
   "metadata": {},
   "outputs": [],
   "source": [
    "# categorical_columns = [\n",
    "#     \"watershed\",\n",
    "#     \"earz_zone\",\n",
    "#     \"pipe_type\",\n",
    "#     \"inst_year\",\n",
    "#     \"unit_type\",\n",
    "#     \"asset_type\",\n",
    "#     \"age_binned\",\n",
    "#     \"total_gal_binned\"\n",
    "    \n",
    "# ]\n",
    "\n",
    "# for column in categorical_columns:\n",
    "#     if is_numeric_dtype(df2[f\"{column}\"]):\n",
    "#         values = df2[f\"{column}\"].unique()\n",
    "#         for value in values:\n",
    "#             df2[f\"{column}_is_{value}\"]=(df2[f\"{column}\"] == value)\\\n",
    "#                     .astype(int)\n",
    "#         df2 = df2.drop(columns=column)\n",
    "#     elif is_string_dtype(df2[f\"{column}\"]):\n",
    "#         values = df2[f\"{column}\"].astype(str).str.lower().unique()\n",
    "#         for value in values:\n",
    "#             df2[f\"{column}_is_{value}\"]=(df2[f\"{column}\"] == value)\\\n",
    "#                 .astype(int)\n",
    "#         df2 = df2.drop(columns=column)"
   ]
  },
  {
   "cell_type": "code",
   "execution_count": 91,
   "metadata": {},
   "outputs": [],
   "source": [
    "# df2.head(1)"
   ]
  },
  {
   "cell_type": "code",
   "execution_count": 92,
   "metadata": {},
   "outputs": [],
   "source": [
    "# df2.root_cause.value_counts(dropna=False)"
   ]
  },
  {
   "cell_type": "code",
   "execution_count": 93,
   "metadata": {},
   "outputs": [],
   "source": [
    "# other_causes = ['vandalism','roots','i/i','by pass pump leak']\n",
    "# for cause in other_causes:\n",
    "#     df2.root_cause = df2.root_cause.replace(cause, 'other')\n",
    "# df2.root_cause.value_counts()"
   ]
  },
  {
   "cell_type": "code",
   "execution_count": 94,
   "metadata": {},
   "outputs": [
    {
     "data": {
      "text/html": [
       "<div>\n",
       "<style scoped>\n",
       "    .dataframe tbody tr th:only-of-type {\n",
       "        vertical-align: middle;\n",
       "    }\n",
       "\n",
       "    .dataframe tbody tr th {\n",
       "        vertical-align: top;\n",
       "    }\n",
       "\n",
       "    .dataframe thead th {\n",
       "        text-align: right;\n",
       "    }\n",
       "</style>\n",
       "<table border=\"1\" class=\"dataframe\">\n",
       "  <thead>\n",
       "    <tr style=\"text-align: right;\">\n",
       "      <th></th>\n",
       "      <th>total_gal</th>\n",
       "      <th>pipe_diam</th>\n",
       "      <th>pipe_len</th>\n",
       "      <th>num_spills_recorded</th>\n",
       "      <th>num_spills_24mos</th>\n",
       "      <th>root_cause</th>\n",
       "      <th>hrs_2</th>\n",
       "      <th>gal_2</th>\n",
       "      <th>hrs_3</th>\n",
       "      <th>gal_3</th>\n",
       "      <th>days_since_cleaned</th>\n",
       "      <th>age</th>\n",
       "      <th>precipitation</th>\n",
       "      <th>snowfall</th>\n",
       "      <th>snow_depth</th>\n",
       "      <th>avg_temp</th>\n",
       "      <th>max_temp</th>\n",
       "      <th>min_temp</th>\n",
       "      <th>foggy</th>\n",
       "      <th>heavy_fog</th>\n",
       "      <th>thunder</th>\n",
       "      <th>hail</th>\n",
       "      <th>blowing_snow</th>\n",
       "      <th>rain</th>\n",
       "      <th>precipitation_rolling_7</th>\n",
       "      <th>...</th>\n",
       "      <th>age_binned_is_(10.0, 15.0]</th>\n",
       "      <th>age_binned_is_(55.0, 60.0]</th>\n",
       "      <th>age_binned_is_nan</th>\n",
       "      <th>age_binned_is_(15.0, 20.0]</th>\n",
       "      <th>age_binned_is_(45.0, 50.0]</th>\n",
       "      <th>age_binned_is_(50.0, 55.0]</th>\n",
       "      <th>age_binned_is_(70.0, 75.0]</th>\n",
       "      <th>age_binned_is_(40.0, 45.0]</th>\n",
       "      <th>age_binned_is_(90.0, 95.0]</th>\n",
       "      <th>age_binned_is_(115.0, 120.0]</th>\n",
       "      <th>age_binned_is_(105.0, 110.0]</th>\n",
       "      <th>age_binned_is_(85.0, 90.0]</th>\n",
       "      <th>age_binned_is_(95.0, 100.0]</th>\n",
       "      <th>age_binned_is_(75.0, 80.0]</th>\n",
       "      <th>age_binned_is_(100.0, 105.0]</th>\n",
       "      <th>age_binned_is_(80.0, 85.0]</th>\n",
       "      <th>age_binned_is_(110.0, 115.0]</th>\n",
       "      <th>total_gal_binned_is_(1000, 5000]</th>\n",
       "      <th>total_gal_binned_is_(50, 250]</th>\n",
       "      <th>total_gal_binned_is_(15, 50]</th>\n",
       "      <th>total_gal_binned_is_(250, 1000]</th>\n",
       "      <th>total_gal_binned_is_(5000, 50000]</th>\n",
       "      <th>total_gal_binned_is_(50000, 2000000]</th>\n",
       "      <th>total_gal_binned_is_(2000000, 13304550]</th>\n",
       "      <th>total_gal_binned_is_(0, 15]</th>\n",
       "    </tr>\n",
       "  </thead>\n",
       "  <tbody>\n",
       "    <tr>\n",
       "      <th>0</th>\n",
       "      <td>2100</td>\n",
       "      <td>8.0</td>\n",
       "      <td>16.55</td>\n",
       "      <td>1</td>\n",
       "      <td>1.0</td>\n",
       "      <td>other</td>\n",
       "      <td>0.0</td>\n",
       "      <td>0.0</td>\n",
       "      <td>0.0</td>\n",
       "      <td>0.0</td>\n",
       "      <td>164.0</td>\n",
       "      <td>22.0</td>\n",
       "      <td>0.0</td>\n",
       "      <td>0.0</td>\n",
       "      <td>0.0</td>\n",
       "      <td>69.0</td>\n",
       "      <td>79</td>\n",
       "      <td>60</td>\n",
       "      <td>1</td>\n",
       "      <td>1</td>\n",
       "      <td>0</td>\n",
       "      <td>0</td>\n",
       "      <td>0</td>\n",
       "      <td>0</td>\n",
       "      <td>0.004286</td>\n",
       "      <td>...</td>\n",
       "      <td>0</td>\n",
       "      <td>0</td>\n",
       "      <td>0</td>\n",
       "      <td>0</td>\n",
       "      <td>0</td>\n",
       "      <td>0</td>\n",
       "      <td>0</td>\n",
       "      <td>0</td>\n",
       "      <td>0</td>\n",
       "      <td>0</td>\n",
       "      <td>0</td>\n",
       "      <td>0</td>\n",
       "      <td>0</td>\n",
       "      <td>0</td>\n",
       "      <td>0</td>\n",
       "      <td>0</td>\n",
       "      <td>0</td>\n",
       "      <td>1</td>\n",
       "      <td>0</td>\n",
       "      <td>0</td>\n",
       "      <td>0</td>\n",
       "      <td>0</td>\n",
       "      <td>0</td>\n",
       "      <td>0</td>\n",
       "      <td>0</td>\n",
       "    </tr>\n",
       "  </tbody>\n",
       "</table>\n",
       "<p>1 rows × 237 columns</p>\n",
       "</div>"
      ],
      "text/plain": [
       "   total_gal  pipe_diam  pipe_len  num_spills_recorded  num_spills_24mos  \\\n",
       "0       2100        8.0     16.55                    1               1.0   \n",
       "\n",
       "  root_cause  hrs_2  gal_2  hrs_3  gal_3  days_since_cleaned   age  \\\n",
       "0      other    0.0    0.0    0.0    0.0               164.0  22.0   \n",
       "\n",
       "   precipitation  snowfall  snow_depth  avg_temp  max_temp  min_temp  foggy  \\\n",
       "0            0.0       0.0         0.0      69.0        79        60      1   \n",
       "\n",
       "   heavy_fog  thunder  hail  blowing_snow  rain  precipitation_rolling_7  ...  \\\n",
       "0          1        0     0             0     0                 0.004286  ...   \n",
       "\n",
       "   age_binned_is_(10.0, 15.0]  age_binned_is_(55.0, 60.0]  age_binned_is_nan  \\\n",
       "0                           0                           0                  0   \n",
       "\n",
       "   age_binned_is_(15.0, 20.0]  age_binned_is_(45.0, 50.0]  \\\n",
       "0                           0                           0   \n",
       "\n",
       "   age_binned_is_(50.0, 55.0]  age_binned_is_(70.0, 75.0]  \\\n",
       "0                           0                           0   \n",
       "\n",
       "   age_binned_is_(40.0, 45.0]  age_binned_is_(90.0, 95.0]  \\\n",
       "0                           0                           0   \n",
       "\n",
       "   age_binned_is_(115.0, 120.0]  age_binned_is_(105.0, 110.0]  \\\n",
       "0                             0                             0   \n",
       "\n",
       "   age_binned_is_(85.0, 90.0]  age_binned_is_(95.0, 100.0]  \\\n",
       "0                           0                            0   \n",
       "\n",
       "   age_binned_is_(75.0, 80.0]  age_binned_is_(100.0, 105.0]  \\\n",
       "0                           0                             0   \n",
       "\n",
       "   age_binned_is_(80.0, 85.0]  age_binned_is_(110.0, 115.0]  \\\n",
       "0                           0                             0   \n",
       "\n",
       "   total_gal_binned_is_(1000, 5000]  total_gal_binned_is_(50, 250]  \\\n",
       "0                                 1                              0   \n",
       "\n",
       "   total_gal_binned_is_(15, 50]  total_gal_binned_is_(250, 1000]  \\\n",
       "0                             0                                0   \n",
       "\n",
       "   total_gal_binned_is_(5000, 50000]  total_gal_binned_is_(50000, 2000000]  \\\n",
       "0                                  0                                     0   \n",
       "\n",
       "   total_gal_binned_is_(2000000, 13304550]  total_gal_binned_is_(0, 15]  \n",
       "0                                        0                            0  \n",
       "\n",
       "[1 rows x 237 columns]"
      ]
     },
     "execution_count": 94,
     "metadata": {},
     "output_type": "execute_result"
    }
   ],
   "source": [
    "df = preprocessing.get_model_data()\n",
    "df.head(1)"
   ]
  },
  {
   "cell_type": "code",
   "execution_count": 96,
   "metadata": {},
   "outputs": [
    {
     "data": {
      "text/plain": [
       "age    238\n",
       "dtype: int64"
      ]
     },
     "execution_count": 96,
     "metadata": {},
     "output_type": "execute_result"
    }
   ],
   "source": [
    "df.isna().sum()[df.isna().sum() > 0]"
   ]
  },
  {
   "cell_type": "code",
   "execution_count": 97,
   "metadata": {},
   "outputs": [],
   "source": [
    "df = df.dropna()"
   ]
  },
  {
   "cell_type": "code",
   "execution_count": 113,
   "metadata": {},
   "outputs": [
    {
     "data": {
      "image/png": "[encoded data removed]",
      "text/plain": [
       "<Figure size 1152x576 with 1 Axes>"
      ]
     },
     "metadata": {
      "needs_background": "light"
     },
     "output_type": "display_data"
    }
   ],
   "source": [
    "plt.figure(figsize=(16,8))\n",
    "sns.swarmplot(x=\"root_cause\", y=\"age\", data=df)\n",
    "plt.ylabel(\"Age of Sewer\")\n",
    "plt.xlabel(\"Root Cause of SSO Event\")\n",
    "plt.show()"
   ]
  },
  {
   "cell_type": "code",
   "execution_count": 98,
   "metadata": {},
   "outputs": [],
   "source": [
    "# df2.age.isna().sum()"
   ]
  },
  {
   "cell_type": "code",
   "execution_count": 99,
   "metadata": {},
   "outputs": [],
   "source": [
    "# df2.isna().sum()[df2.isna().sum() > 0]"
   ]
  },
  {
   "cell_type": "code",
   "execution_count": 100,
   "metadata": {},
   "outputs": [],
   "source": [
    "# df2.shape"
   ]
  },
  {
   "cell_type": "code",
   "execution_count": 102,
   "metadata": {},
   "outputs": [],
   "source": [
    "X = df.drop(columns='root_cause')\n",
    "y = df.root_cause\n",
    "\n",
    "X_train, X_test, y_train, y_test = \\\n",
    "    train_test_split(X, y, train_size=.8, random_state=13,)\n",
    "X_train, X_val, y_train, y_val = \\\n",
    "    train_test_split(X_train, y_train, train_size=.75,\n",
    "                     random_state=13,)"
   ]
  },
  {
   "cell_type": "markdown",
   "metadata": {},
   "source": [
    "### Decision Tree"
   ]
  },
  {
   "cell_type": "code",
   "execution_count": 103,
   "metadata": {},
   "outputs": [
    {
     "data": {
      "text/plain": [
       "Series([], dtype: int64)"
      ]
     },
     "execution_count": 103,
     "metadata": {},
     "output_type": "execute_result"
    }
   ],
   "source": [
    "X_train.isna().sum()[X_train.isna().sum() > 0]"
   ]
  },
  {
   "cell_type": "code",
   "execution_count": 104,
   "metadata": {},
   "outputs": [
    {
     "name": "stdout",
     "output_type": "stream",
     "text": [
      "{'criterion': 'gini', 'max_depth': 4, 'min_samples_leaf': 4}\n"
     ]
    }
   ],
   "source": [
    "params = {'max_depth': range(1,13), 'min_samples_leaf': range(1,7),\n",
    "          'criterion': ['gini', 'entropy']}\n",
    "model = DecisionTreeClassifier(random_state=13)\n",
    "grid = GridSearchCV(model, params, cv=None, iid=True)\n",
    "grid.fit(X_train, y_train)\n",
    "print(grid.best_params_)"
   ]
  },
  {
   "cell_type": "code",
   "execution_count": 105,
   "metadata": {},
   "outputs": [
    {
     "data": {
      "text/html": [
       "<div>\n",
       "<style scoped>\n",
       "    .dataframe tbody tr th:only-of-type {\n",
       "        vertical-align: middle;\n",
       "    }\n",
       "\n",
       "    .dataframe tbody tr th {\n",
       "        vertical-align: top;\n",
       "    }\n",
       "\n",
       "    .dataframe thead th {\n",
       "        text-align: right;\n",
       "    }\n",
       "</style>\n",
       "<table border=\"1\" class=\"dataframe\">\n",
       "  <thead>\n",
       "    <tr style=\"text-align: right;\">\n",
       "      <th></th>\n",
       "      <th>criterion</th>\n",
       "      <th>max_depth</th>\n",
       "      <th>min_samples_leaf</th>\n",
       "      <th>score</th>\n",
       "    </tr>\n",
       "  </thead>\n",
       "  <tbody>\n",
       "    <tr>\n",
       "      <th>19</th>\n",
       "      <td>gini</td>\n",
       "      <td>4</td>\n",
       "      <td>2</td>\n",
       "      <td>0.531409</td>\n",
       "    </tr>\n",
       "    <tr>\n",
       "      <th>20</th>\n",
       "      <td>gini</td>\n",
       "      <td>4</td>\n",
       "      <td>3</td>\n",
       "      <td>0.531975</td>\n",
       "    </tr>\n",
       "    <tr>\n",
       "      <th>21</th>\n",
       "      <td>gini</td>\n",
       "      <td>4</td>\n",
       "      <td>4</td>\n",
       "      <td>0.532541</td>\n",
       "    </tr>\n",
       "    <tr>\n",
       "      <th>23</th>\n",
       "      <td>gini</td>\n",
       "      <td>4</td>\n",
       "      <td>6</td>\n",
       "      <td>0.532541</td>\n",
       "    </tr>\n",
       "    <tr>\n",
       "      <th>22</th>\n",
       "      <td>gini</td>\n",
       "      <td>4</td>\n",
       "      <td>5</td>\n",
       "      <td>0.532541</td>\n",
       "    </tr>\n",
       "  </tbody>\n",
       "</table>\n",
       "</div>"
      ],
      "text/plain": [
       "   criterion  max_depth  min_samples_leaf     score\n",
       "19      gini          4                 2  0.531409\n",
       "20      gini          4                 3  0.531975\n",
       "21      gini          4                 4  0.532541\n",
       "23      gini          4                 6  0.532541\n",
       "22      gini          4                 5  0.532541"
      ]
     },
     "execution_count": 105,
     "metadata": {},
     "output_type": "execute_result"
    }
   ],
   "source": [
    "results = grid.cv_results_\n",
    "for score, p in zip(results['mean_test_score'], results['params']):\n",
    "    p['score'] = score\n",
    "pd.DataFrame(results['params']).sort_values('score').tail(5)"
   ]
  },
  {
   "cell_type": "code",
   "execution_count": 127,
   "metadata": {},
   "outputs": [
    {
     "name": "stdout",
     "output_type": "stream",
     "text": [
      "Accuracy Score on Train:     58.35%\n",
      "Accuracy Score on Val:     53.82%\n"
     ]
    }
   ],
   "source": [
    "tree = DecisionTreeClassifier(max_depth=6, min_samples_leaf=1,\n",
    "                              criterion='gini',random_state=13)\n",
    "tree.fit(X_train, y_train)\n",
    "y_pred = tree.predict(X_train)\n",
    "print(f'Accuracy Score on Train: \\\n",
    "    {tree.score(X_train, y_train) * 100:.2f}%')\n",
    "print(f'Accuracy Score on Val: \\\n",
    "    {tree.score(X_val, y_val) * 100:.2f}%')"
   ]
  },
  {
   "cell_type": "code",
   "execution_count": 110,
   "metadata": {},
   "outputs": [
    {
     "data": {
      "text/html": [
       "<div>\n",
       "<style scoped>\n",
       "    .dataframe tbody tr th:only-of-type {\n",
       "        vertical-align: middle;\n",
       "    }\n",
       "\n",
       "    .dataframe tbody tr th {\n",
       "        vertical-align: top;\n",
       "    }\n",
       "\n",
       "    .dataframe thead th {\n",
       "        text-align: right;\n",
       "    }\n",
       "</style>\n",
       "<table border=\"1\" class=\"dataframe\">\n",
       "  <thead>\n",
       "    <tr style=\"text-align: right;\">\n",
       "      <th></th>\n",
       "      <th>precision</th>\n",
       "      <th>recall</th>\n",
       "      <th>f1-score</th>\n",
       "      <th>support</th>\n",
       "    </tr>\n",
       "  </thead>\n",
       "  <tbody>\n",
       "    <tr>\n",
       "      <th>by pass pump leak</th>\n",
       "      <td>0.000000</td>\n",
       "      <td>0.000000</td>\n",
       "      <td>0.000000</td>\n",
       "      <td>1.000000</td>\n",
       "    </tr>\n",
       "    <tr>\n",
       "      <th>contractor</th>\n",
       "      <td>0.000000</td>\n",
       "      <td>0.000000</td>\n",
       "      <td>0.000000</td>\n",
       "      <td>89.000000</td>\n",
       "    </tr>\n",
       "    <tr>\n",
       "      <th>debris</th>\n",
       "      <td>0.473684</td>\n",
       "      <td>0.032609</td>\n",
       "      <td>0.061017</td>\n",
       "      <td>276.000000</td>\n",
       "    </tr>\n",
       "    <tr>\n",
       "      <th>grease</th>\n",
       "      <td>0.328358</td>\n",
       "      <td>0.617978</td>\n",
       "      <td>0.428850</td>\n",
       "      <td>356.000000</td>\n",
       "    </tr>\n",
       "    <tr>\n",
       "      <th>i/i</th>\n",
       "      <td>0.000000</td>\n",
       "      <td>0.000000</td>\n",
       "      <td>0.000000</td>\n",
       "      <td>8.000000</td>\n",
       "    </tr>\n",
       "    <tr>\n",
       "      <th>lift station</th>\n",
       "      <td>0.952381</td>\n",
       "      <td>0.857143</td>\n",
       "      <td>0.902256</td>\n",
       "      <td>70.000000</td>\n",
       "    </tr>\n",
       "    <tr>\n",
       "      <th>other</th>\n",
       "      <td>0.000000</td>\n",
       "      <td>0.000000</td>\n",
       "      <td>0.000000</td>\n",
       "      <td>32.000000</td>\n",
       "    </tr>\n",
       "    <tr>\n",
       "      <th>rain event</th>\n",
       "      <td>0.723183</td>\n",
       "      <td>0.896996</td>\n",
       "      <td>0.800766</td>\n",
       "      <td>233.000000</td>\n",
       "    </tr>\n",
       "    <tr>\n",
       "      <th>roots</th>\n",
       "      <td>0.000000</td>\n",
       "      <td>0.000000</td>\n",
       "      <td>0.000000</td>\n",
       "      <td>16.000000</td>\n",
       "    </tr>\n",
       "    <tr>\n",
       "      <th>structural</th>\n",
       "      <td>0.648760</td>\n",
       "      <td>0.731366</td>\n",
       "      <td>0.687591</td>\n",
       "      <td>644.000000</td>\n",
       "    </tr>\n",
       "    <tr>\n",
       "      <th>vandalism</th>\n",
       "      <td>0.000000</td>\n",
       "      <td>0.000000</td>\n",
       "      <td>0.000000</td>\n",
       "      <td>42.000000</td>\n",
       "    </tr>\n",
       "    <tr>\n",
       "      <th>accuracy</th>\n",
       "      <td>0.548387</td>\n",
       "      <td>0.548387</td>\n",
       "      <td>0.548387</td>\n",
       "      <td>0.548387</td>\n",
       "    </tr>\n",
       "    <tr>\n",
       "      <th>macro avg</th>\n",
       "      <td>0.284215</td>\n",
       "      <td>0.285099</td>\n",
       "      <td>0.261862</td>\n",
       "      <td>1767.000000</td>\n",
       "    </tr>\n",
       "    <tr>\n",
       "      <th>weighted avg</th>\n",
       "      <td>0.509679</td>\n",
       "      <td>0.548387</td>\n",
       "      <td>0.487864</td>\n",
       "      <td>1767.000000</td>\n",
       "    </tr>\n",
       "  </tbody>\n",
       "</table>\n",
       "</div>"
      ],
      "text/plain": [
       "                   precision    recall  f1-score      support\n",
       "by pass pump leak   0.000000  0.000000  0.000000     1.000000\n",
       "contractor          0.000000  0.000000  0.000000    89.000000\n",
       "debris              0.473684  0.032609  0.061017   276.000000\n",
       "grease              0.328358  0.617978  0.428850   356.000000\n",
       "i/i                 0.000000  0.000000  0.000000     8.000000\n",
       "lift station        0.952381  0.857143  0.902256    70.000000\n",
       "other               0.000000  0.000000  0.000000    32.000000\n",
       "rain event          0.723183  0.896996  0.800766   233.000000\n",
       "roots               0.000000  0.000000  0.000000    16.000000\n",
       "structural          0.648760  0.731366  0.687591   644.000000\n",
       "vandalism           0.000000  0.000000  0.000000    42.000000\n",
       "accuracy            0.548387  0.548387  0.548387     0.548387\n",
       "macro avg           0.284215  0.285099  0.261862  1767.000000\n",
       "weighted avg        0.509679  0.548387  0.487864  1767.000000"
      ]
     },
     "execution_count": 110,
     "metadata": {},
     "output_type": "execute_result"
    }
   ],
   "source": [
    "pd.DataFrame(classification_report(y_train, y_pred,\n",
    "                                   output_dict=True)).T"
   ]
  },
  {
   "cell_type": "code",
   "execution_count": 112,
   "metadata": {},
   "outputs": [
    {
     "data": {
      "text/plain": [
       "'saws-prediction-tree.pdf'"
      ]
     },
     "execution_count": 112,
     "metadata": {},
     "output_type": "execute_result"
    }
   ],
   "source": [
    "dot_data = export_graphviz(tree, \n",
    "                           feature_names= X_train.columns.tolist(),\n",
    "                           class_names= y_train.value_counts(normalize=True).index.sort_values().tolist(),\n",
    "                           out_file=None) \n",
    "graph = graphviz.Source(dot_data) \n",
    "\n",
    "graph.render('saws-prediction-tree', view=True)"
   ]
  },
  {
   "cell_type": "markdown",
   "metadata": {},
   "source": [
    "68% on 742 points\n",
    "\n",
    "80% on 241 points\n",
    "\n",
    "88% on 84  points\n",
    "\n",
    "39% on 367 points\n",
    "\n",
    "00% on 266 points"
   ]
  },
  {
   "cell_type": "code",
   "execution_count": null,
   "metadata": {},
   "outputs": [],
   "source": [
    "print(pd.Series([.68,.80,.88]).mean())\n",
    "print((742+241+84)/1909)"
   ]
  },
  {
   "cell_type": "code",
   "execution_count": null,
   "metadata": {},
   "outputs": [],
   "source": [
    "print(pd.Series([.68,.80,.88,.39]).mean())\n",
    "print((742+241+84+367)/1909)"
   ]
  },
  {
   "cell_type": "code",
   "execution_count": null,
   "metadata": {},
   "outputs": [],
   "source": [
    "print(pd.Series([.68,.80,.88,.39,.00]).mean())\n",
    "print((742+241+84+367+266)/1909)"
   ]
  },
  {
   "cell_type": "code",
   "execution_count": null,
   "metadata": {},
   "outputs": [],
   "source": [
    "print(f'Accuracy Score on Test: \\\n",
    "    {tree.score(X_test, y_test) * 100:.2f}%')"
   ]
  },
  {
   "cell_type": "markdown",
   "metadata": {},
   "source": [
    "### Logistic Regression"
   ]
  },
  {
   "cell_type": "code",
   "execution_count": null,
   "metadata": {},
   "outputs": [],
   "source": [
    "model = LogisticRegression(random_state = 13).fit(X_train, y_train)\n",
    "y_pred = model.predict(X_train)\n",
    "y_pred_prob = model.predict_proba(X_train)\n",
    "\n",
    "print(f'Accuracy Score on Train: \\\n",
    "    {model.score(X_train, y_train) * 100:.2f}%')\n",
    "print(f'Accuracy Score on Val: \\\n",
    "    {model.score(X_val, y_val) * 100:.2f}%')"
   ]
  },
  {
   "cell_type": "code",
   "execution_count": null,
   "metadata": {},
   "outputs": [],
   "source": [
    "pd.DataFrame(classification_report(y_train, y_pred,\n",
    "                                   output_dict=True)).T"
   ]
  },
  {
   "cell_type": "markdown",
   "metadata": {},
   "source": [
    "### Random Forest"
   ]
  },
  {
   "cell_type": "code",
   "execution_count": null,
   "metadata": {},
   "outputs": [],
   "source": [
    "params = {'max_depth': range(1,13), 'min_samples_leaf': range(1,4),}\n",
    "          #'criterion': ['gini', 'entropy']}\n",
    "model = RandomForestClassifier(random_state=13)\n",
    "grid = GridSearchCV(model, params, cv=None, iid=True)\n",
    "grid.fit(X_train, y_train)\n",
    "print(grid.best_params_)"
   ]
  },
  {
   "cell_type": "code",
   "execution_count": null,
   "metadata": {},
   "outputs": [],
   "source": [
    "results = grid.cv_results_\n",
    "for score, p in zip(results['mean_test_score'], results['params']):\n",
    "    p['score'] = score\n",
    "pd.DataFrame(results['params']).sort_values('score').tail(5)"
   ]
  },
  {
   "cell_type": "code",
   "execution_count": null,
   "metadata": {},
   "outputs": [],
   "source": [
    "# forest = RandomForestClassifier(random_state=42, \n",
    "#     min_samples_leaf=1, max_depth=10, \n",
    "#     criterion='entropy').fit(X_train, y_train)\n",
    "forest = RandomForestClassifier(random_state=13, min_samples_leaf=2,\n",
    "                               max_depth=8).fit(X_train, y_train)\n",
    "y_pred = forest.predict(X_train)\n",
    "print(f'Accuracy Score on Train: \\\n",
    "    {forest.score(X_train, y_train) * 100:.2f}%')\n",
    "print(f'Accuracy Score on Val: \\\n",
    "    {forest.score(X_val, y_val) * 100:.2f}%')"
   ]
  },
  {
   "cell_type": "code",
   "execution_count": null,
   "metadata": {},
   "outputs": [],
   "source": [
    "pd.DataFrame(classification_report(y_train, y_pred,\n",
    "                                   output_dict=True)).T"
   ]
  },
  {
   "cell_type": "markdown",
   "metadata": {},
   "source": [
    "### KNeighbors Classifier"
   ]
  },
  {
   "cell_type": "code",
   "execution_count": null,
   "metadata": {},
   "outputs": [],
   "source": [
    "scaler = MinMaxScaler()\n",
    "scaler.fit(X_train)\n",
    "\n",
    "X_train_scaled = pd.DataFrame(scaler.transform(X_train), \n",
    "                      columns=X_train.columns, index=X_train.index)\n",
    "X_val_scaled = pd.DataFrame(scaler.transform(X_val), \n",
    "                        columns=X_val.columns, index=X_val.index)\n",
    "X_test_scaled = pd.DataFrame(scaler.transform(X_test), \n",
    "                        columns=X_test.columns, index=X_test.index)"
   ]
  },
  {
   "cell_type": "code",
   "execution_count": null,
   "metadata": {},
   "outputs": [],
   "source": [
    "# params = {'n_neighbors': range(1,13), 'p': range(1,6),}\n",
    "# #           'weights': ['uniform', 'distance']}\n",
    "# model = KNeighborsClassifier()\n",
    "# grid = GridSearchCV(model, params, cv=4, iid=True)\n",
    "# grid.fit(X_train_scaled, y_train)\n",
    "# print(grid.best_params_)"
   ]
  },
  {
   "cell_type": "code",
   "execution_count": null,
   "metadata": {},
   "outputs": [],
   "source": [
    "# results = grid.cv_results_\n",
    "# for score, p in zip(results['mean_test_score'], results['params']):\n",
    "#     p['score'] = score\n",
    "# pd.DataFrame(results['params']).sort_values('score').tail(5)"
   ]
  },
  {
   "cell_type": "code",
   "execution_count": null,
   "metadata": {},
   "outputs": [],
   "source": [
    "knmodel = KNeighborsClassifier(n_neighbors=12, p=1, \n",
    "                ).fit(X_train_scaled, y_train)\n",
    "y_pred = knmodel.predict(X_train_scaled)\n",
    "\n",
    "print(f'Accuracy Score on Train: \\\n",
    "    {knmodel.score(X_train_scaled, y_train) * 100:.2f}%')\n",
    "print(f'Accuracy Score on Val: \\\n",
    "    {knmodel.score(X_val_scaled, y_val) * 100:.2f}%')"
   ]
  },
  {
   "cell_type": "code",
   "execution_count": null,
   "metadata": {},
   "outputs": [],
   "source": [
    "pd.DataFrame(classification_report(y_train, y_pred,\n",
    "                                   output_dict=True)).T"
   ]
  },
  {
   "cell_type": "markdown",
   "metadata": {},
   "source": [
    "68.2% on 742\n",
    "\n",
    "80.0% on 241\n",
    "\n",
    "65.7% on 84\n",
    "\n",
    "40.7% on 367"
   ]
  },
  {
   "cell_type": "code",
   "execution_count": null,
   "metadata": {},
   "outputs": [],
   "source": [
    "print(pd.Series([.682,.80,.657,.407]).mean())\n",
    "print((742+241+84+367)/1909)"
   ]
  },
  {
   "cell_type": "code",
   "execution_count": null,
   "metadata": {},
   "outputs": [],
   "source": []
  }
 ],
 "metadata": {
  "kernelspec": {
   "display_name": "Python 3",
   "language": "python",
   "name": "python3"
  },
  "language_info": {
   "codemirror_mode": {
    "name": "ipython",
    "version": 3
   },
   "file_extension": ".py",
   "mimetype": "text/x-python",
   "name": "python",
   "nbconvert_exporter": "python",
   "pygments_lexer": "ipython3",
   "version": "3.7.6"
  }
 },
 "nbformat": 4,
 "nbformat_minor": 4
}
