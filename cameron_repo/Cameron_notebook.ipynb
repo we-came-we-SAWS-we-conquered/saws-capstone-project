{
 "cells": [
  {
   "cell_type": "code",
   "execution_count": 1,
   "metadata": {},
   "outputs": [],
   "source": [
    "import pandas as pd\n",
    "import numpy as np\n",
    "\n",
    "import sys\n",
    "sys.path.insert(0,'..')\n",
    "\n",
    "import matplotlib.pyplot as plt\n",
    "import os.path\n",
    "import prepare, prepare_sso\n",
    "import seaborn as sns\n",
    "\n",
    "from pandas.api.types import is_string_dtype\n",
    "from pandas.api.types import is_numeric_dtype\n",
    "\n",
    "from sklearn.model_selection import train_test_split, GridSearchCV\n",
    "from sklearn.metrics import make_scorer, precision_score, \\\n",
    "                            classification_report\n",
    "from sklearn.tree import DecisionTreeClassifier\n",
    "from sklearn.linear_model import LogisticRegression\n",
    "from sklearn.ensemble import RandomForestClassifier\n",
    "from sklearn.neighbors import KNeighborsClassifier\n",
    "from sklearn.preprocessing import MinMaxScaler\n",
    "\n",
    "import warnings\n",
    "warnings.filterwarnings(\"ignore\")\n",
    "\n",
    "plt.rc('figure', figsize=(16,10))\n",
    "plt.rc('font', size=14)\n",
    "pd.set_option('display.max_colwidth', 250)\n",
    "pd.set_option('display.max_columns', 50)"
   ]
  },
  {
   "cell_type": "code",
   "execution_count": 2,
   "metadata": {},
   "outputs": [
    {
     "data": {
      "text/html": [
       "<div>\n",
       "<style scoped>\n",
       "    .dataframe tbody tr th:only-of-type {\n",
       "        vertical-align: middle;\n",
       "    }\n",
       "\n",
       "    .dataframe tbody tr th {\n",
       "        vertical-align: top;\n",
       "    }\n",
       "\n",
       "    .dataframe thead th {\n",
       "        text-align: right;\n",
       "    }\n",
       "</style>\n",
       "<table border=\"1\" class=\"dataframe\">\n",
       "  <thead>\n",
       "    <tr style=\"text-align: right;\">\n",
       "      <th></th>\n",
       "      <th>SSO_ID</th>\n",
       "      <th>REPORTDATE</th>\n",
       "      <th>SPILL_ADDRESS</th>\n",
       "      <th>SPILL_ST_NAME</th>\n",
       "      <th>TOTAL_GAL</th>\n",
       "      <th>GALSRET</th>\n",
       "      <th>SPILL_START</th>\n",
       "      <th>SPILL_STOP</th>\n",
       "      <th>HRS</th>\n",
       "      <th>CAUSE</th>\n",
       "      <th>COMMENTS</th>\n",
       "      <th>ACTIONS</th>\n",
       "      <th>WATERSHED</th>\n",
       "      <th>UNITID</th>\n",
       "      <th>UNITID2</th>\n",
       "      <th>DISCHARGE_TO</th>\n",
       "      <th>DISCHARGE_ROUTE</th>\n",
       "      <th>COUNCIL_DISTRICT</th>\n",
       "      <th>Month</th>\n",
       "      <th>Year</th>\n",
       "      <th>Week</th>\n",
       "      <th>EARZ_ZONE</th>\n",
       "      <th>PIPEDIAM</th>\n",
       "      <th>PIPELEN</th>\n",
       "      <th>PIPETYPE</th>\n",
       "      <th>INSTYEAR</th>\n",
       "      <th>Inches_No</th>\n",
       "      <th>RainFall_Less3</th>\n",
       "      <th>SPILL ADDRESS</th>\n",
       "      <th>NUM_SPILLS_COMPKEY</th>\n",
       "      <th>NUM_SPILLS_24MOS</th>\n",
       "      <th>PREVSPILL_24MOS</th>\n",
       "      <th>UNITTYPE</th>\n",
       "      <th>ASSETTYPE</th>\n",
       "      <th>LASTCLND</th>\n",
       "      <th>ResponseTime</th>\n",
       "      <th>ResponseDTTM</th>\n",
       "      <th>Public Notice</th>\n",
       "      <th>Root_Cause</th>\n",
       "      <th>HRS_2</th>\n",
       "      <th>GAL_2</th>\n",
       "      <th>HRS_3</th>\n",
       "      <th>GAL_3</th>\n",
       "    </tr>\n",
       "  </thead>\n",
       "  <tbody>\n",
       "    <tr>\n",
       "      <th>0</th>\n",
       "      <td>6582</td>\n",
       "      <td>2019-03-10 00:00:00</td>\n",
       "      <td>3200</td>\n",
       "      <td>THOUSAND OAKS DR</td>\n",
       "      <td>2100</td>\n",
       "      <td>2100.0</td>\n",
       "      <td>3/10/2019 1:16:00 PM</td>\n",
       "      <td>3/10/2019 2:40:00 PM</td>\n",
       "      <td>1.4</td>\n",
       "      <td>Grease</td>\n",
       "      <td>Spill ContainedReturned to SystemArea Cleaned and DisinfectedFlushed Area with H2O, Unstopped Main,</td>\n",
       "      <td>CLEANED MAIN</td>\n",
       "      <td>SALADO CREEK</td>\n",
       "      <td>66918</td>\n",
       "      <td>66917</td>\n",
       "      <td>STREET</td>\n",
       "      <td>None</td>\n",
       "      <td>NaN</td>\n",
       "      <td>3</td>\n",
       "      <td>2019</td>\n",
       "      <td>11</td>\n",
       "      <td>0.0</td>\n",
       "      <td>8.0</td>\n",
       "      <td>16.55</td>\n",
       "      <td>PVC</td>\n",
       "      <td>1997.0</td>\n",
       "      <td>NaN</td>\n",
       "      <td>NaN</td>\n",
       "      <td>3200 THOUSAND OAKS DR</td>\n",
       "      <td>1</td>\n",
       "      <td>1.0</td>\n",
       "      <td>NaN</td>\n",
       "      <td>GRAVITY</td>\n",
       "      <td>Sewer Main</td>\n",
       "      <td>NaN</td>\n",
       "      <td>0.45</td>\n",
       "      <td>2019-03-10 13:43:00</td>\n",
       "      <td>False</td>\n",
       "      <td>NaN</td>\n",
       "      <td>0.0</td>\n",
       "      <td>0.0</td>\n",
       "      <td>0.0</td>\n",
       "      <td>0.0</td>\n",
       "    </tr>\n",
       "  </tbody>\n",
       "</table>\n",
       "</div>"
      ],
      "text/plain": [
       "   SSO_ID           REPORTDATE  SPILL_ADDRESS     SPILL_ST_NAME  TOTAL_GAL  \\\n",
       "0    6582  2019-03-10 00:00:00           3200  THOUSAND OAKS DR       2100   \n",
       "\n",
       "   GALSRET           SPILL_START            SPILL_STOP  HRS   CAUSE  \\\n",
       "0   2100.0  3/10/2019 1:16:00 PM  3/10/2019 2:40:00 PM  1.4  Grease   \n",
       "\n",
       "                                                                                               COMMENTS  \\\n",
       "0  Spill ContainedReturned to SystemArea Cleaned and DisinfectedFlushed Area with H2O, Unstopped Main,    \n",
       "\n",
       "        ACTIONS     WATERSHED UNITID UNITID2 DISCHARGE_TO DISCHARGE_ROUTE  \\\n",
       "0  CLEANED MAIN  SALADO CREEK  66918   66917       STREET            None   \n",
       "\n",
       "   COUNCIL_DISTRICT  Month  Year  Week  EARZ_ZONE  PIPEDIAM  PIPELEN PIPETYPE  \\\n",
       "0               NaN      3  2019    11        0.0       8.0    16.55      PVC   \n",
       "\n",
       "   INSTYEAR  Inches_No  RainFall_Less3          SPILL ADDRESS  \\\n",
       "0    1997.0        NaN             NaN  3200 THOUSAND OAKS DR   \n",
       "\n",
       "   NUM_SPILLS_COMPKEY  NUM_SPILLS_24MOS PREVSPILL_24MOS UNITTYPE   ASSETTYPE  \\\n",
       "0                   1               1.0             NaN  GRAVITY  Sewer Main   \n",
       "\n",
       "  LASTCLND  ResponseTime         ResponseDTTM  Public Notice Root_Cause  \\\n",
       "0      NaN          0.45  2019-03-10 13:43:00          False        NaN   \n",
       "\n",
       "   HRS_2  GAL_2  HRS_3  GAL_3  \n",
       "0    0.0    0.0    0.0    0.0  "
      ]
     },
     "execution_count": 2,
     "metadata": {},
     "output_type": "execute_result"
    }
   ],
   "source": [
    "mf = prepare.filter_sso_features()\n",
    "mf.head(1)"
   ]
  },
  {
   "cell_type": "code",
   "execution_count": 3,
   "metadata": {},
   "outputs": [
    {
     "data": {
      "text/plain": [
       "0       6582\n",
       "1       6583\n",
       "2       6581\n",
       "3       6584\n",
       "4       6580\n",
       "        ... \n",
       "3178     371\n",
       "3179     372\n",
       "3180     373\n",
       "3181     375\n",
       "3182     374\n",
       "Name: SSO_ID, Length: 3183, dtype: object"
      ]
     },
     "execution_count": 3,
     "metadata": {},
     "output_type": "execute_result"
    }
   ],
   "source": [
    "mf['SSO_ID'].astype(str)"
   ]
  },
  {
   "cell_type": "code",
   "execution_count": 4,
   "metadata": {},
   "outputs": [],
   "source": [
    "string_features = ['SSO_ID','SPILL_ADDRESS','COUNCIL_DISTRICT',]\n",
    "for col in string_features:\n",
    "    mf[col] = mf[col].astype(str)"
   ]
  },
  {
   "cell_type": "code",
   "execution_count": 6,
   "metadata": {},
   "outputs": [
    {
     "data": {
      "text/html": [
       "<div>\n",
       "<style scoped>\n",
       "    .dataframe tbody tr th:only-of-type {\n",
       "        vertical-align: middle;\n",
       "    }\n",
       "\n",
       "    .dataframe tbody tr th {\n",
       "        vertical-align: top;\n",
       "    }\n",
       "\n",
       "    .dataframe thead th {\n",
       "        text-align: right;\n",
       "    }\n",
       "</style>\n",
       "<table border=\"1\" class=\"dataframe\">\n",
       "  <thead>\n",
       "    <tr style=\"text-align: right;\">\n",
       "      <th></th>\n",
       "      <th>sso_id</th>\n",
       "      <th>report_date</th>\n",
       "      <th>spill_address_num</th>\n",
       "      <th>spill_st_name</th>\n",
       "      <th>total_gal</th>\n",
       "      <th>gals_ret</th>\n",
       "      <th>spill_start</th>\n",
       "      <th>spill_stop</th>\n",
       "      <th>hrs</th>\n",
       "      <th>cause</th>\n",
       "      <th>comments</th>\n",
       "      <th>actions</th>\n",
       "      <th>watershed</th>\n",
       "      <th>unit_id</th>\n",
       "      <th>unit_id2</th>\n",
       "      <th>discharge_to</th>\n",
       "      <th>discharge_route</th>\n",
       "      <th>council_district</th>\n",
       "      <th>month</th>\n",
       "      <th>year</th>\n",
       "      <th>week</th>\n",
       "      <th>earz_zone</th>\n",
       "      <th>pipe_diam</th>\n",
       "      <th>pipe_len</th>\n",
       "      <th>pipe_type</th>\n",
       "      <th>inst_year</th>\n",
       "      <th>inches_no</th>\n",
       "      <th>rainfall_last3</th>\n",
       "      <th>spill_address_full</th>\n",
       "      <th>num_spills_recorded</th>\n",
       "      <th>num_spills_24mos</th>\n",
       "      <th>prevspill_24mos</th>\n",
       "      <th>unit_type</th>\n",
       "      <th>asset_type</th>\n",
       "      <th>last_cleaned</th>\n",
       "      <th>response_time</th>\n",
       "      <th>response_dttm</th>\n",
       "      <th>public_notice</th>\n",
       "      <th>root_cause</th>\n",
       "      <th>hrs_2</th>\n",
       "      <th>gal_2</th>\n",
       "      <th>hrs_3</th>\n",
       "      <th>gal_3</th>\n",
       "      <th>days_since_cleaned</th>\n",
       "    </tr>\n",
       "  </thead>\n",
       "  <tbody>\n",
       "    <tr>\n",
       "      <th>0</th>\n",
       "      <td>6582</td>\n",
       "      <td>2019-03-10</td>\n",
       "      <td>3200</td>\n",
       "      <td>THOUSAND OAKS DR</td>\n",
       "      <td>2100</td>\n",
       "      <td>2100.0</td>\n",
       "      <td>2019-03-10 13:16:00</td>\n",
       "      <td>2019-03-10 14:40:00</td>\n",
       "      <td>1.4</td>\n",
       "      <td>Grease</td>\n",
       "      <td>Spill ContainedReturned to SystemArea Cleaned and DisinfectedFlushed Area with H2O, Unstopped Main,</td>\n",
       "      <td>CLEANED MAIN</td>\n",
       "      <td>SALADO CREEK</td>\n",
       "      <td>66918</td>\n",
       "      <td>66917</td>\n",
       "      <td>STREET</td>\n",
       "      <td>None</td>\n",
       "      <td>nan</td>\n",
       "      <td>3</td>\n",
       "      <td>2019</td>\n",
       "      <td>11</td>\n",
       "      <td>0.0</td>\n",
       "      <td>8.0</td>\n",
       "      <td>16.55</td>\n",
       "      <td>PVC</td>\n",
       "      <td>1997.0</td>\n",
       "      <td>NaN</td>\n",
       "      <td>NaN</td>\n",
       "      <td>3200 THOUSAND OAKS DR</td>\n",
       "      <td>1</td>\n",
       "      <td>1.0</td>\n",
       "      <td>0</td>\n",
       "      <td>GRAVITY</td>\n",
       "      <td>Sewer Main</td>\n",
       "      <td>NaT</td>\n",
       "      <td>27.0</td>\n",
       "      <td>2019-03-10 13:43:00</td>\n",
       "      <td>False</td>\n",
       "      <td>NaN</td>\n",
       "      <td>0.0</td>\n",
       "      <td>0.0</td>\n",
       "      <td>0.0</td>\n",
       "      <td>0.0</td>\n",
       "      <td>NaN</td>\n",
       "    </tr>\n",
       "  </tbody>\n",
       "</table>\n",
       "</div>"
      ],
      "text/plain": [
       "  sso_id report_date spill_address_num     spill_st_name  total_gal  gals_ret  \\\n",
       "0   6582  2019-03-10              3200  THOUSAND OAKS DR       2100    2100.0   \n",
       "\n",
       "          spill_start          spill_stop  hrs   cause  \\\n",
       "0 2019-03-10 13:16:00 2019-03-10 14:40:00  1.4  Grease   \n",
       "\n",
       "                                                                                               comments  \\\n",
       "0  Spill ContainedReturned to SystemArea Cleaned and DisinfectedFlushed Area with H2O, Unstopped Main,    \n",
       "\n",
       "        actions     watershed unit_id unit_id2 discharge_to discharge_route  \\\n",
       "0  CLEANED MAIN  SALADO CREEK   66918    66917       STREET            None   \n",
       "\n",
       "  council_district  month  year  week  earz_zone  pipe_diam  pipe_len  \\\n",
       "0              nan      3  2019    11        0.0        8.0     16.55   \n",
       "\n",
       "  pipe_type  inst_year  inches_no  rainfall_last3     spill_address_full  \\\n",
       "0       PVC     1997.0        NaN             NaN  3200 THOUSAND OAKS DR   \n",
       "\n",
       "   num_spills_recorded  num_spills_24mos prevspill_24mos unit_type  \\\n",
       "0                    1               1.0               0   GRAVITY   \n",
       "\n",
       "   asset_type last_cleaned  response_time       response_dttm  public_notice  \\\n",
       "0  Sewer Main          NaT           27.0 2019-03-10 13:43:00          False   \n",
       "\n",
       "  root_cause  hrs_2  gal_2  hrs_3  gal_3  days_since_cleaned  \n",
       "0        NaN    0.0    0.0    0.0    0.0                 NaN  "
      ]
     },
     "execution_count": 6,
     "metadata": {},
     "output_type": "execute_result"
    }
   ],
   "source": [
    "mf = prepare.prepare_sso_df2()\n",
    "mf.head(1)"
   ]
  },
  {
   "cell_type": "code",
   "execution_count": 13,
   "metadata": {},
   "outputs": [],
   "source": [
    "df = mf[:20]"
   ]
  },
  {
   "cell_type": "code",
   "execution_count": 15,
   "metadata": {},
   "outputs": [
    {
     "data": {
      "text/html": [
       "<div>\n",
       "<style scoped>\n",
       "    .dataframe tbody tr th:only-of-type {\n",
       "        vertical-align: middle;\n",
       "    }\n",
       "\n",
       "    .dataframe tbody tr th {\n",
       "        vertical-align: top;\n",
       "    }\n",
       "\n",
       "    .dataframe thead th {\n",
       "        text-align: right;\n",
       "    }\n",
       "</style>\n",
       "<table border=\"1\" class=\"dataframe\">\n",
       "  <thead>\n",
       "    <tr style=\"text-align: right;\">\n",
       "      <th></th>\n",
       "      <th>sso_id</th>\n",
       "      <th>report_date</th>\n",
       "      <th>spill_address_num</th>\n",
       "      <th>spill_st_name</th>\n",
       "      <th>total_gal</th>\n",
       "      <th>gals_ret</th>\n",
       "      <th>spill_start</th>\n",
       "      <th>spill_stop</th>\n",
       "      <th>hrs</th>\n",
       "      <th>cause</th>\n",
       "      <th>comments</th>\n",
       "      <th>actions</th>\n",
       "      <th>watershed</th>\n",
       "      <th>unit_id</th>\n",
       "      <th>unit_id2</th>\n",
       "      <th>discharge_to</th>\n",
       "      <th>discharge_route</th>\n",
       "      <th>council_district</th>\n",
       "      <th>month</th>\n",
       "      <th>year</th>\n",
       "      <th>week</th>\n",
       "      <th>earz_zone</th>\n",
       "      <th>pipe_diam</th>\n",
       "      <th>pipe_len</th>\n",
       "      <th>pipe_type</th>\n",
       "      <th>inst_year</th>\n",
       "      <th>inches_no</th>\n",
       "      <th>rainfall_last3</th>\n",
       "      <th>spill_address_full</th>\n",
       "      <th>num_spills_recorded</th>\n",
       "      <th>num_spills_24mos</th>\n",
       "      <th>prevspill_24mos</th>\n",
       "      <th>unit_type</th>\n",
       "      <th>asset_type</th>\n",
       "      <th>last_cleaned</th>\n",
       "      <th>response_time</th>\n",
       "      <th>response_dttm</th>\n",
       "      <th>public_notice</th>\n",
       "      <th>root_cause</th>\n",
       "      <th>hrs_2</th>\n",
       "      <th>gal_2</th>\n",
       "      <th>hrs_3</th>\n",
       "      <th>gal_3</th>\n",
       "      <th>days_since_cleaned</th>\n",
       "    </tr>\n",
       "  </thead>\n",
       "  <tbody>\n",
       "    <tr>\n",
       "      <th>0</th>\n",
       "      <td>6582</td>\n",
       "      <td>2019-03-10</td>\n",
       "      <td>3200</td>\n",
       "      <td>THOUSAND OAKS DR</td>\n",
       "      <td>2100</td>\n",
       "      <td>2100.0</td>\n",
       "      <td>2019-03-10 13:16:00</td>\n",
       "      <td>2019-03-10 14:40:00</td>\n",
       "      <td>1.4</td>\n",
       "      <td>Grease</td>\n",
       "      <td>Spill ContainedReturned to SystemArea Cleaned and DisinfectedFlushed Area with H2O, Unstopped Main,</td>\n",
       "      <td>CLEANED MAIN</td>\n",
       "      <td>SALADO CREEK</td>\n",
       "      <td>66918</td>\n",
       "      <td>66917</td>\n",
       "      <td>STREET</td>\n",
       "      <td>None</td>\n",
       "      <td>nan</td>\n",
       "      <td>3</td>\n",
       "      <td>2019</td>\n",
       "      <td>11</td>\n",
       "      <td>0.0</td>\n",
       "      <td>8.0</td>\n",
       "      <td>16.55</td>\n",
       "      <td>PVC</td>\n",
       "      <td>1997.0</td>\n",
       "      <td>NaN</td>\n",
       "      <td>NaN</td>\n",
       "      <td>3200 THOUSAND OAKS DR</td>\n",
       "      <td>1</td>\n",
       "      <td>1.0</td>\n",
       "      <td>0</td>\n",
       "      <td>GRAVITY</td>\n",
       "      <td>Sewer Main</td>\n",
       "      <td>NaT</td>\n",
       "      <td>27.0</td>\n",
       "      <td>2019-03-10 13:43:00</td>\n",
       "      <td>False</td>\n",
       "      <td>NaN</td>\n",
       "      <td>0.0</td>\n",
       "      <td>0.0</td>\n",
       "      <td>0.0</td>\n",
       "      <td>0.0</td>\n",
       "      <td>NaN</td>\n",
       "    </tr>\n",
       "  </tbody>\n",
       "</table>\n",
       "</div>"
      ],
      "text/plain": [
       "  sso_id report_date spill_address_num     spill_st_name  total_gal  gals_ret  \\\n",
       "0   6582  2019-03-10              3200  THOUSAND OAKS DR       2100    2100.0   \n",
       "\n",
       "          spill_start          spill_stop  hrs   cause  \\\n",
       "0 2019-03-10 13:16:00 2019-03-10 14:40:00  1.4  Grease   \n",
       "\n",
       "                                                                                               comments  \\\n",
       "0  Spill ContainedReturned to SystemArea Cleaned and DisinfectedFlushed Area with H2O, Unstopped Main,    \n",
       "\n",
       "        actions     watershed unit_id unit_id2 discharge_to discharge_route  \\\n",
       "0  CLEANED MAIN  SALADO CREEK   66918    66917       STREET            None   \n",
       "\n",
       "  council_district  month  year  week  earz_zone  pipe_diam  pipe_len  \\\n",
       "0              nan      3  2019    11        0.0        8.0     16.55   \n",
       "\n",
       "  pipe_type  inst_year  inches_no  rainfall_last3     spill_address_full  \\\n",
       "0       PVC     1997.0        NaN             NaN  3200 THOUSAND OAKS DR   \n",
       "\n",
       "   num_spills_recorded  num_spills_24mos prevspill_24mos unit_type  \\\n",
       "0                    1               1.0               0   GRAVITY   \n",
       "\n",
       "   asset_type last_cleaned  response_time       response_dttm  public_notice  \\\n",
       "0  Sewer Main          NaT           27.0 2019-03-10 13:43:00          False   \n",
       "\n",
       "  root_cause  hrs_2  gal_2  hrs_3  gal_3  days_since_cleaned  \n",
       "0        NaN    0.0    0.0    0.0    0.0                 NaN  "
      ]
     },
     "execution_count": 15,
     "metadata": {},
     "output_type": "execute_result"
    }
   ],
   "source": [
    "df.head(1)"
   ]
  },
  {
   "cell_type": "code",
   "execution_count": 18,
   "metadata": {},
   "outputs": [],
   "source": [
    "df.spill_address_full = df.spill_address_full+', San Antonio, TX, USA'"
   ]
  },
  {
   "cell_type": "code",
   "execution_count": 19,
   "metadata": {},
   "outputs": [],
   "source": [
    "from geopy.extra.rate_limiter import RateLimiter\n",
    "from geopy.geocoders import Nominatim\n",
    "\n",
    "locator = Nominatim(user_agent=\"myGeocoder\")\n",
    "geocode = RateLimiter(locator.geocode, min_delay_seconds=.1, \n",
    "                    max_retries=10, error_wait_seconds=1)\n",
    "df['location'] = df['spill_address_full'].apply(geocode)\n",
    "df['zip_code'] = 'None'\n",
    "for t,l in enumerate(df.location):\n",
    "    if l is not None:\n",
    "        df['zip_code'][t] = l.raw['display_name'].split(',')[-2]"
   ]
  },
  {
   "cell_type": "code",
   "execution_count": 20,
   "metadata": {},
   "outputs": [
    {
     "data": {
      "text/html": [
       "<div>\n",
       "<style scoped>\n",
       "    .dataframe tbody tr th:only-of-type {\n",
       "        vertical-align: middle;\n",
       "    }\n",
       "\n",
       "    .dataframe tbody tr th {\n",
       "        vertical-align: top;\n",
       "    }\n",
       "\n",
       "    .dataframe thead th {\n",
       "        text-align: right;\n",
       "    }\n",
       "</style>\n",
       "<table border=\"1\" class=\"dataframe\">\n",
       "  <thead>\n",
       "    <tr style=\"text-align: right;\">\n",
       "      <th></th>\n",
       "      <th>sso_id</th>\n",
       "      <th>report_date</th>\n",
       "      <th>spill_address_num</th>\n",
       "      <th>spill_st_name</th>\n",
       "      <th>total_gal</th>\n",
       "      <th>gals_ret</th>\n",
       "      <th>spill_start</th>\n",
       "      <th>spill_stop</th>\n",
       "      <th>hrs</th>\n",
       "      <th>cause</th>\n",
       "      <th>comments</th>\n",
       "      <th>actions</th>\n",
       "      <th>watershed</th>\n",
       "      <th>unit_id</th>\n",
       "      <th>unit_id2</th>\n",
       "      <th>discharge_to</th>\n",
       "      <th>discharge_route</th>\n",
       "      <th>council_district</th>\n",
       "      <th>month</th>\n",
       "      <th>year</th>\n",
       "      <th>week</th>\n",
       "      <th>earz_zone</th>\n",
       "      <th>pipe_diam</th>\n",
       "      <th>pipe_len</th>\n",
       "      <th>pipe_type</th>\n",
       "      <th>inst_year</th>\n",
       "      <th>inches_no</th>\n",
       "      <th>rainfall_last3</th>\n",
       "      <th>spill_address_full</th>\n",
       "      <th>num_spills_recorded</th>\n",
       "      <th>num_spills_24mos</th>\n",
       "      <th>prevspill_24mos</th>\n",
       "      <th>unit_type</th>\n",
       "      <th>asset_type</th>\n",
       "      <th>last_cleaned</th>\n",
       "      <th>response_time</th>\n",
       "      <th>response_dttm</th>\n",
       "      <th>public_notice</th>\n",
       "      <th>root_cause</th>\n",
       "      <th>hrs_2</th>\n",
       "      <th>gal_2</th>\n",
       "      <th>hrs_3</th>\n",
       "      <th>gal_3</th>\n",
       "      <th>days_since_cleaned</th>\n",
       "      <th>location</th>\n",
       "      <th>zip_code</th>\n",
       "    </tr>\n",
       "  </thead>\n",
       "  <tbody>\n",
       "    <tr>\n",
       "      <th>0</th>\n",
       "      <td>6582</td>\n",
       "      <td>2019-03-10</td>\n",
       "      <td>3200</td>\n",
       "      <td>THOUSAND OAKS DR</td>\n",
       "      <td>2100</td>\n",
       "      <td>2100.0</td>\n",
       "      <td>2019-03-10 13:16:00</td>\n",
       "      <td>2019-03-10 14:40:00</td>\n",
       "      <td>1.400000</td>\n",
       "      <td>Grease</td>\n",
       "      <td>Spill ContainedReturned to SystemArea Cleaned and DisinfectedFlushed Area with H2O, Unstopped Main,</td>\n",
       "      <td>CLEANED MAIN</td>\n",
       "      <td>SALADO CREEK</td>\n",
       "      <td>66918</td>\n",
       "      <td>66917</td>\n",
       "      <td>STREET</td>\n",
       "      <td>None</td>\n",
       "      <td>nan</td>\n",
       "      <td>3</td>\n",
       "      <td>2019</td>\n",
       "      <td>11</td>\n",
       "      <td>0.0</td>\n",
       "      <td>8.0</td>\n",
       "      <td>16.55</td>\n",
       "      <td>PVC</td>\n",
       "      <td>1997.0</td>\n",
       "      <td>NaN</td>\n",
       "      <td>NaN</td>\n",
       "      <td>3200 THOUSAND OAKS DR, San Antonio, TX, USA</td>\n",
       "      <td>1</td>\n",
       "      <td>1.0</td>\n",
       "      <td>0</td>\n",
       "      <td>GRAVITY</td>\n",
       "      <td>Sewer Main</td>\n",
       "      <td>NaT</td>\n",
       "      <td>27.0</td>\n",
       "      <td>2019-03-10 13:43:00</td>\n",
       "      <td>False</td>\n",
       "      <td>NaN</td>\n",
       "      <td>0.00</td>\n",
       "      <td>0.0</td>\n",
       "      <td>0.0</td>\n",
       "      <td>0.0</td>\n",
       "      <td>NaN</td>\n",
       "      <td>(3200, Thousand Oaks Drive, Horseshoe Bend, Lost Creek, Austin, Travis County, Texas, 78746, United States of America, (30.2659455, -97.80399402173913))</td>\n",
       "      <td>78746</td>\n",
       "    </tr>\n",
       "    <tr>\n",
       "      <th>1</th>\n",
       "      <td>6583</td>\n",
       "      <td>2019-03-10</td>\n",
       "      <td>6804</td>\n",
       "      <td>S FLORES ST</td>\n",
       "      <td>80</td>\n",
       "      <td>0.0</td>\n",
       "      <td>2019-03-10 14:25:00</td>\n",
       "      <td>2019-03-10 15:45:00</td>\n",
       "      <td>1.333333</td>\n",
       "      <td>Grease</td>\n",
       "      <td>Spill ContainedArea Cleaned and Disinfected</td>\n",
       "      <td>CLEANED MAIN</td>\n",
       "      <td>DOS RIOS</td>\n",
       "      <td>24250</td>\n",
       "      <td>24193</td>\n",
       "      <td>STORMDRAIN</td>\n",
       "      <td>None</td>\n",
       "      <td>3.0</td>\n",
       "      <td>3</td>\n",
       "      <td>2019</td>\n",
       "      <td>11</td>\n",
       "      <td>0.0</td>\n",
       "      <td>8.0</td>\n",
       "      <td>157.00</td>\n",
       "      <td>PVC</td>\n",
       "      <td>1988.0</td>\n",
       "      <td>NaN</td>\n",
       "      <td>NaN</td>\n",
       "      <td>6804 S FLORES, San Antonio, TX, USA</td>\n",
       "      <td>1</td>\n",
       "      <td>1.0</td>\n",
       "      <td>0</td>\n",
       "      <td>GRAVITY</td>\n",
       "      <td>Sewer Main</td>\n",
       "      <td>NaT</td>\n",
       "      <td>65.0</td>\n",
       "      <td>2019-03-10 15:30:00</td>\n",
       "      <td>False</td>\n",
       "      <td>NaN</td>\n",
       "      <td>0.00</td>\n",
       "      <td>0.0</td>\n",
       "      <td>0.0</td>\n",
       "      <td>0.0</td>\n",
       "      <td>NaN</td>\n",
       "      <td>(Flores, West Odessa, Ector County, Texas, United States of America, (31.8547839, -102.5017913))</td>\n",
       "      <td>Texas</td>\n",
       "    </tr>\n",
       "    <tr>\n",
       "      <th>2</th>\n",
       "      <td>6581</td>\n",
       "      <td>2019-03-09</td>\n",
       "      <td>215</td>\n",
       "      <td>AUDREY ALENE DR</td>\n",
       "      <td>79</td>\n",
       "      <td>0.0</td>\n",
       "      <td>2019-03-09 18:00:00</td>\n",
       "      <td>2019-03-09 19:30:00</td>\n",
       "      <td>1.500000</td>\n",
       "      <td>Structural</td>\n",
       "      <td>Spill ContainedArea Cleaned and DisinfectedFlushed Area with H2O, Unstopped Main,</td>\n",
       "      <td>CLEANED MAIN</td>\n",
       "      <td>DOS RIOS</td>\n",
       "      <td>2822</td>\n",
       "      <td>3351</td>\n",
       "      <td>ALLEY</td>\n",
       "      <td>None</td>\n",
       "      <td>1.0</td>\n",
       "      <td>3</td>\n",
       "      <td>2019</td>\n",
       "      <td>10</td>\n",
       "      <td>0.0</td>\n",
       "      <td>8.0</td>\n",
       "      <td>350.00</td>\n",
       "      <td>CP</td>\n",
       "      <td>1955.0</td>\n",
       "      <td>NaN</td>\n",
       "      <td>NaN</td>\n",
       "      <td>215 Audrey Alene Dr, San Antonio, TX, USA</td>\n",
       "      <td>1</td>\n",
       "      <td>1.0</td>\n",
       "      <td>0</td>\n",
       "      <td>GRAVITY</td>\n",
       "      <td>Sewer Main</td>\n",
       "      <td>NaT</td>\n",
       "      <td>60.0</td>\n",
       "      <td>2019-03-09 19:00:00</td>\n",
       "      <td>False</td>\n",
       "      <td>NaN</td>\n",
       "      <td>1.15</td>\n",
       "      <td>69.0</td>\n",
       "      <td>0.0</td>\n",
       "      <td>0.0</td>\n",
       "      <td>NaN</td>\n",
       "      <td>(215, Audrey Alene Drive, San Antonio, Bexar County, Texas, 78216, United States of America, (29.503348142857142, -98.50358214285714))</td>\n",
       "      <td>78216</td>\n",
       "    </tr>\n",
       "    <tr>\n",
       "      <th>3</th>\n",
       "      <td>6584</td>\n",
       "      <td>2019-03-09</td>\n",
       "      <td>3602</td>\n",
       "      <td>SE MILITARY DR</td>\n",
       "      <td>83</td>\n",
       "      <td>0.0</td>\n",
       "      <td>2019-03-09 15:37:00</td>\n",
       "      <td>2019-03-09 17:00:00</td>\n",
       "      <td>1.383333</td>\n",
       "      <td>Grease</td>\n",
       "      <td>Spill ContainedArea Cleaned and DisinfectedFlushed Area with H2O, Unstopped Main,</td>\n",
       "      <td>NaN</td>\n",
       "      <td>SALADO CREEK</td>\n",
       "      <td>92804</td>\n",
       "      <td>92805</td>\n",
       "      <td>EASEMENT</td>\n",
       "      <td>None</td>\n",
       "      <td>3.0</td>\n",
       "      <td>3</td>\n",
       "      <td>2019</td>\n",
       "      <td>10</td>\n",
       "      <td>0.0</td>\n",
       "      <td>8.0</td>\n",
       "      <td>213.91</td>\n",
       "      <td>PVC</td>\n",
       "      <td>1983.0</td>\n",
       "      <td>NaN</td>\n",
       "      <td>NaN</td>\n",
       "      <td>3602 SE MILITARY DR, San Antonio, TX, USA</td>\n",
       "      <td>1</td>\n",
       "      <td>1.0</td>\n",
       "      <td>0</td>\n",
       "      <td>GRAVITY</td>\n",
       "      <td>Sewer Main</td>\n",
       "      <td>NaT</td>\n",
       "      <td>33.0</td>\n",
       "      <td>2019-03-09 16:10:00</td>\n",
       "      <td>False</td>\n",
       "      <td>NaN</td>\n",
       "      <td>0.00</td>\n",
       "      <td>0.0</td>\n",
       "      <td>0.0</td>\n",
       "      <td>0.0</td>\n",
       "      <td>NaN</td>\n",
       "      <td>(Quality Suites, Southeast Military Drive, Hilltop, San Antonio, Bexar County, Texas, 78223, United States of America, (29.352909500000003, -98.4253423))</td>\n",
       "      <td>78223</td>\n",
       "    </tr>\n",
       "    <tr>\n",
       "      <th>4</th>\n",
       "      <td>6580</td>\n",
       "      <td>2019-03-06</td>\n",
       "      <td>100</td>\n",
       "      <td>PANSY LN</td>\n",
       "      <td>75</td>\n",
       "      <td>0.0</td>\n",
       "      <td>2019-03-06 09:40:00</td>\n",
       "      <td>2019-03-06 09:55:00</td>\n",
       "      <td>0.250000</td>\n",
       "      <td>Structural</td>\n",
       "      <td>Spill ContainedArea Cleaned and DisinfectedFlushed Area with H2O, Unstopped Main,</td>\n",
       "      <td>CLEANED MAIN</td>\n",
       "      <td>SALADO CREEK</td>\n",
       "      <td>61141</td>\n",
       "      <td>49543</td>\n",
       "      <td>STREET</td>\n",
       "      <td>None</td>\n",
       "      <td>2.0</td>\n",
       "      <td>3</td>\n",
       "      <td>2019</td>\n",
       "      <td>10</td>\n",
       "      <td>0.0</td>\n",
       "      <td>12.0</td>\n",
       "      <td>291.90</td>\n",
       "      <td>CP</td>\n",
       "      <td>1952.0</td>\n",
       "      <td>NaN</td>\n",
       "      <td>NaN</td>\n",
       "      <td>100 PANSY LN, San Antonio, TX, USA</td>\n",
       "      <td>2</td>\n",
       "      <td>2.0</td>\n",
       "      <td>2018-12-15 00:00:00</td>\n",
       "      <td>GRAVITY</td>\n",
       "      <td>Sewer Main</td>\n",
       "      <td>NaT</td>\n",
       "      <td>0.0</td>\n",
       "      <td>2019-03-06 09:40:00</td>\n",
       "      <td>False</td>\n",
       "      <td>NaN</td>\n",
       "      <td>0.00</td>\n",
       "      <td>0.0</td>\n",
       "      <td>0.0</td>\n",
       "      <td>0.0</td>\n",
       "      <td>NaN</td>\n",
       "      <td>(Pansy Lane, San Antonio, Bexar County, Texas, 78209, United States of America, (29.488062, -98.435963))</td>\n",
       "      <td>78209</td>\n",
       "    </tr>\n",
       "  </tbody>\n",
       "</table>\n",
       "</div>"
      ],
      "text/plain": [
       "  sso_id report_date spill_address_num     spill_st_name  total_gal  gals_ret  \\\n",
       "0   6582  2019-03-10              3200  THOUSAND OAKS DR       2100    2100.0   \n",
       "1   6583  2019-03-10              6804       S FLORES ST         80       0.0   \n",
       "2   6581  2019-03-09               215   AUDREY ALENE DR         79       0.0   \n",
       "3   6584  2019-03-09              3602    SE MILITARY DR         83       0.0   \n",
       "4   6580  2019-03-06               100          PANSY LN         75       0.0   \n",
       "\n",
       "          spill_start          spill_stop       hrs       cause  \\\n",
       "0 2019-03-10 13:16:00 2019-03-10 14:40:00  1.400000      Grease   \n",
       "1 2019-03-10 14:25:00 2019-03-10 15:45:00  1.333333      Grease   \n",
       "2 2019-03-09 18:00:00 2019-03-09 19:30:00  1.500000  Structural   \n",
       "3 2019-03-09 15:37:00 2019-03-09 17:00:00  1.383333      Grease   \n",
       "4 2019-03-06 09:40:00 2019-03-06 09:55:00  0.250000  Structural   \n",
       "\n",
       "                                                                                               comments  \\\n",
       "0  Spill ContainedReturned to SystemArea Cleaned and DisinfectedFlushed Area with H2O, Unstopped Main,    \n",
       "1                                                           Spill ContainedArea Cleaned and Disinfected   \n",
       "2                    Spill ContainedArea Cleaned and DisinfectedFlushed Area with H2O, Unstopped Main,    \n",
       "3                    Spill ContainedArea Cleaned and DisinfectedFlushed Area with H2O, Unstopped Main,    \n",
       "4                    Spill ContainedArea Cleaned and DisinfectedFlushed Area with H2O, Unstopped Main,    \n",
       "\n",
       "        actions     watershed unit_id unit_id2 discharge_to discharge_route  \\\n",
       "0  CLEANED MAIN  SALADO CREEK   66918    66917       STREET            None   \n",
       "1  CLEANED MAIN      DOS RIOS   24250    24193   STORMDRAIN            None   \n",
       "2  CLEANED MAIN      DOS RIOS    2822     3351        ALLEY            None   \n",
       "3           NaN  SALADO CREEK   92804    92805     EASEMENT            None   \n",
       "4  CLEANED MAIN  SALADO CREEK   61141    49543       STREET            None   \n",
       "\n",
       "  council_district  month  year  week  earz_zone  pipe_diam  pipe_len  \\\n",
       "0              nan      3  2019    11        0.0        8.0     16.55   \n",
       "1              3.0      3  2019    11        0.0        8.0    157.00   \n",
       "2              1.0      3  2019    10        0.0        8.0    350.00   \n",
       "3              3.0      3  2019    10        0.0        8.0    213.91   \n",
       "4              2.0      3  2019    10        0.0       12.0    291.90   \n",
       "\n",
       "  pipe_type  inst_year  inches_no  rainfall_last3  \\\n",
       "0       PVC     1997.0        NaN             NaN   \n",
       "1       PVC     1988.0        NaN             NaN   \n",
       "2        CP     1955.0        NaN             NaN   \n",
       "3       PVC     1983.0        NaN             NaN   \n",
       "4        CP     1952.0        NaN             NaN   \n",
       "\n",
       "                            spill_address_full  num_spills_recorded  \\\n",
       "0  3200 THOUSAND OAKS DR, San Antonio, TX, USA                    1   \n",
       "1          6804 S FLORES, San Antonio, TX, USA                    1   \n",
       "2    215 Audrey Alene Dr, San Antonio, TX, USA                    1   \n",
       "3    3602 SE MILITARY DR, San Antonio, TX, USA                    1   \n",
       "4           100 PANSY LN, San Antonio, TX, USA                    2   \n",
       "\n",
       "   num_spills_24mos      prevspill_24mos unit_type  asset_type last_cleaned  \\\n",
       "0               1.0                    0   GRAVITY  Sewer Main          NaT   \n",
       "1               1.0                    0   GRAVITY  Sewer Main          NaT   \n",
       "2               1.0                    0   GRAVITY  Sewer Main          NaT   \n",
       "3               1.0                    0   GRAVITY  Sewer Main          NaT   \n",
       "4               2.0  2018-12-15 00:00:00   GRAVITY  Sewer Main          NaT   \n",
       "\n",
       "   response_time       response_dttm  public_notice root_cause  hrs_2  gal_2  \\\n",
       "0           27.0 2019-03-10 13:43:00          False        NaN   0.00    0.0   \n",
       "1           65.0 2019-03-10 15:30:00          False        NaN   0.00    0.0   \n",
       "2           60.0 2019-03-09 19:00:00          False        NaN   1.15   69.0   \n",
       "3           33.0 2019-03-09 16:10:00          False        NaN   0.00    0.0   \n",
       "4            0.0 2019-03-06 09:40:00          False        NaN   0.00    0.0   \n",
       "\n",
       "   hrs_3  gal_3  days_since_cleaned  \\\n",
       "0    0.0    0.0                 NaN   \n",
       "1    0.0    0.0                 NaN   \n",
       "2    0.0    0.0                 NaN   \n",
       "3    0.0    0.0                 NaN   \n",
       "4    0.0    0.0                 NaN   \n",
       "\n",
       "                                                                                                                                                    location  \\\n",
       "0   (3200, Thousand Oaks Drive, Horseshoe Bend, Lost Creek, Austin, Travis County, Texas, 78746, United States of America, (30.2659455, -97.80399402173913))   \n",
       "1                                                           (Flores, West Odessa, Ector County, Texas, United States of America, (31.8547839, -102.5017913))   \n",
       "2                     (215, Audrey Alene Drive, San Antonio, Bexar County, Texas, 78216, United States of America, (29.503348142857142, -98.50358214285714))   \n",
       "3  (Quality Suites, Southeast Military Drive, Hilltop, San Antonio, Bexar County, Texas, 78223, United States of America, (29.352909500000003, -98.4253423))   \n",
       "4                                                   (Pansy Lane, San Antonio, Bexar County, Texas, 78209, United States of America, (29.488062, -98.435963))   \n",
       "\n",
       "  zip_code  \n",
       "0    78746  \n",
       "1    Texas  \n",
       "2    78216  \n",
       "3    78223  \n",
       "4    78209  "
      ]
     },
     "execution_count": 20,
     "metadata": {},
     "output_type": "execute_result"
    }
   ],
   "source": [
    "df.head()"
   ]
  },
  {
   "cell_type": "code",
   "execution_count": 11,
   "metadata": {},
   "outputs": [
    {
     "data": {
      "text/plain": [
       "0      40205\n",
       "1      S2147\n",
       "2      78216\n",
       "3      78223\n",
       "4      25039\n",
       "5      78210\n",
       "6      78245\n",
       "7      21216\n",
       "8       3306\n",
       "9      78201\n",
       "10     78258\n",
       "11     78201\n",
       "12     78261\n",
       "13     78223\n",
       "14     95118\n",
       "15     78242\n",
       "16     78261\n",
       "17     78503\n",
       "18     78242\n",
       "19     78254\n",
       "Name: zip_code, dtype: object"
      ]
     },
     "execution_count": 11,
     "metadata": {},
     "output_type": "execute_result"
    }
   ],
   "source": [
    "df.zip_code"
   ]
  },
  {
   "cell_type": "code",
   "execution_count": null,
   "metadata": {},
   "outputs": [],
   "source": [
    "if os.path.isfile('sso_dict.csv'):\n",
    "    df_dict = pd.read_csv('sso_dict.csv')\n",
    "else:\n",
    "    url_sso_dict = '''https://storage.googleapis.com/sa_saws_data/SAWS_SSO_DataFieldDescription_MM.xlsx'''\n",
    "    df_dict = pd.read_excel(url_sso_dict)\n",
    "    df_dict.to_csv('sso_dict.csv', index=False)"
   ]
  },
  {
   "cell_type": "code",
   "execution_count": null,
   "metadata": {
    "scrolled": true
   },
   "outputs": [],
   "source": [
    "df_dict"
   ]
  },
  {
   "cell_type": "code",
   "execution_count": null,
   "metadata": {},
   "outputs": [],
   "source": [
    "# df = acquire_sso.acquire_sso()"
   ]
  },
  {
   "cell_type": "code",
   "execution_count": null,
   "metadata": {},
   "outputs": [],
   "source": [
    "# df.head(1)"
   ]
  },
  {
   "cell_type": "code",
   "execution_count": null,
   "metadata": {},
   "outputs": [],
   "source": [
    "# df = prepare_sso.prepare_sso_df()\n",
    "# df.head(1)"
   ]
  },
  {
   "cell_type": "code",
   "execution_count": null,
   "metadata": {},
   "outputs": [],
   "source": [
    "# df = prepare.prepare_sso_df()\n",
    "# print(df.shape[0])\n",
    "# df.head(1)"
   ]
  },
  {
   "cell_type": "code",
   "execution_count": null,
   "metadata": {},
   "outputs": [],
   "source": [
    "# df.columns = ['sso_id','report_date','spill_address_num','spill_st_name',\n",
    "#  'total_gal','gals_ret','spill_start','spill_stop','hrs','cause',\n",
    "#  'comments','actions','watershed','unit_id','unit_id2','discharge_to',\n",
    "#  'discharge_route','council_district','month','year','week',\n",
    "#  'earz_zone','pipe_diam','pipe_len','pipe_type','inst_year','inches_no',\n",
    "#  'rainfall_last3','spill_address_full','num_spills_recorded',\n",
    "#  'num_spills_24mos','prevspill_24mos','unit_type','asset_type',\n",
    "#  'last_cleaned','response_time','response_dttm','public_notice',\n",
    "#  'root_cause','hrs_2','gal_2','hrs_3','gal_3','days_since_cleaned']"
   ]
  },
  {
   "cell_type": "code",
   "execution_count": null,
   "metadata": {},
   "outputs": [],
   "source": [
    "# df.head(1)"
   ]
  },
  {
   "cell_type": "code",
   "execution_count": null,
   "metadata": {},
   "outputs": [],
   "source": [
    "# df.ResponseTime * 60"
   ]
  },
  {
   "cell_type": "code",
   "execution_count": null,
   "metadata": {},
   "outputs": [],
   "source": [
    "# df.shape"
   ]
  },
  {
   "cell_type": "code",
   "execution_count": null,
   "metadata": {},
   "outputs": [],
   "source": [
    "# df_dict.shape"
   ]
  },
  {
   "cell_type": "code",
   "execution_count": null,
   "metadata": {},
   "outputs": [],
   "source": [
    "# df_dict['Data Description'].value_counts()"
   ]
  },
  {
   "cell_type": "code",
   "execution_count": null,
   "metadata": {},
   "outputs": [],
   "source": [
    "# unused = ['Disregard','Ignore','Service Req # (internal use only)',\n",
    "#           'Not Used','Old mapping system reference (internal only)']\n",
    "# df_dict[df_dict['Data Description'].isin(unused)]"
   ]
  },
  {
   "cell_type": "code",
   "execution_count": null,
   "metadata": {},
   "outputs": [],
   "source": [
    "# ready1_dict = df_dict[~df_dict['Data Description'].isin(unused)]\n",
    "# print(len(ready1_dict))\n",
    "# ready1_dict"
   ]
  },
  {
   "cell_type": "code",
   "execution_count": null,
   "metadata": {},
   "outputs": [],
   "source": [
    "# null_fields = ['SPILL_START_2','SPILL_START_3',\n",
    "#                'SPILL_STOP_2','SPILL_STOP_3']\n",
    "# final_dict = ready1_dict[~ready1_dict.Field.isin(null_fields)]\\\n",
    "#                     .reset_index(drop=True)\n",
    "# len(final_dict)"
   ]
  },
  {
   "cell_type": "code",
   "execution_count": null,
   "metadata": {},
   "outputs": [],
   "source": [
    "# final_dict"
   ]
  },
  {
   "cell_type": "code",
   "execution_count": null,
   "metadata": {},
   "outputs": [],
   "source": [
    "# features_to_use = list(final_dict.Field)\n",
    "# len(features_to_use)"
   ]
  },
  {
   "cell_type": "code",
   "execution_count": null,
   "metadata": {},
   "outputs": [],
   "source": [
    "# bad_features = list(df.columns[~df.columns.isin(features_to_use)])"
   ]
  },
  {
   "cell_type": "code",
   "execution_count": null,
   "metadata": {},
   "outputs": [],
   "source": [
    "# df = df.drop(columns=bad_features)\n",
    "# df = df.drop(columns = ['TIMEINT','STEPS_TO_PREVENT'])\n",
    "# df.shape"
   ]
  },
  {
   "cell_type": "code",
   "execution_count": null,
   "metadata": {},
   "outputs": [],
   "source": [
    "# string_features = ['SSO_ID','SPILL_ADDRESS','COUNCIL_DISTRICT',]\n",
    "# for col in string_features:\n",
    "#     df[col] = df[col].astype(str)\n",
    "    \n",
    "# time_features = ['REPORTDATE','SPILL_START','SPILL_STOP',\n",
    "#                  'ResponseDTTM', 'LASTCLND']\n",
    "# for col in time_features:\n",
    "#     df[col] = pd.to_datetime(df[col])\n",
    "    \n",
    "# fill_features = ['NUM_SPILLS_24MOS','PREVSPILL_24MOS','HRS_2',\n",
    "#                 'HRS_3','GAL_2','GAL_3']\n",
    "# for col in fill_features:\n",
    "#     df[col] = df[col].fillna(0)\n",
    "    \n",
    "# df.Root_Cause = df.Root_Cause.str.strip()"
   ]
  },
  {
   "cell_type": "code",
   "execution_count": null,
   "metadata": {},
   "outputs": [],
   "source": [
    "# df['days_since_cleaned'] = (df.SPILL_START - df.LASTCLND).dt.days"
   ]
  },
  {
   "cell_type": "code",
   "execution_count": null,
   "metadata": {},
   "outputs": [],
   "source": [
    "# df['country_address'] = df.spill_address_full + \\\n",
    "#                                   ',SAN ANTONIO,Texas,USA'\n",
    "# df.country_address"
   ]
  },
  {
   "cell_type": "code",
   "execution_count": null,
   "metadata": {},
   "outputs": [],
   "source": [
    "# df[['country_address']].head(25)"
   ]
  },
  {
   "cell_type": "code",
   "execution_count": null,
   "metadata": {},
   "outputs": [],
   "source": [
    "# for i in range(df.index.max()//5):\n",
    "#     print([1*i+5, 2*i+5, 3*i + 5])"
   ]
  },
  {
   "cell_type": "code",
   "execution_count": null,
   "metadata": {},
   "outputs": [],
   "source": [
    "# lmo = pd.DataFrame()\n",
    "# lmo['loc'] = ['string','fnish']\n",
    "# lmo['was'] = [2,3]\n",
    "# lmo.was[1] = 4\n",
    "# lmo"
   ]
  },
  {
   "cell_type": "code",
   "execution_count": null,
   "metadata": {},
   "outputs": [],
   "source": [
    "# locator = Nominatim(user_agent=\"myGeocoder\")\n",
    "# geocode = RateLimiter(locator.geocode, min_delay_seconds=.1)\n",
    "# test2 = pd.Series()\n",
    "\n",
    "# counter = 10\n",
    "# for i in range(0, df.index.max(), 10):\n",
    "#     test = df[['country_address']][i:counter]\n",
    "#     test['location'] = test['country_address'].apply(geocode)\n",
    "#     test['zip_code'] = 'None'\n",
    "#     for t,l in enumerate(test.location):\n",
    "#         if l is not None:\n",
    "#             test['zip_code'][counter+t-10] = l.raw['display_name']\\\n",
    "#                                     .split(',')[-2]\n",
    "#     time.sleep(2)\n",
    "#     test2 = test2.append(test.zip_code)\n",
    "#     counter+=10\n",
    "# test2"
   ]
  },
  {
   "cell_type": "markdown",
   "metadata": {},
   "source": [
    "### Working"
   ]
  },
  {
   "cell_type": "code",
   "execution_count": null,
   "metadata": {},
   "outputs": [],
   "source": [
    "# locator = Nominatim(user_agent=\"myGeocoder\")\n",
    "# geocode = RateLimiter(locator.geocode, min_delay_seconds=.1, \n",
    "#                      max_retries=10, error_wait_seconds=1)\n",
    "# df['location'] = df['country_address'].apply(geocode)\n",
    "# df['zip_code'] = 'None'"
   ]
  },
  {
   "cell_type": "code",
   "execution_count": null,
   "metadata": {},
   "outputs": [],
   "source": [
    "# for t,l in enumerate(df.location):\n",
    "#         if l is not None:\n",
    "#             df['zip_code'][t] = l.raw['display_name']\\\n",
    "#                                     .split(',')[-2]"
   ]
  },
  {
   "cell_type": "code",
   "execution_count": null,
   "metadata": {},
   "outputs": [],
   "source": [
    "# df = prepare.prepare_sso_with_zipcodes()\n",
    "# print(df.shape[0])\n",
    "# df.head(1)"
   ]
  },
  {
   "cell_type": "markdown",
   "metadata": {},
   "source": [
    "# Exploration"
   ]
  },
  {
   "cell_type": "code",
   "execution_count": null,
   "metadata": {},
   "outputs": [],
   "source": [
    "df = prepare.get_data()\n",
    "print(df.shape)\n",
    "df.head(1)"
   ]
  },
  {
   "cell_type": "code",
   "execution_count": null,
   "metadata": {},
   "outputs": [],
   "source": [
    "df.root_cause.isna().sum()"
   ]
  },
  {
   "cell_type": "code",
   "execution_count": null,
   "metadata": {},
   "outputs": [],
   "source": [
    "df.root_cause.value_counts(dropna=False)"
   ]
  },
  {
   "cell_type": "code",
   "execution_count": null,
   "metadata": {},
   "outputs": [],
   "source": [
    "train, test = train_test_split(df, random_state=42, train_size=.8,\n",
    "                              stratify=df.root_cause)"
   ]
  },
  {
   "cell_type": "code",
   "execution_count": null,
   "metadata": {},
   "outputs": [],
   "source": [
    "train.zip_code.value_counts().head(5)"
   ]
  },
  {
   "cell_type": "code",
   "execution_count": null,
   "metadata": {},
   "outputs": [],
   "source": [
    "train.isna().sum()"
   ]
  },
  {
   "cell_type": "code",
   "execution_count": null,
   "metadata": {},
   "outputs": [],
   "source": [
    "train.spill_address_full.head(15)"
   ]
  },
  {
   "cell_type": "code",
   "execution_count": null,
   "metadata": {},
   "outputs": [],
   "source": [
    "train.days_since_cleaned.dropna()"
   ]
  },
  {
   "cell_type": "code",
   "execution_count": null,
   "metadata": {},
   "outputs": [],
   "source": [
    "train[train.days_since_cleaned == train.days_since_cleaned.max()]"
   ]
  },
  {
   "cell_type": "code",
   "execution_count": null,
   "metadata": {},
   "outputs": [],
   "source": [
    "features = df.isna().sum() / df.shape[0]\n",
    "bad_list = features[features > .4]\n",
    "print(len(bad_list))\n",
    "bad_list"
   ]
  },
  {
   "cell_type": "code",
   "execution_count": null,
   "metadata": {},
   "outputs": [],
   "source": [
    "train.drop(columns='hours_spilled')\\\n",
    "    .describe().apply(lambda s: s.apply(lambda x: format(x, 'f')))"
   ]
  },
  {
   "cell_type": "code",
   "execution_count": null,
   "metadata": {},
   "outputs": [],
   "source": [
    "len(train.report_date.unique())"
   ]
  },
  {
   "cell_type": "code",
   "execution_count": null,
   "metadata": {},
   "outputs": [],
   "source": [
    "train[train.num_spills_recorded == train.num_spills_recorded.max()]"
   ]
  },
  {
   "cell_type": "code",
   "execution_count": null,
   "metadata": {},
   "outputs": [],
   "source": [
    "train[train.total_gal.isin(list(train.total_gal.nlargest(8)))]"
   ]
  },
  {
   "cell_type": "code",
   "execution_count": null,
   "metadata": {
    "scrolled": false
   },
   "outputs": [],
   "source": [
    "train.age_binned.dropna().value_counts().sort_index().plot.bar()\n",
    "plt.xticks(rotation=45)\n",
    "\n",
    "plt.ylabel('Count of binned age')\n",
    "plt.xlabel('Binned age')\n",
    "plt.title('Binned age of sewers')\n",
    "plt.show()"
   ]
  },
  {
   "cell_type": "code",
   "execution_count": null,
   "metadata": {},
   "outputs": [],
   "source": [
    "ax = train.groupby('root_cause').days_since_cleaned.mean()\\\n",
    "    .sort_values(ascending=False).dropna().plot.barh()\n",
    "ax.set_ylabel('')\n",
    "ax.set_xlabel('Average days since cleaning')\n",
    "plt.title('Average days since cleaning by root cause')\n",
    "plt.show()"
   ]
  },
  {
   "cell_type": "code",
   "execution_count": null,
   "metadata": {},
   "outputs": [],
   "source": [
    "ax = train.groupby('root_cause').total_gal.median()\\\n",
    "    .sort_values(ascending=False).dropna().plot.barh()\n",
    "ax.set_ylabel('')\n",
    "ax.set_xlabel('Median gallons spilled')\n",
    "plt.title('Median gallons spilled by root cause')\n",
    "plt.show()"
   ]
  },
  {
   "cell_type": "code",
   "execution_count": null,
   "metadata": {},
   "outputs": [],
   "source": [
    "train['total_gal_binned'].value_counts().sort_index().plot.bar()\n",
    "plt.xticks(rotation=45)"
   ]
  },
  {
   "cell_type": "code",
   "execution_count": null,
   "metadata": {},
   "outputs": [],
   "source": [
    "train[train.days_since_cleaned == train.days_since_cleaned.max()]"
   ]
  },
  {
   "cell_type": "code",
   "execution_count": null,
   "metadata": {},
   "outputs": [],
   "source": [
    "train[train.inst_year == train.inst_year.max()].shape"
   ]
  },
  {
   "cell_type": "code",
   "execution_count": null,
   "metadata": {},
   "outputs": [],
   "source": [
    "df.zip_code.value_counts()"
   ]
  },
  {
   "cell_type": "code",
   "execution_count": null,
   "metadata": {},
   "outputs": [],
   "source": [
    "df.inches_no.isna().sum()"
   ]
  },
  {
   "cell_type": "code",
   "execution_count": null,
   "metadata": {},
   "outputs": [],
   "source": [
    "df[df.age=='unknown'].shape"
   ]
  },
  {
   "cell_type": "code",
   "execution_count": null,
   "metadata": {},
   "outputs": [],
   "source": [
    "df.age = df.age.replace('unknown', 0)\n",
    "df.age = df.age.replace(0, df.age.median())"
   ]
  },
  {
   "cell_type": "code",
   "execution_count": null,
   "metadata": {},
   "outputs": [],
   "source": [
    "df.age"
   ]
  },
  {
   "cell_type": "code",
   "execution_count": null,
   "metadata": {
    "scrolled": true
   },
   "outputs": [],
   "source": [
    "df.pipe_len.isna().sum()"
   ]
  },
  {
   "cell_type": "code",
   "execution_count": null,
   "metadata": {},
   "outputs": [],
   "source": [
    "df.pipe_diam.isna().sum()"
   ]
  },
  {
   "cell_type": "code",
   "execution_count": null,
   "metadata": {},
   "outputs": [],
   "source": [
    "df.days_since_cleaned.median()"
   ]
  },
  {
   "cell_type": "code",
   "execution_count": null,
   "metadata": {},
   "outputs": [],
   "source": [
    "df[df.zip_code=='78245'].root_cause.value_counts()"
   ]
  },
  {
   "cell_type": "code",
   "execution_count": null,
   "metadata": {},
   "outputs": [],
   "source": [
    "root_cause_zipcode = df.groupby('zip_code').root_cause.apply(\n",
    "        lambda x: x.value_counts().head(1))\n",
    "# root_cause_zipcode.to_csv('root_cause_zipcode.csv')\n",
    "root_cause_zipcode.sort_values().tail(40)"
   ]
  },
  {
   "cell_type": "code",
   "execution_count": null,
   "metadata": {},
   "outputs": [],
   "source": [
    "train.pipe_type.value_counts()"
   ]
  },
  {
   "cell_type": "code",
   "execution_count": null,
   "metadata": {
    "scrolled": false
   },
   "outputs": [],
   "source": [
    "train.groupby('age_binned').total_gal.median()\\\n",
    "    .sort_values(ascending=False)"
   ]
  },
  {
   "cell_type": "code",
   "execution_count": null,
   "metadata": {},
   "outputs": [],
   "source": [
    "train.root_cause.value_counts()"
   ]
  },
  {
   "cell_type": "code",
   "execution_count": null,
   "metadata": {},
   "outputs": [],
   "source": [
    "train.head(1)"
   ]
  },
  {
   "cell_type": "code",
   "execution_count": null,
   "metadata": {},
   "outputs": [],
   "source": [
    "train[train.root_cause == 'other']['cause'].value_counts()"
   ]
  },
  {
   "cell_type": "code",
   "execution_count": null,
   "metadata": {},
   "outputs": [],
   "source": [
    "top_worst_spills = train[train.total_gal.isin(\n",
    "                            train.total_gal.nlargest(15))]\n",
    "top_worst_spills[['age_binned','total_gal']]\\\n",
    "    .sort_values('total_gal', ascending=False)"
   ]
  },
  {
   "cell_type": "code",
   "execution_count": null,
   "metadata": {},
   "outputs": [],
   "source": [
    "top_bins = top_worst_spills.sort_values(by='total_gal', \n",
    "                        ).age_binned.value_counts()\n",
    "top_bins[top_bins>0]"
   ]
  },
  {
   "cell_type": "code",
   "execution_count": null,
   "metadata": {},
   "outputs": [],
   "source": [
    "train.groupby('age_binned').total_gal.mean()\\\n",
    "            .dropna().sort_values().tail(6)"
   ]
  },
  {
   "cell_type": "code",
   "execution_count": null,
   "metadata": {},
   "outputs": [],
   "source": [
    "ax = train.groupby('age_binned').total_gal.median()\\\n",
    "            .dropna().sort_values().tail(6).plot.barh()\n",
    "xlabels = ['{:,.1f}'.format(x) +'K' \n",
    "                   for x in ax.get_xticks()/1000]\n",
    "ax.set_xticklabels(xlabels)\n",
    "ax.set_xlabel('Median gallons spilled')\n",
    "ax.set_ylabel('Age binned')\n",
    "plt.title('Median gallons spilled by binned age')\n",
    "plt.show()"
   ]
  },
  {
   "cell_type": "code",
   "execution_count": null,
   "metadata": {},
   "outputs": [],
   "source": [
    "ax = train.groupby('age_binned').total_gal.mean()\\\n",
    "            .dropna().sort_values().tail(6).plot.barh()\n",
    "xlabels = ['{:,.0f}'.format(x) +'K' \n",
    "                   for x in ax.get_xticks()/1000]\n",
    "ax.set_xticklabels(xlabels)\n",
    "ax.set_xlabel('Average gallons spilled')\n",
    "ax.set_ylabel('Age binned')\n",
    "plt.title('Average gallons spilled by binned age')\n",
    "plt.show()"
   ]
  },
  {
   "cell_type": "code",
   "execution_count": null,
   "metadata": {},
   "outputs": [],
   "source": [
    "# num_spills_recorded, num_spills_24mos"
   ]
  },
  {
   "cell_type": "code",
   "execution_count": null,
   "metadata": {},
   "outputs": [],
   "source": [
    "sns.barplot(train.num_spills_recorded, train.root_cause)\n",
    "plt.xlabel('Average number of spills')\n",
    "plt.ylabel('')\n",
    "plt.title('Average number of spill recorded by root cause of event')\n",
    "plt.show()"
   ]
  },
  {
   "cell_type": "code",
   "execution_count": null,
   "metadata": {},
   "outputs": [],
   "source": [
    "# train.groupby('root_cause').num_spills_24mos.sum()\n",
    "df.root_cause.value_counts()"
   ]
  },
  {
   "cell_type": "code",
   "execution_count": null,
   "metadata": {},
   "outputs": [],
   "source": [
    "sns.swarmplot(train.root_cause, train.num_spills_24mos)\n",
    "plt.xlabel('Root cause')\n",
    "plt.ylabel('Number of spills')\n",
    "plt.title(\n",
    "'Number of spills in last 24 months by root cause of event')\n",
    "plt.show()"
   ]
  },
  {
   "cell_type": "code",
   "execution_count": null,
   "metadata": {},
   "outputs": [],
   "source": [
    "sns.barplot(train.num_spills_24mos, train.root_cause)\n",
    "plt.xlabel('Average number of spills')\n",
    "plt.ylabel('')\n",
    "plt.title(\n",
    "'Average number of spills in last 24 months by root cause of event')\n",
    "plt.show()"
   ]
  },
  {
   "cell_type": "code",
   "execution_count": null,
   "metadata": {},
   "outputs": [],
   "source": [
    "df.to_csv('cleaned_df.csv')"
   ]
  },
  {
   "cell_type": "markdown",
   "metadata": {},
   "source": [
    "## Make data useable for modeling"
   ]
  },
  {
   "cell_type": "code",
   "execution_count": null,
   "metadata": {
    "scrolled": true
   },
   "outputs": [],
   "source": [
    "list(df.columns)"
   ]
  },
  {
   "cell_type": "code",
   "execution_count": null,
   "metadata": {},
   "outputs": [],
   "source": [
    "# df.inst_year = df.inst_year[df.inst_year!='unknown']"
   ]
  },
  {
   "cell_type": "code",
   "execution_count": null,
   "metadata": {},
   "outputs": [],
   "source": [
    "# df.last_cleaned.value_counts()"
   ]
  },
  {
   "cell_type": "code",
   "execution_count": null,
   "metadata": {},
   "outputs": [],
   "source": [
    "# unwanted = ['spill_st_name','comments','actions','discharge_to',\n",
    "#            'discharge_route','spill_address_full','prevspill_24mos',\n",
    "#            'last_cleaned','country_address','location']\n",
    "# categorical_columns = [col for col in list(\n",
    "#                 df.dtypes[df.dtypes=='O'].index) \n",
    "#                  if col not in unwanted]"
   ]
  },
  {
   "cell_type": "code",
   "execution_count": null,
   "metadata": {},
   "outputs": [],
   "source": [
    "columns_to_drop_from_model = [\n",
    "    \"sso_id\",\"report_date\",\"spill_address_num\",\"spill_st_name\",\n",
    "    \"spill_stop\",\"spill_start\",\"cause\",\"comments\",\"actions\",\n",
    "    \"month\",\"year\",\"week\",\"spill_address_full\",\"last_cleaned\",\n",
    "    \"response_dttm\",\"prevspill_24mos\",\"public_notice\",\n",
    "    \"country_address\",\"location\",\"inches_no\",\"rainfall_last3\",\n",
    "    \"unit_id\",\"unit_id2\",\"zip_code\",\"discharge_to\",\"discharge_route\",\n",
    "    \"council_district\",\"hours_spilled\",\"hrs\",\"gals_ret\",\n",
    "    \"response_time\"\n",
    "]\n",
    "\n",
    "df2 = df.copy().drop(columns=columns_to_drop_from_model)\n",
    "print(df2.shape)\n",
    "df2.head(1)"
   ]
  },
  {
   "cell_type": "code",
   "execution_count": null,
   "metadata": {},
   "outputs": [],
   "source": [
    "\n",
    "categorical_columns = [\n",
    "    \"watershed\",\n",
    "    \"earz_zone\",\n",
    "    \"pipe_type\",\n",
    "    \"inst_year\",\n",
    "    \"unit_type\",\n",
    "    \"asset_type\",\n",
    "    \"age_binned\",\n",
    "    \"total_gal_binned\"\n",
    "    \n",
    "]\n",
    "\n",
    "for column in categorical_columns:\n",
    "    if is_numeric_dtype(df2[f\"{column}\"]):\n",
    "        values = df2[f\"{column}\"].unique()\n",
    "        for value in values:\n",
    "            df2[f\"{column}_is_{value}\"]=(df2[f\"{column}\"] == value)\\\n",
    "                    .astype(int)\n",
    "        df2 = df2.drop(columns=column)\n",
    "    elif is_string_dtype(df2[f\"{column}\"]):\n",
    "        values = df2[f\"{column}\"].astype(str).str.lower().unique()\n",
    "        for value in values:\n",
    "            df2[f\"{column}_is_{value}\"]=(df2[f\"{column}\"] == value)\\\n",
    "                .astype(int)\n",
    "        df2 = df2.drop(columns=column)"
   ]
  },
  {
   "cell_type": "code",
   "execution_count": null,
   "metadata": {},
   "outputs": [],
   "source": [
    "df2.head(1)"
   ]
  },
  {
   "cell_type": "code",
   "execution_count": null,
   "metadata": {},
   "outputs": [],
   "source": [
    "df2.root_cause.value_counts(dropna=False)"
   ]
  },
  {
   "cell_type": "code",
   "execution_count": null,
   "metadata": {},
   "outputs": [],
   "source": [
    "# other_causes = ['vandalism','roots','i/i','by pass pump leak']\n",
    "# for cause in other_causes:\n",
    "#     df2.root_cause = df2.root_cause.replace(cause, 'other')\n",
    "# df2.root_cause.value_counts()"
   ]
  },
  {
   "cell_type": "code",
   "execution_count": null,
   "metadata": {},
   "outputs": [],
   "source": [
    "X = df2.drop(columns='root_cause')\n",
    "y = df2.root_cause\n",
    "\n",
    "X_train, X_test, y_train, y_test = \\\n",
    "    train_test_split(X, y, train_size=.8, random_state=13, \n",
    "                    stratify=y)\n",
    "X_train, X_val, y_train, y_val = \\\n",
    "    train_test_split(X_train, y_train, train_size=.75,\n",
    "                     random_state=13, stratify=y_train)"
   ]
  },
  {
   "cell_type": "markdown",
   "metadata": {},
   "source": [
    "### Decision Tree"
   ]
  },
  {
   "cell_type": "code",
   "execution_count": null,
   "metadata": {},
   "outputs": [],
   "source": [
    "params = {'max_depth': range(1,13), 'min_samples_leaf': range(1,7),\n",
    "          'criterion': ['gini', 'entropy']}\n",
    "model = DecisionTreeClassifier(random_state=13)\n",
    "grid = GridSearchCV(model, params, cv=None, iid=True)\n",
    "grid.fit(X_train, y_train)\n",
    "print(grid.best_params_)"
   ]
  },
  {
   "cell_type": "code",
   "execution_count": null,
   "metadata": {},
   "outputs": [],
   "source": [
    "results = grid.cv_results_\n",
    "for score, p in zip(results['mean_test_score'], results['params']):\n",
    "    p['score'] = score\n",
    "pd.DataFrame(results['params']).sort_values('score').tail(5)"
   ]
  },
  {
   "cell_type": "code",
   "execution_count": null,
   "metadata": {},
   "outputs": [],
   "source": [
    "tree = DecisionTreeClassifier(max_depth=4, min_samples_leaf=4,\n",
    "                              criterion='entropy',random_state=13)\n",
    "tree.fit(X_train, y_train)\n",
    "y_pred = tree.predict(X_train)\n",
    "print(f'Accuracy Score on Train: \\\n",
    "    {tree.score(X_train, y_train) * 100:.2f}%')\n",
    "print(f'Accuracy Score on Val: \\\n",
    "    {tree.score(X_val, y_val) * 100:.2f}%')"
   ]
  },
  {
   "cell_type": "code",
   "execution_count": null,
   "metadata": {},
   "outputs": [],
   "source": [
    "pd.DataFrame(classification_report(y_train, y_pred,\n",
    "                                   output_dict=True)).T"
   ]
  },
  {
   "cell_type": "markdown",
   "metadata": {},
   "source": [
    "68% on 742 points\n",
    "\n",
    "80% on 241 points\n",
    "\n",
    "88% on 84  points\n",
    "\n",
    "39% on 367 points\n",
    "\n",
    "00% on 266 points"
   ]
  },
  {
   "cell_type": "code",
   "execution_count": null,
   "metadata": {},
   "outputs": [],
   "source": [
    "print(pd.Series([.68,.80,.88]).mean())\n",
    "print((742+241+84)/1909)"
   ]
  },
  {
   "cell_type": "code",
   "execution_count": null,
   "metadata": {},
   "outputs": [],
   "source": [
    "print(pd.Series([.68,.80,.88,.39]).mean())\n",
    "print((742+241+84+367)/1909)"
   ]
  },
  {
   "cell_type": "code",
   "execution_count": null,
   "metadata": {},
   "outputs": [],
   "source": [
    "print(pd.Series([.68,.80,.88,.39,.00]).mean())\n",
    "print((742+241+84+367+266)/1909)"
   ]
  },
  {
   "cell_type": "code",
   "execution_count": null,
   "metadata": {},
   "outputs": [],
   "source": [
    "print(f'Accuracy Score on Test: \\\n",
    "    {tree.score(X_test, y_test) * 100:.2f}%')"
   ]
  },
  {
   "cell_type": "markdown",
   "metadata": {},
   "source": [
    "### Logistic Regression"
   ]
  },
  {
   "cell_type": "code",
   "execution_count": null,
   "metadata": {},
   "outputs": [],
   "source": [
    "model = LogisticRegression(random_state = 13).fit(X_train, y_train)\n",
    "y_pred = model.predict(X_train)\n",
    "y_pred_prob = model.predict_proba(X_train)\n",
    "\n",
    "print(f'Accuracy Score on Train: \\\n",
    "    {model.score(X_train, y_train) * 100:.2f}%')\n",
    "print(f'Accuracy Score on Val: \\\n",
    "    {model.score(X_val, y_val) * 100:.2f}%')"
   ]
  },
  {
   "cell_type": "code",
   "execution_count": null,
   "metadata": {},
   "outputs": [],
   "source": [
    "pd.DataFrame(classification_report(y_train, y_pred,\n",
    "                                   output_dict=True)).T"
   ]
  },
  {
   "cell_type": "markdown",
   "metadata": {},
   "source": [
    "### Random Forest"
   ]
  },
  {
   "cell_type": "code",
   "execution_count": null,
   "metadata": {},
   "outputs": [],
   "source": [
    "params = {'max_depth': range(1,13), 'min_samples_leaf': range(1,4),}\n",
    "          #'criterion': ['gini', 'entropy']}\n",
    "model = RandomForestClassifier(random_state=13)\n",
    "grid = GridSearchCV(model, params, cv=None, iid=True)\n",
    "grid.fit(X_train, y_train)\n",
    "print(grid.best_params_)"
   ]
  },
  {
   "cell_type": "code",
   "execution_count": null,
   "metadata": {},
   "outputs": [],
   "source": [
    "results = grid.cv_results_\n",
    "for score, p in zip(results['mean_test_score'], results['params']):\n",
    "    p['score'] = score\n",
    "pd.DataFrame(results['params']).sort_values('score').tail(5)"
   ]
  },
  {
   "cell_type": "code",
   "execution_count": null,
   "metadata": {},
   "outputs": [],
   "source": [
    "# forest = RandomForestClassifier(random_state=42, \n",
    "#     min_samples_leaf=1, max_depth=10, \n",
    "#     criterion='entropy').fit(X_train, y_train)\n",
    "forest = RandomForestClassifier(random_state=13, min_samples_leaf=2,\n",
    "                               max_depth=8).fit(X_train, y_train)\n",
    "y_pred = forest.predict(X_train)\n",
    "print(f'Accuracy Score on Train: \\\n",
    "    {forest.score(X_train, y_train) * 100:.2f}%')\n",
    "print(f'Accuracy Score on Val: \\\n",
    "    {forest.score(X_val, y_val) * 100:.2f}%')"
   ]
  },
  {
   "cell_type": "code",
   "execution_count": null,
   "metadata": {},
   "outputs": [],
   "source": [
    "pd.DataFrame(classification_report(y_train, y_pred,\n",
    "                                   output_dict=True)).T"
   ]
  },
  {
   "cell_type": "markdown",
   "metadata": {},
   "source": [
    "### KNeighbors Classifier"
   ]
  },
  {
   "cell_type": "code",
   "execution_count": null,
   "metadata": {},
   "outputs": [],
   "source": [
    "scaler = MinMaxScaler()\n",
    "scaler.fit(X_train)\n",
    "\n",
    "X_train_scaled = pd.DataFrame(scaler.transform(X_train), \n",
    "                      columns=X_train.columns, index=X_train.index)\n",
    "X_val_scaled = pd.DataFrame(scaler.transform(X_val), \n",
    "                        columns=X_val.columns, index=X_val.index)\n",
    "X_test_scaled = pd.DataFrame(scaler.transform(X_test), \n",
    "                        columns=X_test.columns, index=X_test.index)"
   ]
  },
  {
   "cell_type": "code",
   "execution_count": null,
   "metadata": {},
   "outputs": [],
   "source": [
    "params = {'n_neighbors': range(1,13), 'p': range(1,6),}\n",
    "#           'weights': ['uniform', 'distance']}\n",
    "model = KNeighborsClassifier()\n",
    "grid = GridSearchCV(model, params, cv=4, iid=True)\n",
    "grid.fit(X_train_scaled, y_train)\n",
    "print(grid.best_params_)"
   ]
  },
  {
   "cell_type": "code",
   "execution_count": null,
   "metadata": {},
   "outputs": [],
   "source": [
    "results = grid.cv_results_\n",
    "for score, p in zip(results['mean_test_score'], results['params']):\n",
    "    p['score'] = score\n",
    "pd.DataFrame(results['params']).sort_values('score').tail(5)"
   ]
  },
  {
   "cell_type": "code",
   "execution_count": null,
   "metadata": {},
   "outputs": [],
   "source": [
    "knmodel = KNeighborsClassifier(n_neighbors=12, p=1, \n",
    "                ).fit(X_train_scaled, y_train)\n",
    "y_pred = knmodel.predict(X_train_scaled)\n",
    "\n",
    "print(f'Accuracy Score on Train: \\\n",
    "    {knmodel.score(X_train_scaled, y_train) * 100:.2f}%')\n",
    "print(f'Accuracy Score on Val: \\\n",
    "    {knmodel.score(X_val_scaled, y_val) * 100:.2f}%')"
   ]
  },
  {
   "cell_type": "code",
   "execution_count": null,
   "metadata": {},
   "outputs": [],
   "source": [
    "pd.DataFrame(classification_report(y_train, y_pred,\n",
    "                                   output_dict=True)).T"
   ]
  },
  {
   "cell_type": "markdown",
   "metadata": {},
   "source": [
    "68.2% on 742\n",
    "\n",
    "80.0% on 241\n",
    "\n",
    "65.7% on 84\n",
    "\n",
    "40.7% on 367"
   ]
  },
  {
   "cell_type": "code",
   "execution_count": null,
   "metadata": {},
   "outputs": [],
   "source": [
    "print(pd.Series([.682,.80,.657,.407]).mean())\n",
    "print((742+241+84+367)/1909)"
   ]
  },
  {
   "cell_type": "code",
   "execution_count": null,
   "metadata": {},
   "outputs": [],
   "source": []
  }
 ],
 "metadata": {
  "kernelspec": {
   "display_name": "Python 3",
   "language": "python",
   "name": "python3"
  },
  "language_info": {
   "codemirror_mode": {
    "name": "ipython",
    "version": 3
   },
   "file_extension": ".py",
   "mimetype": "text/x-python",
   "name": "python",
   "nbconvert_exporter": "python",
   "pygments_lexer": "ipython3",
   "version": "3.7.6"
  }
 },
 "nbformat": 4,
 "nbformat_minor": 4
}
